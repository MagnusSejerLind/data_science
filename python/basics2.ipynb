{
 "cells": [
  {
   "cell_type": "markdown",
   "id": "33fb5dd4-d471-43c4-bb18-598cb5521749",
   "metadata": {},
   "source": [
    "# Python Basics - Part 2"
   ]
  },
  {
   "cell_type": "markdown",
   "id": "2171418f-2a30-4708-aa52-6850f3b0f875",
   "metadata": {},
   "source": [
    "## If-else statements"
   ]
  },
  {
   "cell_type": "markdown",
   "id": "a979916c-9c20-4f5b-bac1-ccced2939c20",
   "metadata": {},
   "source": [
    "`if-else` statements allows us to tell the machine to perform an action rather than another based on a set of alternatives.\r\n"
   ]
  },
  {
   "cell_type": "code",
   "execution_count": 13,
   "id": "ab0cb401-027a-4c93-b1bc-710881c9759d",
   "metadata": {},
   "outputs": [
    {
     "name": "stdout",
     "output_type": "stream",
     "text": [
      "47 is an odd number\n"
     ]
    }
   ],
   "source": [
    "# print the parity of a given number\n",
    "n = 47\n",
    "if n%2 == 0:\n",
    "    print(f\"{n} is an even number\")\n",
    "else:\n",
    "    print(f\"{p} is an odd number\")"
   ]
  },
  {
   "cell_type": "code",
   "execution_count": 16,
   "id": "3703a404-b0f2-4425-ad8c-61891fddb290",
   "metadata": {},
   "outputs": [
    {
     "name": "stdout",
     "output_type": "stream",
     "text": [
      "6\n"
     ]
    }
   ],
   "source": [
    "# print a number only if it's multiple of 2 or 3\n",
    "n = 6\n",
    "if n%2 == 0 or n%3 == 0:\n",
    "    print(n)\n",
    "else:\n",
    "    # do nothing\n",
    "    pass"
   ]
  },
  {
   "cell_type": "markdown",
   "id": "11c52e35-f9ae-4f73-85c7-3043226fb0d3",
   "metadata": {},
   "source": [
    "We use `elif` to handle more than two statements, as it can be seen in the following example."
   ]
  },
  {
   "cell_type": "code",
   "execution_count": 19,
   "id": "2b0fdf95-c487-41b0-b661-e72f4316b5dd",
   "metadata": {},
   "outputs": [
    {
     "name": "stdout",
     "output_type": "stream",
     "text": [
      "36\n"
     ]
    }
   ],
   "source": [
    "# compute the square of a number if its even, its cube if its divisible by 3,\n",
    "# otherwise the starting number \n",
    "n = 6\n",
    "\n",
    "if n%2 == 0:\n",
    "    print(n**2)\n",
    "elif n%3 == 0:\n",
    "    print(n**3)\n",
    "else:\n",
    "    print(n)"
   ]
  },
  {
   "cell_type": "markdown",
   "id": "1835fa6d-7229-4ea0-951c-076ff7316465",
   "metadata": {},
   "source": [
    "## For loops"
   ]
  },
  {
   "cell_type": "markdown",
   "id": "0def7c01-e85d-4a8e-a098-73b220974035",
   "metadata": {},
   "source": [
    "The `for` loop acts as an iterator in Python. It goes through items that are in a sequence or any other iterable item.\n",
    "It behaves differently according to the data/container type on which we iterate.\n",
    "\n",
    "Similarly, the while loop execute a single or a group of statements as long as the condition is true. "
   ]
  },
  {
   "cell_type": "markdown",
   "id": "d1820a6d-3a14-4c6b-b8b8-4de0919bf753",
   "metadata": {},
   "source": [
    "### Iterating through a list\r\n",
    " "
   ]
  },
  {
   "cell_type": "code",
   "execution_count": 21,
   "id": "70effba2-33b1-41e3-8682-39ce1cd81c05",
   "metadata": {},
   "outputs": [
    {
     "name": "stdout",
     "output_type": "stream",
     "text": [
      "1\n",
      "4\n",
      "Aarhus\n",
      "29\n"
     ]
    }
   ],
   "source": [
    "l = [1,4, \"Aarhus\", 29]\n",
    "# print all the elements of the list\n",
    "for elem in l:\n",
    "    print(elem)"
   ]
  },
  {
   "cell_type": "markdown",
   "id": "10fe2582-dd4c-4f93-a3ea-27310dfb3279",
   "metadata": {},
   "source": [
    "#### enumerate"
   ]
  },
  {
   "cell_type": "markdown",
   "id": "e73730d8-6184-4625-866b-a2ebbd16ddd3",
   "metadata": {},
   "source": [
    "What if, in the previous example, we also want to print the indexes of the elements? There is a method in Python called `enumerate()` that adds a counter to an iterable and returns it in a form of enumerating object."
   ]
  },
  {
   "cell_type": "code",
   "execution_count": 24,
   "id": "1087cb08-6b72-4db4-9059-9ee7ef440ded",
   "metadata": {},
   "outputs": [
    {
     "name": "stdout",
     "output_type": "stream",
     "text": [
      "[(0, 1), (1, 4), (2, 'Aarhus'), (3, 29)]\n"
     ]
    }
   ],
   "source": [
    "# basic example\n",
    "print(list(enumerate(l)))"
   ]
  },
  {
   "cell_type": "code",
   "execution_count": 25,
   "id": "2e127d29-dd72-4522-89f5-db6edbac1e07",
   "metadata": {},
   "outputs": [
    {
     "name": "stdout",
     "output_type": "stream",
     "text": [
      "The 0-element of the list is 1\n",
      "The 1-element of the list is 4\n",
      "The 2-element of the list is Aarhus\n",
      "The 3-element of the list is 29\n"
     ]
    }
   ],
   "source": [
    "for index, elem in enumerate(l):\n",
    "    print(f\"The {index}-element of the list is {elem}\")"
   ]
  },
  {
   "cell_type": "markdown",
   "id": "d6264eac-48e4-4257-9a19-720fcddbd24a",
   "metadata": {},
   "source": [
    "### Iterating through a tuple "
   ]
  },
  {
   "cell_type": "code",
   "execution_count": 36,
   "id": "e04f14e6-d5ca-43af-8f21-ef4930602f7a",
   "metadata": {},
   "outputs": [
    {
     "name": "stdout",
     "output_type": "stream",
     "text": [
      "1\n",
      "2\n",
      "3\n"
     ]
    }
   ],
   "source": [
    "# same as lists\n",
    "t = (1,2,3)\n",
    "for elem in t:\n",
    "    print(elem)"
   ]
  },
  {
   "cell_type": "markdown",
   "id": "d00911ec-9e28-4fbb-a2b6-996ca640cd86",
   "metadata": {},
   "source": [
    "### Iterating through a dictionary "
   ]
  },
  {
   "cell_type": "code",
   "execution_count": 29,
   "id": "0ba7968f-8c04-40ba-a0e0-36df4739205d",
   "metadata": {},
   "outputs": [
    {
     "name": "stdout",
     "output_type": "stream",
     "text": [
      "key1\n",
      "key2\n",
      "key3\n"
     ]
    }
   ],
   "source": [
    "d = {\"key1\": 1, \"key2\":2, \"key3\": 3}\n",
    "# get all the keys of the dictionary\n",
    "for key in d:\n",
    "    print(key)"
   ]
  },
  {
   "cell_type": "code",
   "execution_count": 30,
   "id": "a5e1f29e-8192-480b-994c-e72324e7cce6",
   "metadata": {},
   "outputs": [
    {
     "name": "stdout",
     "output_type": "stream",
     "text": [
      "The key key1 contains the value 1\n",
      "The key key2 contains the value 2\n",
      "The key key3 contains the value 3\n"
     ]
    }
   ],
   "source": [
    "# get all the information of d using items()\n",
    "for key, value in d.items():\n",
    "    print(f\"The key {key} contains the value {value}\")"
   ]
  },
  {
   "cell_type": "code",
   "execution_count": 31,
   "id": "8d1d3094-a4cf-4ea7-a3ad-92b642767dbb",
   "metadata": {},
   "outputs": [
    {
     "name": "stdout",
     "output_type": "stream",
     "text": [
      "1\n",
      "2\n",
      "3\n"
     ]
    }
   ],
   "source": [
    "# get only the values of d using values()\n",
    "for value in d.values():\n",
    "    print(value)"
   ]
  },
  {
   "cell_type": "markdown",
   "id": "1d75fc8f-d21d-456f-903c-5854d99e6bac",
   "metadata": {},
   "source": [
    "### Iterating through a string"
   ]
  },
  {
   "cell_type": "code",
   "execution_count": 32,
   "id": "2139bf5f-3620-4fa4-b373-99b9d31e708f",
   "metadata": {},
   "outputs": [
    {
     "name": "stdout",
     "output_type": "stream",
     "text": [
      "A\n",
      "a\n",
      "r\n",
      "h\n",
      "u\n",
      "s\n"
     ]
    }
   ],
   "source": [
    "s = \"Aarhus\"\n",
    "for letter in s:\n",
    "    print(letter)"
   ]
  },
  {
   "cell_type": "markdown",
   "id": "85de392b-4099-4005-ba0f-7e1bbfda2e66",
   "metadata": {},
   "source": [
    "### Iterate inside a container"
   ]
  },
  {
   "cell_type": "code",
   "execution_count": 27,
   "id": "3a62a0f0-7dd7-46f7-93b1-1f37f959cf69",
   "metadata": {},
   "outputs": [
    {
     "data": {
      "text/plain": [
       "[1, 4, 9, 16, 25]"
      ]
     },
     "execution_count": 27,
     "metadata": {},
     "output_type": "execute_result"
    }
   ],
   "source": [
    "# one line code to build the square list of a given list\n",
    "l = [1,2,3,4,5]\n",
    "l_square = [i**2 for i in l]\n",
    "l_square"
   ]
  },
  {
   "cell_type": "code",
   "execution_count": 38,
   "id": "71cbaf1a-9961-4b47-a033-2ed5057b6a10",
   "metadata": {},
   "outputs": [
    {
     "data": {
      "text/plain": [
       "[1, 8, 9, 64, 25]"
      ]
     },
     "execution_count": 38,
     "metadata": {},
     "output_type": "execute_result"
    }
   ],
   "source": [
    "# list of squares of even-indexed terms and cubes of odd-indexed terms\n",
    "l = [1,2,3,4,5]\n",
    "l_mix = [i**2 if index%2 == 0 else i**3 for index, i in enumerate(l)]\n",
    "l_mix"
   ]
  },
  {
   "cell_type": "markdown",
   "id": "0ba7c4c7-356e-4545-add8-9fd970647161",
   "metadata": {},
   "source": [
    "## While loops"
   ]
  },
  {
   "cell_type": "markdown",
   "id": "6fce9fa2-d346-4468-bb45-27db29e78e1d",
   "metadata": {},
   "source": [
    "A while statement repeatedly execute a single or a group of statements  as long as the condition is true."
   ]
  },
  {
   "cell_type": "code",
   "execution_count": 39,
   "id": "6b622897-eadb-4aba-9615-74c8c7332b3d",
   "metadata": {},
   "outputs": [
    {
     "name": "stdout",
     "output_type": "stream",
     "text": [
      "x=0\n",
      "Since 0<10, update x\n",
      "x=1\n",
      "Since 1<10, update x\n",
      "x=2\n",
      "Since 2<10, update x\n",
      "x=3\n",
      "Since 3<10, update x\n",
      "x=4\n",
      "Since 4<10, update x\n",
      "x=5\n",
      "Since 5<10, update x\n",
      "x=6\n",
      "Since 6<10, update x\n",
      "x=7\n",
      "Since 7<10, update x\n",
      "x=8\n",
      "Since 8<10, update x\n",
      "x=9\n",
      "Since 9<10, update x\n"
     ]
    }
   ],
   "source": [
    "x = 0\n",
    "\n",
    "while x < 10:\n",
    "    print(f\"x={x}\")\n",
    "    print(f\"Since {x}<10, update x\")\n",
    "    x+=1"
   ]
  },
  {
   "cell_type": "markdown",
   "id": "a9c1efcc-27c2-47a2-9fd3-c28a00907bdf",
   "metadata": {},
   "source": [
    "### break and continue"
   ]
  },
  {
   "cell_type": "markdown",
   "id": "3a3eb1b5-4d51-4f32-a9dd-7637807c33ba",
   "metadata": {},
   "source": [
    "The `break` statement lead us to break up the current loop immediately. The `continue` statement lead us to go to the top of the closest enclosing loop."
   ]
  },
  {
   "cell_type": "code",
   "execution_count": 1,
   "id": "c0a69eeb-457e-4c68-9285-cb33ffe0d4d7",
   "metadata": {},
   "outputs": [
    {
     "name": "stdout",
     "output_type": "stream",
     "text": [
      "x=0\n",
      "Since 0<10, update x\n",
      "Go on\n",
      "x=1\n",
      "Since 1<10, update x\n",
      "Go on\n",
      "x=2\n",
      "Since 2<10, update x\n",
      "Break! x=3\n"
     ]
    }
   ],
   "source": [
    "x = 0\n",
    "\n",
    "while x < 10:\n",
    "    print(f\"x={x}\")\n",
    "    print(f\"Since {x}<10, update x\")\n",
    "    x+=1\n",
    "    if x==3:\n",
    "        print(\"Break! x=3\")\n",
    "        break\n",
    "    else:\n",
    "        print('Go on')\n",
    "        continue\n"
   ]
  },
  {
   "cell_type": "markdown",
   "id": "a0fb6987-5287-4902-bbe3-db8bb7919a41",
   "metadata": {},
   "source": [
    "## Functions"
   ]
  },
  {
   "cell_type": "markdown",
   "id": "27989409-ef0e-41c1-a8c3-d4fdaaa63a08",
   "metadata": {},
   "source": [
    "A function is an object that groups together a set of statements and leads us to use them multiple times quickly. It is an object that takes arguments and return something and/or modify them.\r\n"
   ]
  },
  {
   "cell_type": "code",
   "execution_count": 31,
   "id": "fda2034f-4308-4cdb-a432-326a21b53cfc",
   "metadata": {},
   "outputs": [],
   "source": [
    "# a function to compute the square of a number\n",
    "def square(num):\n",
    "    # indentation is CRUCIAL\n",
    "    square_num = num**2\n",
    "    return square_num"
   ]
  },
  {
   "cell_type": "code",
   "execution_count": 33,
   "id": "75b57c46-b425-4eb0-b387-706f7a9b30e3",
   "metadata": {},
   "outputs": [
    {
     "name": "stdout",
     "output_type": "stream",
     "text": [
      "25\n",
      "25\n"
     ]
    }
   ],
   "source": [
    "n= 5\n",
    "# Method 1\n",
    "print(square(num=n))\n",
    "# Method 2\n",
    "print(square(n))"
   ]
  },
  {
   "cell_type": "markdown",
   "id": "0ecc7eb8-ef49-44bf-bba8-075b59459056",
   "metadata": {},
   "source": [
    "Pay attention: all the keyword arguments must be after all the non-keyword arguments. Moreover the arguments' order matters only for non keyword arguments. "
   ]
  },
  {
   "cell_type": "code",
   "execution_count": 44,
   "id": "6a84f7a7-c7b2-4480-a635-c97318e3af0b",
   "metadata": {},
   "outputs": [],
   "source": [
    "# example\n",
    "def div(a, b):\n",
    "    return a/b"
   ]
  },
  {
   "cell_type": "code",
   "execution_count": 45,
   "id": "ddfdc01f-212f-4046-813f-49dd26c00647",
   "metadata": {},
   "outputs": [
    {
     "ename": "SyntaxError",
     "evalue": "positional argument follows keyword argument (1113319494.py, line 4)",
     "output_type": "error",
     "traceback": [
      "\u001b[0;36m  Cell \u001b[0;32mIn[45], line 4\u001b[0;36m\u001b[0m\n\u001b[0;31m    div(a = a, b)\u001b[0m\n\u001b[0m                ^\u001b[0m\n\u001b[0;31mSyntaxError\u001b[0m\u001b[0;31m:\u001b[0m positional argument follows keyword argument\n"
     ]
    }
   ],
   "source": [
    "a = 5\n",
    "b = 6\n",
    "# WRONG\n",
    "div(a = a, b)"
   ]
  },
  {
   "cell_type": "code",
   "execution_count": 46,
   "id": "acea0bca-941b-4230-be00-eaa7ea85ffd8",
   "metadata": {},
   "outputs": [
    {
     "data": {
      "text/plain": [
       "0.8333333333333334"
      ]
     },
     "execution_count": 46,
     "metadata": {},
     "output_type": "execute_result"
    }
   ],
   "source": [
    "# correct\n",
    "a = 5\n",
    "b = 6\n",
    "div(a=a, b=b)"
   ]
  },
  {
   "cell_type": "code",
   "execution_count": 49,
   "id": "83d73af0-5d75-493f-8424-ced68ad62983",
   "metadata": {},
   "outputs": [
    {
     "data": {
      "text/plain": [
       "0.8333333333333334"
      ]
     },
     "execution_count": 49,
     "metadata": {},
     "output_type": "execute_result"
    }
   ],
   "source": [
    "# also correct\n",
    "a = 5\n",
    "b = 6\n",
    "div(b=b, a=a)"
   ]
  },
  {
   "cell_type": "code",
   "execution_count": 48,
   "id": "c1684e45-eb3a-48aa-8db0-d07b877763c3",
   "metadata": {},
   "outputs": [
    {
     "data": {
      "text/plain": [
       "0.8333333333333334"
      ]
     },
     "execution_count": 48,
     "metadata": {},
     "output_type": "execute_result"
    }
   ],
   "source": [
    "# also correct\n",
    "a = 5\n",
    "b = 6\n",
    "div(a, b)"
   ]
  },
  {
   "cell_type": "markdown",
   "id": "95dda521-13c6-4e03-a788-df07cdee9729",
   "metadata": {},
   "source": [
    "In some functions, we have arguments pre-defined to a standard value."
   ]
  },
  {
   "cell_type": "code",
   "execution_count": 26,
   "id": "1ddc429d-0b0f-4847-8ed9-e7a8ef7206b7",
   "metadata": {},
   "outputs": [],
   "source": [
    "def multiply(a,b=2):\n",
    "    return a*b"
   ]
  },
  {
   "cell_type": "code",
   "execution_count": 29,
   "id": "31b645bd-f445-4329-8343-5eba75ea7044",
   "metadata": {},
   "outputs": [
    {
     "name": "stdout",
     "output_type": "stream",
     "text": [
      "b predefined: 10\n",
      "b not predefined: 35\n"
     ]
    }
   ],
   "source": [
    "print(f\"b predefined: {multiply(5)}\")\n",
    "print(f\"b not predefined: {multiply(5,7)}\")"
   ]
  },
  {
   "cell_type": "markdown",
   "id": "3b981346-9166-42c1-99f9-4f733b46d0e8",
   "metadata": {},
   "source": [
    "### map function"
   ]
  },
  {
   "cell_type": "markdown",
   "id": "aa8427f9-ce6a-4aae-9689-7c98ee16f79c",
   "metadata": {},
   "source": [
    "This function `map` a given function to an iterable object."
   ]
  },
  {
   "cell_type": "code",
   "execution_count": 3,
   "id": "a40eea06-557b-4807-90e9-ef1a6c11ef14",
   "metadata": {},
   "outputs": [
    {
     "data": {
      "text/plain": [
       "<map at 0x7f314ca22800>"
      ]
     },
     "execution_count": 3,
     "metadata": {},
     "output_type": "execute_result"
    }
   ],
   "source": [
    "# for example, what if we want to apply square() to a list?\n",
    "l = [1,2,3,4]\n",
    "map(square, l)"
   ]
  },
  {
   "cell_type": "code",
   "execution_count": 4,
   "id": "5eaf1e45-8558-4cad-9058-8999864d56a4",
   "metadata": {},
   "outputs": [
    {
     "data": {
      "text/plain": [
       "[1, 4, 9, 16]"
      ]
     },
     "execution_count": 4,
     "metadata": {},
     "output_type": "execute_result"
    }
   ],
   "source": [
    "# to get the result we need to cast the previous object to a list\n",
    "list(map(square, l))"
   ]
  },
  {
   "cell_type": "markdown",
   "id": "3db7c51f-2602-49a3-b334-4efef26127aa",
   "metadata": {},
   "source": [
    "### lambda expression"
   ]
  },
  {
   "cell_type": "markdown",
   "id": "f5f89fba-6a62-41af-ad37-f522316591b3",
   "metadata": {},
   "source": [
    "This tool allow us to create anonymous functions, i.e. functions without the classical def statement. This helps in simple cases, e.g. when we want to map a simple functions without defining it."
   ]
  },
  {
   "cell_type": "code",
   "execution_count": 5,
   "id": "0cc3381d-912f-4ee7-8c97-e1f6abce61fa",
   "metadata": {},
   "outputs": [
    {
     "data": {
      "text/plain": [
       "25"
      ]
     },
     "execution_count": 5,
     "metadata": {},
     "output_type": "execute_result"
    }
   ],
   "source": [
    "# for example, let's create the function square() using lambda\n",
    "square_lambda = lambda num: num**2\n",
    "square_lambda(5)"
   ]
  },
  {
   "cell_type": "code",
   "execution_count": 6,
   "id": "06d4b15c-9914-49c7-8e15-ab75341785bd",
   "metadata": {},
   "outputs": [
    {
     "data": {
      "text/plain": [
       "[1, 4, 9, 16]"
      ]
     },
     "execution_count": 6,
     "metadata": {},
     "output_type": "execute_result"
    }
   ],
   "source": [
    "# one-line code for the square of a given list\n",
    "l = [1,2,3,4]\n",
    "list(map(lambda num: num**2, l))"
   ]
  },
  {
   "cell_type": "markdown",
   "id": "ac46a733-d363-491b-a599-edf525e8a8dc",
   "metadata": {},
   "source": [
    "### `*args` and `**kwargs`"
   ]
  },
  {
   "cell_type": "markdown",
   "id": "8db7476f-5d62-4ec9-9402-c50bf7e6079a",
   "metadata": {},
   "source": [
    "Suppose that we want to define a function that compute the square of the sum of two numbers $n,m$.\n",
    "This can be done easily as we have seen before with the $square()$ function."
   ]
  },
  {
   "cell_type": "code",
   "execution_count": 1,
   "id": "35cea17a-db2e-4566-ada0-88ba6b29adea",
   "metadata": {},
   "outputs": [],
   "source": [
    "def sum_squared(n,m):\n",
    "    return sum((n,m))**2"
   ]
  },
  {
   "cell_type": "code",
   "execution_count": 3,
   "id": "66cf40e4-ccdb-4e42-baf9-cf7eebc2320a",
   "metadata": {},
   "outputs": [
    {
     "data": {
      "text/plain": [
       "25"
      ]
     },
     "execution_count": 3,
     "metadata": {},
     "output_type": "execute_result"
    }
   ],
   "source": [
    "sum_squared(2,3)"
   ]
  },
  {
   "cell_type": "markdown",
   "id": "1a1b9c72-a229-4be5-a083-0a2f2c9bf11c",
   "metadata": {},
   "source": [
    "What if we want to work with 6 numbers instead of two?"
   ]
  },
  {
   "cell_type": "code",
   "execution_count": 4,
   "id": "33554dd0-940d-43e8-b9d8-37e27d9a09f4",
   "metadata": {},
   "outputs": [],
   "source": [
    "# Method 1\n",
    "def brutal_sum_squared(n1,n2,n3,n4,n5,n6):\n",
    "    return sum((n1,n2,n3,n4,n5,n6))**2"
   ]
  },
  {
   "cell_type": "code",
   "execution_count": 5,
   "id": "198593fd-c79d-4ecd-a2bc-f44766120e39",
   "metadata": {},
   "outputs": [
    {
     "data": {
      "text/plain": [
       "441"
      ]
     },
     "execution_count": 5,
     "metadata": {},
     "output_type": "execute_result"
    }
   ],
   "source": [
    "brutal_sum_squared(1,2,3,4,5,6)"
   ]
  },
  {
   "cell_type": "code",
   "execution_count": 14,
   "id": "45daf7d9-4320-4319-8087-9775c302f8dc",
   "metadata": {},
   "outputs": [],
   "source": [
    "# Method 2\n",
    "#NOTE: it works for ANY number of arguments\n",
    "def elegant_sum_squared(*args):\n",
    "    # args is a tuple!\n",
    "    return sum(args)**2"
   ]
  },
  {
   "cell_type": "code",
   "execution_count": 15,
   "id": "2aa3da09-46a3-4ead-8c78-995068d7ae66",
   "metadata": {},
   "outputs": [
    {
     "name": "stdout",
     "output_type": "stream",
     "text": [
      "4 arguments: 100\n",
      "6 arguments: 441\n",
      "8 arguments: 1296\n"
     ]
    }
   ],
   "source": [
    "print(f\"4 arguments: {elegant_sum_squared(1,2,3,4)}\")\n",
    "print(f\"6 arguments: {elegant_sum_squared(1,2,3,4,5,6)}\")\n",
    "print(f\"8 arguments: {elegant_sum_squared(1,2,3,4,5,6,7,8)}\")"
   ]
  },
  {
   "cell_type": "markdown",
   "id": "cce73191-dea0-435e-98b1-c757071a8bf0",
   "metadata": {},
   "source": [
    "Hence, `*args` leads us to handle multiple non-keyword arguments. \n",
    "Instead, to handle multiple keyword arguments it can be used `**kwargs`."
   ]
  },
  {
   "cell_type": "code",
   "execution_count": 23,
   "id": "6dff1c12-9826-4372-8919-32d691965689",
   "metadata": {},
   "outputs": [],
   "source": [
    "def presentation(**kwargs):\n",
    "    # kwargs is a dictionary!\n",
    "    for key,value in kwargs.items():\n",
    "        print(f\"My {key} is {value}.\")"
   ]
  },
  {
   "cell_type": "code",
   "execution_count": 25,
   "id": "d3ab10d1-26c2-4efe-a4bf-1897d166a2da",
   "metadata": {},
   "outputs": [
    {
     "name": "stdout",
     "output_type": "stream",
     "text": [
      "My name is Mickey.\n",
      "My surname is Mouse.\n",
      "My age is 94.\n",
      "My email is unknown.\n"
     ]
    }
   ],
   "source": [
    "presentation(name = \"Mickey\", surname=\"Mouse\", age=94, email =\"unknown\")"
   ]
  }
 ],
 "metadata": {
  "kernelspec": {
   "display_name": "Python 3 (ipykernel)",
   "language": "python",
   "name": "python3"
  },
  "language_info": {
   "codemirror_mode": {
    "name": "ipython",
    "version": 3
   },
   "file_extension": ".py",
   "mimetype": "text/x-python",
   "name": "python",
   "nbconvert_exporter": "python",
   "pygments_lexer": "ipython3",
   "version": "3.11.3"
  }
 },
 "nbformat": 4,
 "nbformat_minor": 5
}
