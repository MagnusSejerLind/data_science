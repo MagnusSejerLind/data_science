{
 "cells": [
  {
   "cell_type": "markdown",
   "id": "79a4f075-4ac8-421c-8dcc-f03fa61f5831",
   "metadata": {},
   "source": [
    "# Introduction to JAX and SciPy"
   ]
  },
  {
   "cell_type": "markdown",
   "id": "5db97fbb-c3fc-405a-8366-7af70236851a",
   "metadata": {},
   "source": [
    "- [JAX documentation](https://jax.readthedocs.io/en/latest/)\n",
    "- [SciPy documentation](https://docs.scipy.org/doc/scipy/)"
   ]
  },
  {
   "cell_type": "markdown",
   "id": "abfc4764-ca0a-4e9d-8416-4a8fdd0dfada",
   "metadata": {},
   "source": [
    "### Imports for this lesson"
   ]
  },
  {
   "cell_type": "code",
   "execution_count": 4,
   "id": "4693a272-dae0-4ec9-b9d2-ee761c2a6c03",
   "metadata": {},
   "outputs": [],
   "source": [
    "import jax\n",
    "import jax.numpy as jnp\n",
    "import numpy as np\n",
    "import time\n",
    "from scipy.optimize import minimize, Bounds"
   ]
  },
  {
   "cell_type": "markdown",
   "id": "abe6d5bc-305b-4366-bf43-325f974c943f",
   "metadata": {},
   "source": [
    "## JAX"
   ]
  },
  {
   "cell_type": "markdown",
   "id": "4b198304-db34-40ae-9c62-53632fe3603d",
   "metadata": {},
   "source": [
    "- [JAX tutorial](https://jax.readthedocs.io/en/latest/jax-101/index.html)"
   ]
  },
  {
   "cell_type": "markdown",
   "id": "ff21139f-d13a-4012-84a5-6511c6854227",
   "metadata": {},
   "source": [
    "`JAX` is a wrapper of `numpy` and can be thought as *differentiable numpy*. As soon as we create a simple `JAX` array, we immediately noticed some differences w.r.t. `numpy`:\n",
    "- the type, which is `DeviceArray`;\n",
    "- the default `dtype` is `float32` and not `float64`."
   ]
  },
  {
   "cell_type": "code",
   "execution_count": 3,
   "id": "827a0234-f127-43ea-91b1-66eb77347bfd",
   "metadata": {},
   "outputs": [
    {
     "data": {
      "text/plain": [
       "Array([1. , 2. , 3. , 5. , 7.5], dtype=float32)"
      ]
     },
     "execution_count": 3,
     "metadata": {},
     "output_type": "execute_result"
    }
   ],
   "source": [
    "# create a simple jax array\n",
    "x = jnp.array([1,2,3,5,7.5])\n",
    "x"
   ]
  },
  {
   "cell_type": "markdown",
   "id": "0b2a366e-7f90-4f76-93d1-10017436cdb3",
   "metadata": {},
   "source": [
    "Another important difference with `numpy` stands in the modification of an array."
   ]
  },
  {
   "cell_type": "code",
   "execution_count": 6,
   "id": "4f426dc6-60d6-4e9a-b2f4-ba84c8c3233e",
   "metadata": {},
   "outputs": [
    {
     "name": "stdout",
     "output_type": "stream",
     "text": [
      "Before:[1 2 3]\n",
      "After:[4 2 3]\n"
     ]
    }
   ],
   "source": [
    "# numpy\n",
    "x = np.array([1,2,3])\n",
    "print(f\"Before:{x}\")\n",
    "x[0] = 4\n",
    "print(f\"After:{x}\")"
   ]
  },
  {
   "cell_type": "code",
   "execution_count": 9,
   "id": "c72a6f16-bc8d-4068-a7ec-bdcf4812e286",
   "metadata": {},
   "outputs": [
    {
     "name": "stdout",
     "output_type": "stream",
     "text": [
      "Before:[1 2 3]\n"
     ]
    },
    {
     "ename": "TypeError",
     "evalue": "'<class 'jaxlib.xla_extension.ArrayImpl'>' object does not support item assignment. JAX arrays are immutable. Instead of ``x[idx] = y``, use ``x = x.at[idx].set(y)`` or another .at[] method: https://jax.readthedocs.io/en/latest/_autosummary/jax.numpy.ndarray.at.html",
     "output_type": "error",
     "traceback": [
      "\u001b[0;31m---------------------------------------------------------------------------\u001b[0m",
      "\u001b[0;31mTypeError\u001b[0m                                 Traceback (most recent call last)",
      "Cell \u001b[0;32mIn[9], line 5\u001b[0m\n\u001b[1;32m      3\u001b[0m \u001b[38;5;28mprint\u001b[39m(\u001b[38;5;124mf\u001b[39m\u001b[38;5;124m\"\u001b[39m\u001b[38;5;124mBefore:\u001b[39m\u001b[38;5;132;01m{\u001b[39;00mx\u001b[38;5;132;01m}\u001b[39;00m\u001b[38;5;124m\"\u001b[39m)\n\u001b[1;32m      4\u001b[0m \u001b[38;5;66;03m# raises an error: not the correct syntax\u001b[39;00m\n\u001b[0;32m----> 5\u001b[0m \u001b[43mx\u001b[49m\u001b[43m[\u001b[49m\u001b[38;5;241;43m0\u001b[39;49m\u001b[43m]\u001b[49m \u001b[38;5;241m=\u001b[39m \u001b[38;5;241m4\u001b[39m\n\u001b[1;32m      6\u001b[0m \u001b[38;5;28mprint\u001b[39m(\u001b[38;5;124mf\u001b[39m\u001b[38;5;124m\"\u001b[39m\u001b[38;5;124mAfter:\u001b[39m\u001b[38;5;132;01m{\u001b[39;00mx\u001b[38;5;132;01m}\u001b[39;00m\u001b[38;5;124m\"\u001b[39m)\n",
      "File \u001b[0;32m~/anaconda3/envs/datascience/lib/python3.11/site-packages/jax/_src/numpy/array_methods.py:270\u001b[0m, in \u001b[0;36m_unimplemented_setitem\u001b[0;34m(self, i, x)\u001b[0m\n\u001b[1;32m    265\u001b[0m \u001b[38;5;28;01mdef\u001b[39;00m \u001b[38;5;21m_unimplemented_setitem\u001b[39m(\u001b[38;5;28mself\u001b[39m, i, x):\n\u001b[1;32m    266\u001b[0m   msg \u001b[38;5;241m=\u001b[39m (\u001b[38;5;124m\"\u001b[39m\u001b[38;5;124m'\u001b[39m\u001b[38;5;132;01m{}\u001b[39;00m\u001b[38;5;124m'\u001b[39m\u001b[38;5;124m object does not support item assignment. JAX arrays are \u001b[39m\u001b[38;5;124m\"\u001b[39m\n\u001b[1;32m    267\u001b[0m          \u001b[38;5;124m\"\u001b[39m\u001b[38;5;124mimmutable. Instead of ``x[idx] = y``, use ``x = x.at[idx].set(y)`` \u001b[39m\u001b[38;5;124m\"\u001b[39m\n\u001b[1;32m    268\u001b[0m          \u001b[38;5;124m\"\u001b[39m\u001b[38;5;124mor another .at[] method: \u001b[39m\u001b[38;5;124m\"\u001b[39m\n\u001b[1;32m    269\u001b[0m          \u001b[38;5;124m\"\u001b[39m\u001b[38;5;124mhttps://jax.readthedocs.io/en/latest/_autosummary/jax.numpy.ndarray.at.html\u001b[39m\u001b[38;5;124m\"\u001b[39m)\n\u001b[0;32m--> 270\u001b[0m   \u001b[38;5;28;01mraise\u001b[39;00m \u001b[38;5;167;01mTypeError\u001b[39;00m(msg\u001b[38;5;241m.\u001b[39mformat(\u001b[38;5;28mtype\u001b[39m(\u001b[38;5;28mself\u001b[39m)))\n",
      "\u001b[0;31mTypeError\u001b[0m: '<class 'jaxlib.xla_extension.ArrayImpl'>' object does not support item assignment. JAX arrays are immutable. Instead of ``x[idx] = y``, use ``x = x.at[idx].set(y)`` or another .at[] method: https://jax.readthedocs.io/en/latest/_autosummary/jax.numpy.ndarray.at.html"
     ]
    }
   ],
   "source": [
    "# JAX \n",
    "x = jnp.array([1,2,3])\n",
    "print(f\"Before:{x}\")\n",
    "# raises an error: not the correct syntax\n",
    "x[0] = 4\n",
    "print(f\"After:{x}\")"
   ]
  },
  {
   "cell_type": "code",
   "execution_count": 14,
   "id": "5490cfd8-793f-41c7-947e-a49a07b0f946",
   "metadata": {},
   "outputs": [
    {
     "name": "stdout",
     "output_type": "stream",
     "text": [
      "Before:[1 2 3]\n",
      "After:[4 2 3]\n"
     ]
    }
   ],
   "source": [
    "x = jnp.array([1,2,3])\n",
    "print(f\"Before:{x}\")\n",
    "# correct syntax\n",
    "x = x.at[0].set(4)\n",
    "print(f\"After:{x}\")"
   ]
  },
  {
   "cell_type": "markdown",
   "id": "04862266-e403-4241-a7fb-a5d73e5f886b",
   "metadata": {},
   "source": [
    "### Differentiate with JAX"
   ]
  },
  {
   "cell_type": "markdown",
   "id": "e6d41b89-fdd3-4f7c-b47c-9ed11e4e33d3",
   "metadata": {},
   "source": [
    "#### 1. Gradient of a function of one argument"
   ]
  },
  {
   "cell_type": "code",
   "execution_count": 15,
   "id": "538917f5-72fd-4ab2-8b9a-2068461520f1",
   "metadata": {},
   "outputs": [],
   "source": [
    "def square_norm(x):\n",
    "  return jnp.sum(x**2)"
   ]
  },
  {
   "cell_type": "code",
   "execution_count": 23,
   "id": "5f9a7ace-668d-4518-8a00-73284349f9fa",
   "metadata": {},
   "outputs": [
    {
     "data": {
      "text/plain": [
       "Array(30., dtype=float32)"
      ]
     },
     "execution_count": 23,
     "metadata": {},
     "output_type": "execute_result"
    }
   ],
   "source": [
    "# type is important: must be float!\n",
    "x = jnp.array([1.,2.,3.,4.])\n",
    "square_norm(x)"
   ]
  },
  {
   "cell_type": "code",
   "execution_count": 22,
   "id": "b2de8931-c3ea-4281-b5c7-89feb1c889a6",
   "metadata": {},
   "outputs": [
    {
     "data": {
      "text/plain": [
       "Array([2., 4., 6., 8.], dtype=float32)"
      ]
     },
     "execution_count": 22,
     "metadata": {},
     "output_type": "execute_result"
    }
   ],
   "source": [
    "# the gradient of norm(x)^2 is 2x\n",
    "grad_square_norm = jax.grad(square_norm)\n",
    "grad_square_norm(x)"
   ]
  },
  {
   "cell_type": "markdown",
   "id": "4e49975e-45c0-43d4-a747-dfd733480ded",
   "metadata": {},
   "source": [
    "#### 2. Gradient of a function of two arguments"
   ]
  },
  {
   "cell_type": "code",
   "execution_count": 24,
   "id": "c00de373-6672-49d3-80bb-b42329145b91",
   "metadata": {},
   "outputs": [],
   "source": [
    "def square_distance(x, y):\n",
    "  return jnp.sum((x-y)**2)"
   ]
  },
  {
   "cell_type": "code",
   "execution_count": 31,
   "id": "0c923a2b-26b2-4a72-89ed-45f9c5bd2c71",
   "metadata": {},
   "outputs": [
    {
     "data": {
      "text/plain": [
       "Array([-1., -1., -1., -1.], dtype=float32)"
      ]
     },
     "execution_count": 31,
     "metadata": {},
     "output_type": "execute_result"
    }
   ],
   "source": [
    "# gradient w.r.t. the first argument (default)\n",
    "grad_x_square_distance = jax.grad(square_distance)\n",
    "x = jnp.array([1.,2.,3.,4.])\n",
    "y = jnp.array([1.5,2.5,3.5,4.5])\n",
    "grad_x_square_distance(x,y)"
   ]
  },
  {
   "cell_type": "code",
   "execution_count": 33,
   "id": "5bc43747-7acd-4400-a2c5-dd13fafdd280",
   "metadata": {},
   "outputs": [
    {
     "data": {
      "text/plain": [
       "Array([1., 1., 1., 1.], dtype=float32)"
      ]
     },
     "execution_count": 33,
     "metadata": {},
     "output_type": "execute_result"
    }
   ],
   "source": [
    "# gradient w.r.t. the second argument\n",
    "grad_y_square_distance = jax.grad(square_distance, argnums = 1)\n",
    "x = jnp.array([1.,2.,3.,4.])\n",
    "y = jnp.array([1.5,2.5,3.5,4.5])\n",
    "grad_y_square_distance(x,y)"
   ]
  },
  {
   "cell_type": "code",
   "execution_count": 38,
   "id": "6612768a-8805-407d-a0b4-9c71d6ae72fe",
   "metadata": {},
   "outputs": [
    {
     "name": "stdout",
     "output_type": "stream",
     "text": [
      "(Array([-1., -1., -1., -1.], dtype=float32), Array([1., 1., 1., 1.], dtype=float32))\n",
      "<class 'tuple'>\n"
     ]
    }
   ],
   "source": [
    "# gradient w.r.t. both arguments\n",
    "grad_x_square_distance = jax.grad(square_distance, argnums = (0,1))\n",
    "x = jnp.array([1.,2.,3.,4.])\n",
    "y = jnp.array([1.5,2.5,3.5,4.5])\n",
    "grad_x_y_ = grad_x_square_distance(x,y)\n",
    "print(grad_x_y_)\n",
    "# the output is a tuple!\n",
    "print(type(grad_x_y_))"
   ]
  },
  {
   "cell_type": "markdown",
   "id": "fa8006bd-2667-4234-b01d-69e6c2b1268d",
   "metadata": {},
   "source": [
    "### Just In Time (JIT) with JAX"
   ]
  },
  {
   "cell_type": "code",
   "execution_count": 39,
   "id": "37b50b2b-22ea-459b-b8bb-241166809e5d",
   "metadata": {},
   "outputs": [],
   "source": [
    "# hyperbolic tangent definition\n",
    "def tanh(x):\n",
    "    return (jnp.exp(x) - jnp.exp(-x)) / (jnp.exp(x) + jnp.exp(-x))"
   ]
  },
  {
   "cell_type": "code",
   "execution_count": 64,
   "id": "4e0436c1-a86a-4b49-9ccb-d8e12ed267ec",
   "metadata": {},
   "outputs": [
    {
     "data": {
      "text/plain": [
       "Array([0.92596364, 0.12574375, 0.14114332, ..., 0.37422693, 0.46216547,\n",
       "       0.4711089 ], dtype=float32)"
      ]
     },
     "execution_count": 64,
     "metadata": {},
     "output_type": "execute_result"
    }
   ],
   "source": [
    "# random seed\n",
    "key = jax.random.PRNGKey(42)\n",
    "x = jax.random.uniform(key, (1000000, ))\n",
    "x"
   ]
  },
  {
   "cell_type": "code",
   "execution_count": 72,
   "id": "7df7a3cb-0798-472b-a3ec-e3190368fa28",
   "metadata": {},
   "outputs": [
    {
     "name": "stdout",
     "output_type": "stream",
     "text": [
      "Non-jit tanh: \n",
      "CPU times: user 18.9 ms, sys: 0 ns, total: 18.9 ms\n",
      "Wall time: 7.38 ms\n"
     ]
    },
    {
     "data": {
      "text/plain": [
       "Array([0.72870654, 0.12508513, 0.14021347, ..., 0.3576834 , 0.43184748,\n",
       "       0.43909487], dtype=float32)"
      ]
     },
     "execution_count": 72,
     "metadata": {},
     "output_type": "execute_result"
    }
   ],
   "source": [
    "print(\"Non-jit tanh: \")\n",
    "%time tanh(x).block_until_ready()"
   ]
  },
  {
   "cell_type": "code",
   "execution_count": 79,
   "id": "df325929-2dda-493b-b7ee-a595deb52b5b",
   "metadata": {},
   "outputs": [
    {
     "name": "stdout",
     "output_type": "stream",
     "text": [
      "Jit tanh, first call:\n",
      "CPU times: user 7.86 ms, sys: 0 ns, total: 7.86 ms\n",
      "Wall time: 2.51 ms\n",
      "Jit tanh, second call:\n",
      "CPU times: user 3.3 ms, sys: 770 µs, total: 4.07 ms\n",
      "Wall time: 1.97 ms\n"
     ]
    },
    {
     "data": {
      "text/plain": [
       "Array([0.72870654, 0.12508513, 0.14021347, ..., 0.3576834 , 0.43184748,\n",
       "       0.43909487], dtype=float32)"
      ]
     },
     "execution_count": 79,
     "metadata": {},
     "output_type": "execute_result"
    }
   ],
   "source": [
    "# First call\n",
    "print(\"Jit tanh, first call:\")\n",
    "%time tanh_jit(x).block_until_ready()\n",
    "\n",
    "# Second call\n",
    "print(\"Jit tanh, second call:\")\n",
    "%time tanh_jit(x).block_until_ready()"
   ]
  },
  {
   "cell_type": "markdown",
   "id": "d1946071-d954-4776-b85b-5cff58712122",
   "metadata": {},
   "source": [
    "## SciPy"
   ]
  },
  {
   "cell_type": "markdown",
   "id": "d6031690-1fe4-4508-ad1b-de50ace3bf65",
   "metadata": {},
   "source": [
    "[Optimization in SciPy](https://docs.scipy.org/doc/scipy/tutorial/optimize.html)"
   ]
  },
  {
   "cell_type": "markdown",
   "id": "790cfa52-dcad-4e21-8086-4acfc42d5873",
   "metadata": {},
   "source": [
    "### Unconstrained optimization"
   ]
  },
  {
   "cell_type": "markdown",
   "id": "5511b20a-5d52-440c-ba9e-e1b10c438948",
   "metadata": {},
   "source": [
    "To learn how to minimize a function using `scipy.optimize.minimize`, we consider the problem of minimizing the *Rosenbrock function*:\n",
    "$$f(x) = \\sum_{i = 1}^{n-1} 100 (x_{i+1} - x_{i}^2) + (1 - x_i^2),$$\n",
    "where $x = [x_1, \\dots, x_n] \\in \\mathbb{R}^n$. This function has a global minimum in $\\tilde{x} = [1, \\dots, 1]$ where $f(\\tilde{x}) = 0$."
   ]
  },
  {
   "cell_type": "code",
   "execution_count": 5,
   "id": "91482aa1-873c-44f6-8d27-64863c2212ab",
   "metadata": {},
   "outputs": [],
   "source": [
    "def rosenbrock(x):\n",
    "    \"\"\"The Rosenbrock function\"\"\"\n",
    "    return jnp.sum(100.0*(x[1:]-x[:-1]**2.0)**2.0 + (1.-x[:-1])**2.0)"
   ]
  },
  {
   "cell_type": "code",
   "execution_count": 7,
   "id": "d1b7a9f8-50ea-4f18-8283-6f622ff9fe9e",
   "metadata": {},
   "outputs": [
    {
     "name": "stdout",
     "output_type": "stream",
     "text": [
      "Optimization terminated successfully.\n",
      "         Current function value: 0.000000\n",
      "         Iterations: 395\n",
      "         Function evaluations: 650\n"
     ]
    },
    {
     "data": {
      "text/plain": [
       "array([1., 1., 1., 1., 1.])"
      ]
     },
     "execution_count": 7,
     "metadata": {},
     "output_type": "execute_result"
    }
   ],
   "source": [
    "# unconstrained minimization without gradient using Nelder-Mead\n",
    "x0 = jnp.array([1.8, 0.7, 0.8, 1.9, 1.2])\n",
    "res = minimize(rosenbrock, x0, method='nelder-mead', options={'xatol': 1e-8, 'disp': True})\n",
    "res.x"
   ]
  },
  {
   "cell_type": "code",
   "execution_count": 8,
   "id": "e1d5362b-3d7d-4dea-a935-5aaae55c309c",
   "metadata": {},
   "outputs": [
    {
     "name": "stdout",
     "output_type": "stream",
     "text": [
      "Optimization terminated successfully.\n",
      "         Current function value: 0.000000\n",
      "         Iterations: 28\n",
      "         Function evaluations: 34\n",
      "         Gradient evaluations: 34\n"
     ]
    },
    {
     "data": {
      "text/plain": [
       "array([0.99999998, 0.99999998, 1.00000001, 1.00000002, 1.00000004])"
      ]
     },
     "execution_count": 8,
     "metadata": {},
     "output_type": "execute_result"
    }
   ],
   "source": [
    "# unconstrained minimization with jitted gradient using BFGS\n",
    "x0 = jnp.array([1.8, 0.7, 0.8, 1.9, 1.2])\n",
    "rosenbrock_grad = jax.jit(jax.grad(rosenbrock))\n",
    "res = minimize(rosenbrock, x0, method='BFGS', \n",
    "               jac=rosenbrock_grad, options={'gtol': 1e-8, 'disp': True})\n",
    "res.x"
   ]
  },
  {
   "cell_type": "markdown",
   "id": "90e9f496-6bf0-4f39-bef0-8ac1aa88c9df",
   "metadata": {},
   "source": [
    "### Constrained optimization"
   ]
  },
  {
   "cell_type": "markdown",
   "id": "f8710f64-a547-42bd-ba49-03352db93b08",
   "metadata": {},
   "source": [
    "Here we solve the following 2-dimensional constrained optimization problem:\n",
    "\n",
    "\\begin{equation}\n",
    "\\begin{aligned}\n",
    "\\min_{x_0,x_1} \\quad & 100(x_1 - x_0)^2 + (1 - x_0)^2,\\\\\n",
    "\\textrm{s.t.} \\quad & x_0 + 2 x_1 \\leq 1,\\\\\n",
    "& x_0^2 + x_1 \\leq 1, \\\\\n",
    "& x_0^2 - x_1 \\leq 1, \\\\\n",
    "& 2x_0 + x_1 = 1, \\\\\n",
    "& 0 \\leq x_0 \\leq 1, \\quad -0.5 \\leq x_1 \\leq 2.\\\\\n",
    "\\end{aligned}\n",
    "\\end{equation}"
   ]
  },
  {
   "cell_type": "code",
   "execution_count": 17,
   "id": "47ea10da-ced4-4032-b178-58bf4d7fb572",
   "metadata": {},
   "outputs": [
    {
     "name": "stdout",
     "output_type": "stream",
     "text": [
      "Optimization terminated successfully    (Exit mode 0)\n",
      "            Current function value: 0.34271758794784546\n",
      "            Iterations: 4\n",
      "            Function evaluations: 5\n",
      "            Gradient evaluations: 4\n"
     ]
    },
    {
     "data": {
      "text/plain": [
       "array([0.41494474, 0.17011051])"
      ]
     },
     "execution_count": 17,
     "metadata": {},
     "output_type": "execute_result"
    }
   ],
   "source": [
    "x0 = np.array([0.5, 0])\n",
    "\n",
    "# inequality constraints\n",
    "ineq_cons = {'type': 'ineq',\n",
    "             'fun' : lambda x: np.array([1 - x[0] - 2*x[1],\n",
    "                                         1 - x[0]**2 - x[1],\n",
    "                                         1 - x[0]**2 + x[1]]),\n",
    "             'jac' : lambda x: np.array([[-1.0, -2.0],\n",
    "                                         [-2*x[0], -1.0],\n",
    "                                         [-2*x[0], 1.0]])}\n",
    "# equality constraints\n",
    "eq_cons = {'type': 'eq',\n",
    "           'fun' : lambda x: np.array([2*x[0] + x[1] - 1]),\n",
    "           'jac' : lambda x: np.array([2.0, 1.0])}\n",
    "\n",
    "# 0 <= x_0 <= 1 and -0.5 <= x_1 <= 2\n",
    "bounds = Bounds([0, -0.5], [1.0, 2.0])\n",
    "\n",
    "res = minimize(rosenbrock, x0, method='SLSQP', jac=rosenbrock_grad,\n",
    "               constraints=[eq_cons, ineq_cons], options={'ftol': 1e-9, 'disp': True},\n",
    "               bounds=bounds)\n",
    "res.x"
   ]
  }
 ],
 "metadata": {
  "kernelspec": {
   "display_name": "Python 3 (ipykernel)",
   "language": "python",
   "name": "python3"
  },
  "language_info": {
   "codemirror_mode": {
    "name": "ipython",
    "version": 3
   },
   "file_extension": ".py",
   "mimetype": "text/x-python",
   "name": "python",
   "nbconvert_exporter": "python",
   "pygments_lexer": "ipython3",
   "version": "3.11.0"
  }
 },
 "nbformat": 4,
 "nbformat_minor": 5
}
