{
 "cells": [
  {
   "cell_type": "markdown",
   "id": "acfeac90-6b6d-4a97-b3bc-82db8820225b",
   "metadata": {},
   "source": [
    "# Introduction to NumPy\r\n"
   ]
  },
  {
   "cell_type": "markdown",
   "id": "01120654-9483-4fec-925c-6a66425a062f",
   "metadata": {},
   "source": [
    "<div class=\"alert alert-block alert-info\"> <b>Full documentation:</b> https://numpy.org/doc/stable/  </div>"
   ]
  },
  {
   "cell_type": "markdown",
   "id": "8e3e5fdf-f35a-44b1-a909-868af7cf1d8d",
   "metadata": {},
   "source": [
    "NumPy is the most used library for scientific computing. It is well-optimized and easy-to-use and offers e.g. linear algebra routines and comprehensive mathematical functions."
   ]
  },
  {
   "cell_type": "code",
   "execution_count": 5,
   "id": "c03052ca-7ebe-45f5-bb97-7ef813fb8649",
   "metadata": {},
   "outputs": [],
   "source": [
    "# imports for this lesson\n",
    "import time\n",
    "import numpy as np"
   ]
  },
  {
   "cell_type": "markdown",
   "id": "8000b32e-30ba-47a5-8e41-8b469de9dc23",
   "metadata": {},
   "source": [
    "## Arrays"
   ]
  },
  {
   "cell_type": "markdown",
   "id": "252ce37a-0815-4030-8430-972b063d0250",
   "metadata": {},
   "source": [
    "An array is a 'grid' of values of the same types. It is indexed by tuples of non negative indices and provides the framework for multiple dimensions. Each array has the following:\n",
    "- `dtype`, data type. If not expressed, then the data type of the array is the minimum type required to hold the objects in the sequence. \n",
    "- `shape`, shape of the data as a tuple. For example, a $3 \\times 4$ matrix has shape $(3,4)$.\n",
    "- `data`, raw data storage in memory."
   ]
  },
  {
   "cell_type": "markdown",
   "id": "30262e62-7029-483e-a57d-5a93ba512cb7",
   "metadata": {},
   "source": [
    "### Arrays vs lists"
   ]
  },
  {
   "cell_type": "code",
   "execution_count": 22,
   "id": "9223f065-81c0-4f16-85e0-4e141c0737b2",
   "metadata": {},
   "outputs": [],
   "source": [
    "length = 100000000\n",
    "a = list(range(length))\n",
    "b = [ 0 ] * length"
   ]
  },
  {
   "cell_type": "code",
   "execution_count": 33,
   "id": "8dce82ba-444a-4698-b484-f59c20c33742",
   "metadata": {},
   "outputs": [
    {
     "name": "stdout",
     "output_type": "stream",
     "text": [
      "Elapsed time: 5.800724744796753\n"
     ]
    }
   ],
   "source": [
    "# square of a list\n",
    "tic = time.time()\n",
    "for i in range(len(a)):\n",
    "  b[i] = a[i]**2\n",
    "toc = time.time()\n",
    "print(f\"Elapsed time: {toc - tic}\")"
   ]
  },
  {
   "cell_type": "code",
   "execution_count": 39,
   "id": "ac7eb3ac-606e-44e8-8b93-df6eccbe5376",
   "metadata": {},
   "outputs": [],
   "source": [
    "# np array of the arithmetic sequence of numbers from 0 to length\n",
    "# with step 1\n",
    "a_np = np.arange(length)\n",
    "b_np = np.zeros(length)"
   ]
  },
  {
   "cell_type": "code",
   "execution_count": 34,
   "id": "025d8f40-b272-4326-9300-114f081742f6",
   "metadata": {},
   "outputs": [
    {
     "name": "stdout",
     "output_type": "stream",
     "text": [
      "Elapsed time: 0.18929457664489746\n"
     ]
    }
   ],
   "source": [
    "# square of an array\n",
    "tic = time.time()\n",
    "b_np = a_np ** 2\n",
    "toc = time.time()\n",
    "print(f\"Elapsed time: {toc - tic}\")"
   ]
  },
  {
   "cell_type": "markdown",
   "id": "1cb12faf-b6d9-4e52-9254-932d0538a815",
   "metadata": {},
   "source": [
    "### Creating arrays"
   ]
  },
  {
   "cell_type": "code",
   "execution_count": 38,
   "id": "3a0f89db-052a-48a3-a6cc-5a9987080cb3",
   "metadata": {},
   "outputs": [
    {
     "name": "stdout",
     "output_type": "stream",
     "text": [
      "a=[1 2 3]\n",
      "b=[[1 2 3]\n",
      " [4 5 6]]\n"
     ]
    }
   ],
   "source": [
    "# 1-dimensional array of length 3\n",
    "a = np.array([1,2,3])\n",
    "# 2-dimensional array of shape (2,3) -> 3x4 matrix\n",
    "b = np.array([[1,2,3], [4,5,6]])\n",
    "print(f\"a={a}\")\n",
    "print(f\"b={b}\")"
   ]
  },
  {
   "cell_type": "code",
   "execution_count": 61,
   "id": "60bc17a1-8972-4f95-8952-2fd8d287768a",
   "metadata": {},
   "outputs": [
    {
     "data": {
      "text/plain": [
       "array([[0., 0., 0., 0.],\n",
       "       [0., 0., 0., 0.],\n",
       "       [0., 0., 0., 0.]])"
      ]
     },
     "execution_count": 61,
     "metadata": {},
     "output_type": "execute_result"
    }
   ],
   "source": [
    "# zero array\n",
    "zero = np.zeros((3,4))\n",
    "zero"
   ]
  },
  {
   "cell_type": "code",
   "execution_count": 62,
   "id": "424976e1-1f05-466b-a8f4-5faad267ea13",
   "metadata": {},
   "outputs": [
    {
     "name": "stdout",
     "output_type": "stream",
     "text": [
      "float64\n",
      "int64\n"
     ]
    }
   ],
   "source": [
    "# be careful on data types :)\n",
    "print(zero.dtype)\n",
    "zero = np.zeros((3,4), dtype = np.int64)\n",
    "print(zero.dtype)"
   ]
  },
  {
   "cell_type": "code",
   "execution_count": 46,
   "id": "98926335-754a-40a7-839a-58d47e03bf6c",
   "metadata": {},
   "outputs": [
    {
     "data": {
      "text/plain": [
       "array([[1., 1., 1., 1., 1.],\n",
       "       [1., 1., 1., 1., 1.]])"
      ]
     },
     "execution_count": 46,
     "metadata": {},
     "output_type": "execute_result"
    }
   ],
   "source": [
    "# ones array\n",
    "one = np.ones((2,5))\n",
    "one"
   ]
  },
  {
   "cell_type": "code",
   "execution_count": 47,
   "id": "927a1aad-c035-4ad4-90d9-a0717656fa34",
   "metadata": {},
   "outputs": [
    {
     "data": {
      "text/plain": [
       "array([[1., 0., 0., 0., 0.],\n",
       "       [0., 1., 0., 0., 0.],\n",
       "       [0., 0., 1., 0., 0.],\n",
       "       [0., 0., 0., 1., 0.],\n",
       "       [0., 0., 0., 0., 1.]])"
      ]
     },
     "execution_count": 47,
     "metadata": {},
     "output_type": "execute_result"
    }
   ],
   "source": [
    "# identity matrix\n",
    "identity = np.eye(5)\n",
    "identity"
   ]
  },
  {
   "cell_type": "markdown",
   "id": "6fff8373-4818-4c23-bac9-bd246d6fa232",
   "metadata": {},
   "source": [
    "### Basic operations"
   ]
  },
  {
   "cell_type": "code",
   "execution_count": 56,
   "id": "7db3c8ef-8056-41d2-99a7-7ca834b28daa",
   "metadata": {},
   "outputs": [
    {
     "name": "stdout",
     "output_type": "stream",
     "text": [
      "Shape: (2, 5)\n",
      "Size: 10\n",
      "Number of dimensions: 2\n",
      "Data type: float64\n"
     ]
    }
   ],
   "source": [
    "# compute the shape\n",
    "print(f\"Shape: {one.shape}\")\n",
    "# compute the size, i.e. the number of entries\n",
    "print(f\"Size: {one.size}\")\n",
    "# compute the number of dimensions: e.g. for a vector is 1, for a matrix 2\n",
    "print(f\"Number of dimensions: {one.ndim}\")\n",
    "# compute the data type\n",
    "print(f\"Data type: {one.dtype}\")"
   ]
  },
  {
   "cell_type": "code",
   "execution_count": 68,
   "id": "1cdd8253-65d1-44fc-83ba-2b82b0302347",
   "metadata": {},
   "outputs": [
    {
     "data": {
      "text/plain": [
       "array([5, 7, 9])"
      ]
     },
     "execution_count": 68,
     "metadata": {},
     "output_type": "execute_result"
    }
   ],
   "source": [
    "# sum\n",
    "a = np.array([1,2,3])\n",
    "b = np.array([4,5,6])\n",
    "# alternative: np.add\n",
    "a + b"
   ]
  },
  {
   "cell_type": "code",
   "execution_count": 69,
   "id": "b3dafdb1-2410-4d5f-92be-ad8755a82a36",
   "metadata": {},
   "outputs": [
    {
     "data": {
      "text/plain": [
       "array([-3, -3, -3])"
      ]
     },
     "execution_count": 69,
     "metadata": {},
     "output_type": "execute_result"
    }
   ],
   "source": [
    "# subtraction\n",
    "# alternative: np.subtract\n",
    "a - b"
   ]
  },
  {
   "cell_type": "code",
   "execution_count": 70,
   "id": "18dd48e1-93d9-419a-a078-abd453ee4157",
   "metadata": {},
   "outputs": [
    {
     "data": {
      "text/plain": [
       "array([ 4, 10, 18])"
      ]
     },
     "execution_count": 70,
     "metadata": {},
     "output_type": "execute_result"
    }
   ],
   "source": [
    "# multiplication (component-wise)\n",
    "# alternative: np.multiply\n",
    "a*b"
   ]
  },
  {
   "cell_type": "code",
   "execution_count": 71,
   "id": "3862445f-8940-4e12-99ef-f4c7258c3724",
   "metadata": {},
   "outputs": [
    {
     "data": {
      "text/plain": [
       "array([0.25, 0.4 , 0.5 ])"
      ]
     },
     "execution_count": 71,
     "metadata": {},
     "output_type": "execute_result"
    }
   ],
   "source": [
    "# division (component-wise)\n",
    "# alternative: np.divide\n",
    "a/b"
   ]
  },
  {
   "cell_type": "code",
   "execution_count": 74,
   "id": "78b0f94d-0029-4d19-b469-39a27ad57f5c",
   "metadata": {},
   "outputs": [
    {
     "name": "stdout",
     "output_type": "stream",
     "text": [
      "[[1 2 3]\n",
      " [4 5 6]]\n"
     ]
    },
    {
     "data": {
      "text/plain": [
       "array([[1, 4],\n",
       "       [2, 5],\n",
       "       [3, 6]])"
      ]
     },
     "execution_count": 74,
     "metadata": {},
     "output_type": "execute_result"
    }
   ],
   "source": [
    "# transpose\n",
    "a = np.array([[1,2,3], [4,5,6]])\n",
    "print(a)\n",
    "# more general alternative: np.transpose\n",
    "a.T"
   ]
  },
  {
   "cell_type": "code",
   "execution_count": 75,
   "id": "76afb27f-b47a-486d-a6ce-68af2f708813",
   "metadata": {},
   "outputs": [
    {
     "data": {
      "text/plain": [
       "5.0"
      ]
     },
     "execution_count": 75,
     "metadata": {},
     "output_type": "execute_result"
    }
   ],
   "source": [
    "# mean\n",
    "np.mean(b)"
   ]
  },
  {
   "cell_type": "markdown",
   "id": "8b69fe63-e0c8-4320-bc34-33f31c8c0457",
   "metadata": {},
   "source": [
    "## Linear Algebra with NumPy"
   ]
  },
  {
   "cell_type": "markdown",
   "id": "27fcdc5d-7a8f-4e9b-a06b-bf16dda3f48f",
   "metadata": {},
   "source": [
    "NumPy is perfect for performing linear algebra computations. Some of the most useful routines are the following.\n",
    "- `@`: matrix-multiplication of two arrays. \r\n",
    "- `np.dot`: compute the dot product of two arrays.\n",
    "- `np.linalg.norm`: compute the vector or matrix norm.\n",
    "- `np.linalg.solve`: solve a system of linear equations. \n",
    "- `np.linalg.inv`: compute the inverse of a matrix\n",
    "\n",
    "For a matrix-matrix multiplication it can also be used `np.dot` but `@` is preferred: see [here](https://numpy.org/doc/stable/reference/generated/numpy.dot.html#numpy.dot)."
   ]
  },
  {
   "cell_type": "code",
   "execution_count": 81,
   "id": "03dcfd31-a645-4cff-b765-f526760c8ed8",
   "metadata": {},
   "outputs": [
    {
     "data": {
      "text/plain": [
       "array([2, 2, 2])"
      ]
     },
     "execution_count": 81,
     "metadata": {},
     "output_type": "execute_result"
    }
   ],
   "source": [
    "# matrix-vector product\n",
    "M = np.ones((3,2), dtype = np.int64)\n",
    "a = np.ones(2, dtype = np.int64)\n",
    "M @ a"
   ]
  },
  {
   "cell_type": "code",
   "execution_count": 86,
   "id": "3804b64d-41f7-4d47-aceb-4a7f6627a3b3",
   "metadata": {},
   "outputs": [
    {
     "data": {
      "text/plain": [
       "array([[2, 2, 2],\n",
       "       [2, 2, 2],\n",
       "       [2, 2, 2]])"
      ]
     },
     "execution_count": 86,
     "metadata": {},
     "output_type": "execute_result"
    }
   ],
   "source": [
    "# matrix-matrix product\n",
    "M @ M.T"
   ]
  },
  {
   "cell_type": "code",
   "execution_count": 89,
   "id": "533fced2-a91b-4534-823b-4396a001412d",
   "metadata": {},
   "outputs": [
    {
     "data": {
      "text/plain": [
       "32"
      ]
     },
     "execution_count": 89,
     "metadata": {},
     "output_type": "execute_result"
    }
   ],
   "source": [
    "# dot product\n",
    "# alternative for vectors: np.vdot()\n",
    "a = np.array([1,2,3])\n",
    "b = np.array([4,5,6])\n",
    "np.dot(a,b)"
   ]
  },
  {
   "cell_type": "code",
   "execution_count": 92,
   "id": "62637f6d-c12a-4632-9e8c-f38d2f144c2e",
   "metadata": {},
   "outputs": [
    {
     "data": {
      "text/plain": [
       "3.7416573867739413"
      ]
     },
     "execution_count": 92,
     "metadata": {},
     "output_type": "execute_result"
    }
   ],
   "source": [
    "# norm\n",
    "np.linalg.norm(a)"
   ]
  },
  {
   "cell_type": "code",
   "execution_count": 97,
   "id": "fdaa8905-2a24-4264-8a9f-1db7cb86f072",
   "metadata": {},
   "outputs": [
    {
     "name": "stdout",
     "output_type": "stream",
     "text": [
      "The solution of the system Ax = b is: [-5.  4.]\n"
     ]
    }
   ],
   "source": [
    "# linear-system solve\n",
    "A = np.array([[1,2], [0, 1]])\n",
    "b = np.array([3,4])\n",
    "x = np.linalg.solve(A,b)\n",
    "print(f\"The solution of the system Ax = b is: {x}\")"
   ]
  },
  {
   "cell_type": "code",
   "execution_count": 98,
   "id": "b8dbf0ad-f176-448f-b32e-206888a63139",
   "metadata": {},
   "outputs": [
    {
     "data": {
      "text/plain": [
       "array([3., 4.])"
      ]
     },
     "execution_count": 98,
     "metadata": {},
     "output_type": "execute_result"
    }
   ],
   "source": [
    "# solution check\n",
    "A @ x"
   ]
  },
  {
   "cell_type": "code",
   "execution_count": 100,
   "id": "82d74091-7e48-46da-973d-cd8b56721aca",
   "metadata": {},
   "outputs": [
    {
     "data": {
      "text/plain": [
       "array([[ 1., -2.],\n",
       "       [ 0.,  1.]])"
      ]
     },
     "execution_count": 100,
     "metadata": {},
     "output_type": "execute_result"
    }
   ],
   "source": [
    "# inverse of a matrix\n",
    "A = np.array([[1,2], [0, 1]])\n",
    "A_inv = np.linalg.inv(A)\n",
    "A_inv"
   ]
  },
  {
   "cell_type": "code",
   "execution_count": 101,
   "id": "daa1ab8c-c000-42b0-b23c-92042386ea87",
   "metadata": {},
   "outputs": [
    {
     "data": {
      "text/plain": [
       "array([[1., 0.],\n",
       "       [0., 1.]])"
      ]
     },
     "execution_count": 101,
     "metadata": {},
     "output_type": "execute_result"
    }
   ],
   "source": [
    "# inverse check\n",
    "A @ A_inv"
   ]
  }
 ],
 "metadata": {
  "kernelspec": {
   "display_name": "Python 3 (ipykernel)",
   "language": "python",
   "name": "python3"
  },
  "language_info": {
   "codemirror_mode": {
    "name": "ipython",
    "version": 3
   },
   "file_extension": ".py",
   "mimetype": "text/x-python",
   "name": "python",
   "nbconvert_exporter": "python",
   "pygments_lexer": "ipython3",
   "version": "3.11.3"
  }
 },
 "nbformat": 4,
 "nbformat_minor": 5
}
