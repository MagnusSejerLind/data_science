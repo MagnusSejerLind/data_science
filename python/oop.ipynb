{
 "cells": [
  {
   "cell_type": "markdown",
   "id": "2c1ab5cf-dcdc-458e-b10d-08ef137a3506",
   "metadata": {},
   "source": [
    "# Object Oriented Programming (OOP)"
   ]
  },
  {
   "cell_type": "markdown",
   "id": "db7e997c-8c57-473b-90b4-c364316aa5a9",
   "metadata": {},
   "source": [
    "Citing Wikipedia, \"Object-oriented programming (OOP) is a programming paradigm based on the concept of \"objects\", which can contain data and code.\" We already had the opportunity to encounter objects, in this lesson we are going to learn how to create and handle new ones."
   ]
  },
  {
   "cell_type": "markdown",
   "id": "2785f0db-2df8-4023-bb25-b8baf628be91",
   "metadata": {},
   "source": [
    "General mantra: *everything is an object*. For instance:"
   ]
  },
  {
   "cell_type": "code",
   "execution_count": 6,
   "id": "96e688d7-3fb0-48e9-b9bc-f5e06e55a24a",
   "metadata": {},
   "outputs": [
    {
     "name": "stdout",
     "output_type": "stream",
     "text": [
      "<class 'list'>\n",
      "<class 'NoneType'>\n",
      "<class 'int'>\n",
      "<class 'type'>\n"
     ]
    }
   ],
   "source": [
    "print(type([]))\n",
    "print(type(None))\n",
    "print(type(5))\n",
    "print(type(type(5)))"
   ]
  },
  {
   "cell_type": "markdown",
   "id": "e8780f40-387f-4431-8ae1-b91084ba30c9",
   "metadata": {},
   "source": [
    "What if we want to create our own objects?"
   ]
  },
  {
   "cell_type": "markdown",
   "id": "d530edae-6d4b-4240-9ea1-f112de6f9a17",
   "metadata": {},
   "source": [
    "## Classes"
   ]
  },
  {
   "cell_type": "markdown",
   "id": "3826fac5-920d-495d-8218-74e6ba70614a",
   "metadata": {},
   "source": [
    "New objects are created via the `class` keyword. \n",
    "- Functions defined inside the body of a class are called **method**.\n",
    "- A special method called `__init__` is defined after the creation of a class. It is used to initialize the attributes of an object.\n",
    "- Each attribute in a class begins with a reference to the instance object, which is called by definition `self`."
   ]
  },
  {
   "cell_type": "code",
   "execution_count": 33,
   "id": "6605b86d-87a6-485a-be86-9a1472796cda",
   "metadata": {},
   "outputs": [],
   "source": [
    "# an example of a class\n",
    "import math\n",
    "\n",
    "class Polygon:\n",
    "    def __init__(self, num_edges, edge_size):\n",
    "        self.num_edges = num_edges\n",
    "        self.edge_size = edge_size\n",
    "\n",
    "    def get_perimeter(self):\n",
    "        self.perimeter = self.num_edges*self.edge_size\n",
    "\n",
    "    def get_area(self):\n",
    "        # compute the apothem of the polygon\n",
    "        a = self.edge_size/(2*math.tan(math.pi/self.num_edges))\n",
    "        # area = perimeter * apothem / 2\n",
    "        self.area = self.num_edges*self.edge_size*a/2\n"
   ]
  },
  {
   "cell_type": "code",
   "execution_count": 34,
   "id": "6acc5bf2-f099-44ab-875f-ae28b881f0c9",
   "metadata": {},
   "outputs": [
    {
     "name": "stdout",
     "output_type": "stream",
     "text": [
      "12 9.000000000000002\n"
     ]
    }
   ],
   "source": [
    "# an instance of the class Polygon\n",
    "p = Polygon(4, 3)\n",
    "p.get_perimeter()\n",
    "p.get_area()\n",
    "print(p.perimeter, p.area)"
   ]
  },
  {
   "cell_type": "markdown",
   "id": "9d87ff0a-0564-4702-8676-7976ee7fe419",
   "metadata": {},
   "source": [
    "### Inheritance"
   ]
  },
  {
   "cell_type": "markdown",
   "id": "dbb76673-e09b-4572-95d7-c0f9c0e91c98",
   "metadata": {},
   "source": [
    "We have seen previously how to define a basic class for polygons. Now suppose that we want to define a class \"Square\" that handles square of variable lengths. Of course, we can do a new class from scratch as before. However, a square is actually a polygon, hence a \"Square\" class can be thought as a subclass, or a derived class, of the class \"Polygon\". \n",
    "\n",
    "This concept is called *inheritance*. The special method `super()` called inside `__init__` leads us to transfer from the bigger to the smaller class all the attribute informations.\n",
    "\n"
   ]
  },
  {
   "cell_type": "code",
   "execution_count": 48,
   "id": "1658ebee-532a-430e-83df-c484c9f1907f",
   "metadata": {},
   "outputs": [],
   "source": [
    "# inherited square class\n",
    "class Square(Polygon):\n",
    "    def __init__(self, edge_size):\n",
    "        super().__init__(4, edge_size)"
   ]
  },
  {
   "cell_type": "code",
   "execution_count": 45,
   "id": "1c784ff2-84cb-4598-8afb-abbdd74bf8d9",
   "metadata": {},
   "outputs": [
    {
     "name": "stdout",
     "output_type": "stream",
     "text": [
      "12 9.000000000000002\n"
     ]
    }
   ],
   "source": [
    "s = Square(3)\n",
    "s.get_perimeter()\n",
    "s.get_area()\n",
    "print(s.perimeter, s.area)"
   ]
  },
  {
   "cell_type": "markdown",
   "id": "b93294c0-7487-487c-9996-71f863ddda65",
   "metadata": {},
   "source": [
    "### Polymorphism"
   ]
  },
  {
   "cell_type": "code",
   "execution_count": 46,
   "id": "53861239-5113-40c7-80f4-699af3b6a9ef",
   "metadata": {},
   "outputs": [],
   "source": [
    "class Square(Polygon):\n",
    "    def __init__(self, edge_size):\n",
    "        super().__init__(4, edge_size)\n",
    "\n",
    "    def get_area(self):\n",
    "        self.area = self.edge_size**2"
   ]
  },
  {
   "cell_type": "code",
   "execution_count": 47,
   "id": "c23642e6-bc66-42f1-9892-64dfae32e07a",
   "metadata": {},
   "outputs": [
    {
     "name": "stdout",
     "output_type": "stream",
     "text": [
      "12 9\n"
     ]
    }
   ],
   "source": [
    "s = Square(3)\n",
    "s.get_perimeter()\n",
    "s.get_area()\n",
    "print(s.perimeter, s.area)"
   ]
  },
  {
   "cell_type": "markdown",
   "id": "c6ec4c3f-a05b-4632-9dc7-3835ecf60d59",
   "metadata": {},
   "source": [
    "### Special methods"
   ]
  },
  {
   "cell_type": "code",
   "execution_count": 56,
   "id": "f9ed3338-fba1-4f71-8d7d-4c34712b8441",
   "metadata": {},
   "outputs": [],
   "source": [
    "class Polygon:\n",
    "    def __init__(self, num_edges, edge_size):\n",
    "        self.num_edges = num_edges\n",
    "        self.edge_size = edge_size\n",
    "        self.get_perimeter()\n",
    "\n",
    "    def get_perimeter(self):\n",
    "        self.perimeter = self.num_edges*self.edge_size\n",
    "\n",
    "    def get_area(self):\n",
    "        # compute the apothem of the polygon\n",
    "        a = self.edge_size/(2*math.tan(math.pi/self.num_edges))\n",
    "        # area = perimeter * apothem / 2\n",
    "        self.area = self.num_edges*self.edge_size*a/2\n",
    "\n",
    "    def __str__(self):\n",
    "        return \"%s-regular polygon\" %self.num_edges\n",
    "\n",
    "    def __len__(self):\n",
    "        return self.perimeter\n",
    "\n",
    "    def __del__(self):\n",
    "        print(\"A polygon is deleted\")"
   ]
  },
  {
   "cell_type": "code",
   "execution_count": 58,
   "id": "7b044d3c-14bb-4385-abfa-e81aa69df7f2",
   "metadata": {},
   "outputs": [
    {
     "name": "stdout",
     "output_type": "stream",
     "text": [
      "5-regular polygon\n",
      "5\n"
     ]
    }
   ],
   "source": [
    "p = Polygon(5,1)\n",
    "print(p)\n",
    "print(len(p))"
   ]
  },
  {
   "cell_type": "code",
   "execution_count": 59,
   "id": "711c9e1e-49e8-4c54-9cdc-5443dc2e8578",
   "metadata": {},
   "outputs": [
    {
     "name": "stdout",
     "output_type": "stream",
     "text": [
      "A polygon is deleted\n"
     ]
    }
   ],
   "source": [
    "# delete p\n",
    "del p"
   ]
  },
  {
   "cell_type": "code",
   "execution_count": 60,
   "id": "edc08976-2da1-43d8-bf21-a8d0ad2a86f7",
   "metadata": {},
   "outputs": [
    {
     "ename": "NameError",
     "evalue": "name 'p' is not defined",
     "output_type": "error",
     "traceback": [
      "\u001b[0;31m---------------------------------------------------------------------------\u001b[0m",
      "\u001b[0;31mNameError\u001b[0m                                 Traceback (most recent call last)",
      "Cell \u001b[0;32mIn[60], line 1\u001b[0m\n\u001b[0;32m----> 1\u001b[0m \u001b[43mp\u001b[49m\n",
      "\u001b[0;31mNameError\u001b[0m: name 'p' is not defined"
     ]
    }
   ],
   "source": [
    "p"
   ]
  }
 ],
 "metadata": {
  "kernelspec": {
   "display_name": "Python 3 (ipykernel)",
   "language": "python",
   "name": "python3"
  },
  "language_info": {
   "codemirror_mode": {
    "name": "ipython",
    "version": 3
   },
   "file_extension": ".py",
   "mimetype": "text/x-python",
   "name": "python",
   "nbconvert_exporter": "python",
   "pygments_lexer": "ipython3",
   "version": "3.11.3"
  }
 },
 "nbformat": 4,
 "nbformat_minor": 5
}
