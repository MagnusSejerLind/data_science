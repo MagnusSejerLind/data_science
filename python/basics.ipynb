{
 "cells": [
  {
   "cell_type": "markdown",
   "id": "5ff87cbf-a8f5-4a81-acfe-fef429481f70",
   "metadata": {},
   "source": [
    "# Python Basics"
   ]
  },
  {
   "cell_type": "markdown",
   "id": "6c8a53e6-9c97-41be-86b1-0a4d2488a816",
   "metadata": {},
   "source": [
    "## Hello world!"
   ]
  },
  {
   "cell_type": "markdown",
   "id": "2ab384cb-b1d8-4932-856e-e06be7bcf234",
   "metadata": {},
   "source": [
    "To print \"Hello world!\" using `python`, we just need to call the function `print()` with the string `\"Hello world!\"`"
   ]
  },
  {
   "cell_type": "code",
   "execution_count": 14,
   "id": "032d69a3-a3fe-408e-ada6-640758980075",
   "metadata": {},
   "outputs": [
    {
     "name": "stdout",
     "output_type": "stream",
     "text": [
      "Hello world!\n"
     ]
    }
   ],
   "source": [
    "print(\"Hello world!\")"
   ]
  },
  {
   "cell_type": "markdown",
   "id": "6ec68544-0256-49bf-8c8a-8dc670618435",
   "metadata": {},
   "source": [
    "## Basic math and variables"
   ]
  },
  {
   "cell_type": "markdown",
   "id": "6ee208b3-a9f1-4c8e-a9e3-9ba8562b9389",
   "metadata": {},
   "source": [
    "### Basic operations"
   ]
  },
  {
   "cell_type": "markdown",
   "id": "04051cfc-902e-4f9f-a69e-3720a39c4809",
   "metadata": {},
   "source": [
    "Basic mathematical operations can be performed between values of the **same** type (e.g. `int`, `float`, `boolean`, `str`)."
   ]
  },
  {
   "cell_type": "code",
   "execution_count": 22,
   "id": "e5e07f3a-7353-4287-beae-b569cf47bcb5",
   "metadata": {},
   "outputs": [
    {
     "data": {
      "text/plain": [
       "4"
      ]
     },
     "execution_count": 22,
     "metadata": {},
     "output_type": "execute_result"
    }
   ],
   "source": [
    "# Sum (by the way, this is how to comment stuff in python :))\n",
    "2 + 2"
   ]
  },
  {
   "cell_type": "code",
   "execution_count": 31,
   "id": "13ad6960-aaf1-4fb8-abbf-2d20b739acfb",
   "metadata": {},
   "outputs": [
    {
     "data": {
      "text/plain": [
       "5"
      ]
     },
     "execution_count": 31,
     "metadata": {},
     "output_type": "execute_result"
    }
   ],
   "source": [
    "# Subtraction\n",
    "8 - 3"
   ]
  },
  {
   "cell_type": "code",
   "execution_count": 30,
   "id": "b37b27cc-6f4a-4f65-a922-ec91f617ada8",
   "metadata": {},
   "outputs": [
    {
     "data": {
      "text/plain": [
       "14.0"
      ]
     },
     "execution_count": 30,
     "metadata": {},
     "output_type": "execute_result"
    }
   ],
   "source": [
    "# Multiplication\n",
    "3.5 * 4"
   ]
  },
  {
   "cell_type": "code",
   "execution_count": 32,
   "id": "c127f7e6-436d-4884-a77c-d6e5007557e0",
   "metadata": {},
   "outputs": [
    {
     "data": {
      "text/plain": [
       "3.0"
      ]
     },
     "execution_count": 32,
     "metadata": {},
     "output_type": "execute_result"
    }
   ],
   "source": [
    "# Division\n",
    "4.5 / 1.5"
   ]
  },
  {
   "cell_type": "code",
   "execution_count": 26,
   "id": "da4112f3-6945-4208-8834-dda8c5c5554e",
   "metadata": {},
   "outputs": [
    {
     "data": {
      "text/plain": [
       "'pippopluto'"
      ]
     },
     "execution_count": 26,
     "metadata": {},
     "output_type": "execute_result"
    }
   ],
   "source": [
    "# concatenation of string \n",
    "\"pippo\" + \"pluto\""
   ]
  },
  {
   "cell_type": "code",
   "execution_count": 27,
   "id": "4fcac231-3128-4072-8a62-3998dc5f444e",
   "metadata": {},
   "outputs": [
    {
     "ename": "TypeError",
     "evalue": "can only concatenate str (not \"int\") to str",
     "output_type": "error",
     "traceback": [
      "\u001b[0;31m---------------------------------------------------------------------------\u001b[0m",
      "\u001b[0;31mTypeError\u001b[0m                                 Traceback (most recent call last)",
      "Cell \u001b[0;32mIn[27], line 2\u001b[0m\n\u001b[1;32m      1\u001b[0m \u001b[38;5;66;03m# different types -> strange results or errors\u001b[39;00m\n\u001b[0;32m----> 2\u001b[0m \u001b[38;5;124;43m\"\u001b[39;49m\u001b[38;5;124;43mpippo\u001b[39;49m\u001b[38;5;124;43m\"\u001b[39;49m\u001b[43m \u001b[49m\u001b[38;5;241;43m+\u001b[39;49m\u001b[43m \u001b[49m\u001b[38;5;241;43m2\u001b[39;49m\n",
      "\u001b[0;31mTypeError\u001b[0m: can only concatenate str (not \"int\") to str"
     ]
    }
   ],
   "source": [
    "# different types -> strange results or errors\n",
    "\"pippo\" + 2"
   ]
  },
  {
   "cell_type": "code",
   "execution_count": 33,
   "id": "d4ca0e40-0bb2-440e-95d8-f096ca596636",
   "metadata": {},
   "outputs": [
    {
     "data": {
      "text/plain": [
       "3"
      ]
     },
     "execution_count": 33,
     "metadata": {},
     "output_type": "execute_result"
    }
   ],
   "source": [
    "# in this case True is a bool and it is converted to the int 1.\n",
    "2 + True"
   ]
  },
  {
   "cell_type": "markdown",
   "id": "323a319e-416a-4cb3-9bdd-0f87f4c0a48e",
   "metadata": {},
   "source": [
    "### Variables and types"
   ]
  },
  {
   "cell_type": "markdown",
   "id": "65058ec3-ca5f-44f9-9318-67b0f7f2dd30",
   "metadata": {},
   "source": [
    "A variable is a container for storing data values. A variable is created in the moment we assign a value to it. For example, if we want to define a variable $x$ containing the value $2$"
   ]
  },
  {
   "cell_type": "code",
   "execution_count": 36,
   "id": "5295adca-c829-4b21-abc8-c089448776dc",
   "metadata": {},
   "outputs": [
    {
     "data": {
      "text/plain": [
       "2"
      ]
     },
     "execution_count": 36,
     "metadata": {},
     "output_type": "execute_result"
    }
   ],
   "source": [
    "x = 2\n",
    "x"
   ]
  },
  {
   "cell_type": "markdown",
   "id": "8bffc710-873c-48fb-8815-3f696356ca4a",
   "metadata": {},
   "source": [
    "Once we assign to a variable a value, we can perform operations "
   ]
  },
  {
   "cell_type": "code",
   "execution_count": 37,
   "id": "d93da64a-d831-430a-9534-461249c36b06",
   "metadata": {},
   "outputs": [
    {
     "data": {
      "text/plain": [
       "4"
      ]
     },
     "execution_count": 37,
     "metadata": {},
     "output_type": "execute_result"
    }
   ],
   "source": [
    "x + x"
   ]
  },
  {
   "cell_type": "markdown",
   "id": "c2ffd805-96e2-40ff-b3e8-8255608de7dd",
   "metadata": {},
   "source": [
    "To define $2$ as a `float` we put a dot next to it"
   ]
  },
  {
   "cell_type": "code",
   "execution_count": 7,
   "id": "6e22f781-a7f0-4abd-818d-39f014629da9",
   "metadata": {},
   "outputs": [],
   "source": [
    "x = 2."
   ]
  },
  {
   "cell_type": "markdown",
   "id": "7a1d6420-a2c9-491e-8080-abe4e0e9040b",
   "metadata": {},
   "source": [
    "The command `type()` leads us to compute the type of a variable. We can transform a `float` to an `int` via the command `int()`"
   ]
  },
  {
   "cell_type": "code",
   "execution_count": 15,
   "id": "204350f0-dda3-4ce4-bdfb-c8cffd5fd44c",
   "metadata": {},
   "outputs": [
    {
     "data": {
      "text/plain": [
       "float"
      ]
     },
     "execution_count": 15,
     "metadata": {},
     "output_type": "execute_result"
    }
   ],
   "source": [
    "type(x)"
   ]
  },
  {
   "cell_type": "code",
   "execution_count": 16,
   "id": "5615252e-662b-43fd-84bd-8d00ec850547",
   "metadata": {},
   "outputs": [
    {
     "data": {
      "text/plain": [
       "int"
      ]
     },
     "execution_count": 16,
     "metadata": {},
     "output_type": "execute_result"
    }
   ],
   "source": [
    "type(int(x))"
   ]
  },
  {
   "cell_type": "markdown",
   "id": "768cb1ad-11a2-4860-bf12-da4cfeedb0f2",
   "metadata": {},
   "source": [
    "## Containers"
   ]
  },
  {
   "cell_type": "markdown",
   "id": "0439a82c-647c-48c3-905a-8f7ae5fcabc0",
   "metadata": {},
   "source": [
    "As the name suggests, a container is an object that store multiple items in a single variable. There are $4$ built-in containers in `python`: lists, tuples, dictionaries and sets."
   ]
  },
  {
   "cell_type": "markdown",
   "id": "87739744-041b-47df-813a-ca6635716eb0",
   "metadata": {},
   "source": [
    "### Lists"
   ]
  },
  {
   "cell_type": "code",
   "execution_count": 85,
   "id": "a3af2f8e-a0da-43d8-b378-ffd7c71a10a0",
   "metadata": {},
   "outputs": [
    {
     "data": {
      "text/plain": [
       "[1, False, 'Aarhus', 15, 24]"
      ]
     },
     "execution_count": 85,
     "metadata": {},
     "output_type": "execute_result"
    }
   ],
   "source": [
    "# definition of a list storing variables of different types\n",
    "l = [1, False, \"Aarhus\", 15, 24]\n",
    "l"
   ]
  },
  {
   "cell_type": "code",
   "execution_count": 88,
   "id": "07241b04-44a9-49bf-997a-be3014572ace",
   "metadata": {},
   "outputs": [
    {
     "data": {
      "text/plain": [
       "1"
      ]
     },
     "execution_count": 88,
     "metadata": {},
     "output_type": "execute_result"
    }
   ],
   "source": [
    "# get the first element of a list \n",
    "l[0]"
   ]
  },
  {
   "cell_type": "markdown",
   "id": "eb96285f-bf61-44fe-b36e-1e229929d089",
   "metadata": {},
   "source": [
    "Let's see some easy tricks :)"
   ]
  },
  {
   "cell_type": "code",
   "execution_count": 89,
   "id": "5e66f7e9-13bc-4d3a-ba43-a37fa7aacd57",
   "metadata": {},
   "outputs": [
    {
     "data": {
      "text/plain": [
       "24"
      ]
     },
     "execution_count": 89,
     "metadata": {},
     "output_type": "execute_result"
    }
   ],
   "source": [
    "# last element\n",
    "l[-1]"
   ]
  },
  {
   "cell_type": "code",
   "execution_count": 90,
   "id": "f81447d3-9f56-4c46-8a0b-05aa10a10c85",
   "metadata": {},
   "outputs": [
    {
     "data": {
      "text/plain": [
       "[False, 'Aarhus', 15, 24]"
      ]
     },
     "execution_count": 90,
     "metadata": {},
     "output_type": "execute_result"
    }
   ],
   "source": [
    "# the list l without the first element\n",
    "l[1:]"
   ]
  },
  {
   "cell_type": "code",
   "execution_count": 91,
   "id": "29e17f0b-29c9-46d5-ab76-5071d5cee62d",
   "metadata": {},
   "outputs": [
    {
     "data": {
      "text/plain": [
       "[1, False, 'Aarhus', 15]"
      ]
     },
     "execution_count": 91,
     "metadata": {},
     "output_type": "execute_result"
    }
   ],
   "source": [
    "# the list l without the last element\n",
    "l[:-1]"
   ]
  },
  {
   "cell_type": "code",
   "execution_count": 92,
   "id": "81478810-0d80-4d44-886c-d51098ec920a",
   "metadata": {},
   "outputs": [
    {
     "data": {
      "text/plain": [
       "[1, 'Aarhus', 24]"
      ]
     },
     "execution_count": 92,
     "metadata": {},
     "output_type": "execute_result"
    }
   ],
   "source": [
    "# get even-indexed elements\n",
    "l[::2]"
   ]
  },
  {
   "cell_type": "code",
   "execution_count": 93,
   "id": "74bc14c1-2c08-4ea4-a1bc-9e108d35d066",
   "metadata": {},
   "outputs": [
    {
     "data": {
      "text/plain": [
       "[24, 15, 'Aarhus', False, 1]"
      ]
     },
     "execution_count": 93,
     "metadata": {},
     "output_type": "execute_result"
    }
   ],
   "source": [
    "# reverse a list\n",
    "l[::-1]"
   ]
  },
  {
   "cell_type": "markdown",
   "id": "3e8c5a27-9ef2-4156-ac86-e3370f96cc76",
   "metadata": {},
   "source": [
    "We can also define list of lists"
   ]
  },
  {
   "cell_type": "code",
   "execution_count": 94,
   "id": "6093a0c3-d9e0-4d6b-9e30-46647f0a866d",
   "metadata": {},
   "outputs": [
    {
     "data": {
      "text/plain": [
       "[[1, False, 'Aarhus', 15, 24], [False, 'Aarhus', 15, 24]]"
      ]
     },
     "execution_count": 94,
     "metadata": {},
     "output_type": "execute_result"
    }
   ],
   "source": [
    "ll = [l, l[1:]]\n",
    "ll"
   ]
  },
  {
   "cell_type": "markdown",
   "id": "466e6b22-b7b2-46ec-82ff-7734dcbcc3ae",
   "metadata": {},
   "source": [
    "Be careful with indices: what is `ll[0][::2]`?"
   ]
  },
  {
   "cell_type": "markdown",
   "id": "8ef34c58-42f9-4bfc-a7c9-f8cc95bb9209",
   "metadata": {},
   "source": [
    "### Basic list operations"
   ]
  },
  {
   "cell_type": "code",
   "execution_count": 73,
   "id": "67f35108-07d7-413f-9acf-e696c9db3f2f",
   "metadata": {},
   "outputs": [
    {
     "data": {
      "text/plain": [
       "[1, False, 'Aarhus', 15, 24, 'pluto']"
      ]
     },
     "execution_count": 73,
     "metadata": {},
     "output_type": "execute_result"
    }
   ],
   "source": [
    "# add to the end\n",
    "l.append(\"pluto\")\n",
    "l"
   ]
  },
  {
   "cell_type": "code",
   "execution_count": 77,
   "id": "4c1a77b7-7164-4d5b-b8d6-bc8fa9e4c198",
   "metadata": {},
   "outputs": [
    {
     "data": {
      "text/plain": [
       "[1, False, 'Aarhus', 15, 24, 'pluto', 'pluto']"
      ]
     },
     "execution_count": 77,
     "metadata": {},
     "output_type": "execute_result"
    }
   ],
   "source": [
    "# alternative to append (as we did for the strings)\n",
    "l + [\"pluto\"]"
   ]
  },
  {
   "cell_type": "code",
   "execution_count": 79,
   "id": "8a53dc74-b840-4fb5-aeb6-3c8ff3580654",
   "metadata": {},
   "outputs": [
    {
     "data": {
      "text/plain": [
       "1"
      ]
     },
     "execution_count": 79,
     "metadata": {},
     "output_type": "execute_result"
    }
   ],
   "source": [
    "# \"pop off\" item 0 from the list\n",
    "l.pop(0)"
   ]
  },
  {
   "cell_type": "code",
   "execution_count": 80,
   "id": "0944bfa6-35b6-4c17-be2c-f62e43edd22a",
   "metadata": {},
   "outputs": [
    {
     "data": {
      "text/plain": [
       "[False, 'Aarhus', 15, 24, False, 'Aarhus', 15, 24]"
      ]
     },
     "execution_count": 80,
     "metadata": {},
     "output_type": "execute_result"
    }
   ],
   "source": [
    "# duble the list\n",
    "l*2"
   ]
  },
  {
   "cell_type": "markdown",
   "id": "3c8b2895-246e-446f-94ee-0b578402efda",
   "metadata": {},
   "source": [
    "### Tuples"
   ]
  },
  {
   "cell_type": "markdown",
   "id": "64b305fa-05c6-45ba-b05f-21eff3d027f3",
   "metadata": {},
   "source": [
    "### Dictionaries"
   ]
  },
  {
   "cell_type": "markdown",
   "id": "ee1c43ca-9d9c-4c28-9aa5-5d65098309af",
   "metadata": {},
   "source": [
    "### Sets"
   ]
  }
 ],
 "metadata": {
  "kernelspec": {
   "display_name": "Python 3 (ipykernel)",
   "language": "python",
   "name": "python3"
  },
  "language_info": {
   "codemirror_mode": {
    "name": "ipython",
    "version": 3
   },
   "file_extension": ".py",
   "mimetype": "text/x-python",
   "name": "python",
   "nbconvert_exporter": "python",
   "pygments_lexer": "ipython3",
   "version": "3.11.3"
  }
 },
 "nbformat": 4,
 "nbformat_minor": 5
}
