{
 "cells": [
  {
   "cell_type": "markdown",
   "id": "f021b80e-8d15-47ee-ae20-39347e281fa9",
   "metadata": {},
   "source": [
    "# 2-dimensional Poisson equation"
   ]
  },
  {
   "cell_type": "markdown",
   "id": "53c4ddce-9adf-463f-80f7-b9e83cd3e615",
   "metadata": {},
   "source": [
    "Some references:\n",
    "- [Medium](https://levelup.gitconnected.com/solving-2d-heat-equation-numerically-using-python-3334004aa01a)\n",
    "- [scipython](https://scipython.com/book/chapter-7-matplotlib/examples/the-two-dimensional-diffusion-equation/)\n",
    "\n",
    "The space quantities are discretized with standard Finite Difference Method (FDM), while to discretize time we use explicit Euler method."
   ]
  },
  {
   "cell_type": "code",
   "execution_count": null,
   "id": "74f72c4e-12d9-427d-8e65-5b90a221d14c",
   "metadata": {},
   "outputs": [],
   "source": [
    "# for array manipulation and linear algebra\n",
    "import numpy as np\n",
    "# for plotting\n",
    "import matplotlib.pyplot as plt\n",
    "import matplotlib.animation as animation\n",
    "from matplotlib.animation import FuncAnimation\n",
    "from IPython.display import HTML\n",
    "from IPython.display import display"
   ]
  },
  {
   "cell_type": "code",
   "execution_count": null,
   "id": "25e5f120-cd71-4aff-9580-b540fc3d3c00",
   "metadata": {},
   "outputs": [],
   "source": [
    "plate_length = 50\n",
    "max_iter_time = 500\n",
    "\n",
    "# diffusion coefficient\n",
    "alpha = 2\n",
    "# delta_x = delta_y\n",
    "delta_x = 1\n",
    "\n",
    "# in order to have the stability of the explicit Euler\n",
    "delta_t = (delta_x ** 2)/(4 * alpha)\n",
    "gamma = (alpha * delta_t) / (delta_x ** 2)"
   ]
  },
  {
   "cell_type": "code",
   "execution_count": null,
   "id": "b49880b0-ed55-40e2-997e-0686905eb8ef",
   "metadata": {},
   "outputs": [],
   "source": [
    "# Initialize solution: the grid of u(k, i, j) to zero everywhere\n",
    "u_without_bc = np.zeros((max_iter_time, plate_length, plate_length))\n",
    "\n",
    "\n",
    "# Boundary conditions\n",
    "u_top = 100.0\n",
    "u_left = 0.0\n",
    "u_bottom = 0.0\n",
    "u_right = 0.0\n",
    "\n",
    "def set_boundary_conditions(u, plate_length, u_top, u_left, u_bottom, u_right):\n",
    "    \"\"\"Set the boundary conditions to a given initial candidate solution.\n",
    "\n",
    "    Args:\n",
    "        u: the initial candidate solution without BC.\n",
    "        plate_length: length of the square plate.\n",
    "        u_top: value of the temperature on the top edge.\n",
    "        u_left: value of the temperature on the left edge.\n",
    "        u_bottom: value of the temperature on the bottom edge.\n",
    "        u_right: value of the temperature on the right edge.\n",
    "        \n",
    "    Returns:\n",
    "        the initial candidate solution with the right bc.\n",
    "    \"\"\"\n",
    "    u[:, (plate_length-1):, :] = u_top\n",
    "    u[:, :, :1] = u_left\n",
    "    u[:, :1, 1:] = u_bottom\n",
    "    u[:, :, (plate_length-1):] = u_right\n",
    "    return u\n",
    "\n",
    "\n",
    "# Set the boundary conditions\n",
    "u_0 = set_boundary_conditions(u_without_bc, plate_length, u_top, u_left, u_bottom, u_right)"
   ]
  },
  {
   "cell_type": "code",
   "execution_count": null,
   "id": "361a10d2-4e4a-468a-ab45-c80bc2c83835",
   "metadata": {},
   "outputs": [],
   "source": [
    "def solve(u):\n",
    "    \"\"\"Apply the discretization method.\n",
    "\n",
    "    Args:\n",
    "        u: the initial candidate solution.\n",
    "\n",
    "    Returns:\n",
    "        the tensor representing the solution found for each time step\n",
    "    \n",
    "    \"\"\"\n",
    "    for k in range(0, max_iter_time-1, 1):\n",
    "        u[k+1, 1:-1, 1:-1] = u[k,1:-1, 1:-1] + gamma*(u[k, 2:, 1:-1] - 2*u[k,1:-1, 1:-1] + u[k,:-2, 1:-1] + u[k,1:-1, 2:] - 2*u[k,1:-1, 1:-1] + u[k,1:-1, :-2])\n",
    "    return u"
   ]
  },
  {
   "cell_type": "code",
   "execution_count": null,
   "id": "1371d8e9-6919-4361-91be-10361ec1a9db",
   "metadata": {},
   "outputs": [],
   "source": [
    "def plotheatmap(u_k, k):\n",
    "    # Clear the current plot figure\n",
    "    plt.clf()\n",
    "\n",
    "    plt.title(f\"Temperature at t = {k*delta_t:.3f} unit time\")\n",
    "    plt.xlabel(\"x\")\n",
    "    plt.ylabel(\"y\")\n",
    "\n",
    "    # This is to plot u_k (u at time-step k)\n",
    "    plt.pcolormesh(u_k, cmap=plt.cm.jet, vmin=0, vmax=100)\n",
    "    plt.colorbar()\n",
    "\n",
    "    return plt\n",
    "\n",
    "# compute u\n",
    "u = solve(u_0)\n",
    "print(\"Done!\")\n",
    "\n",
    "# to perform the animation\n",
    "def animate(k):\n",
    "    plotheatmap(u[k], k)\n",
    "\n",
    "\n",
    "anim = animation.FuncAnimation(plt.figure(), animate, interval=1, frames=max_iter_time, repeat=False)\n",
    "display(HTML(anim.to_jshtml()))"
   ]
  },
  {
   "cell_type": "code",
   "execution_count": null,
   "id": "75b22b6f-12b3-4452-b392-eac297022358",
   "metadata": {},
   "outputs": [],
   "source": [
    "# new boundary conditions\n",
    "u_top = 0.0\n",
    "u_left = 0.0\n",
    "u_bottom = 0.0\n",
    "u_right = 0.0\n",
    "\n",
    "# new u_initial (random temperature between 28.5 and 55.5 degree)\n",
    "u_without_bc = np.random.uniform(low=28.5, high=55.5, size=(max_iter_time,plate_length,plate_length))\n",
    "\n",
    "# set the bc\n",
    "u = set_boundary_conditions(u_without_bc, plate_length, u_top, u_left, u_bottom, u_right)\n",
    "\n",
    "# compute u\n",
    "u = solve(u)\n",
    "print(\"Done!\")\n",
    "\n",
    "anim = animation.FuncAnimation(plt.figure(), animate, interval=1, frames=max_iter_time, repeat=False)\n",
    "display(HTML(anim.to_jshtml()))"
   ]
  }
 ],
 "metadata": {
  "kernelspec": {
   "display_name": "Python 3 (ipykernel)",
   "language": "python",
   "name": "python3"
  },
  "language_info": {
   "codemirror_mode": {
    "name": "ipython",
    "version": 3
   },
   "file_extension": ".py",
   "mimetype": "text/x-python",
   "name": "python",
   "nbconvert_exporter": "python",
   "pygments_lexer": "ipython3",
   "version": "3.11.3"
  }
 },
 "nbformat": 4,
 "nbformat_minor": 5
}
