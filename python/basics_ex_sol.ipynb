{
 "cells": [
  {
   "cell_type": "code",
   "execution_count": 1,
   "id": "18b506f2-4dd0-4083-888d-3041f01959ef",
   "metadata": {},
   "outputs": [],
   "source": [
    "def is_in_range(num, low, up):\n",
    "    return True if (num >= low and num <= up) else False"
   ]
  },
  {
   "cell_type": "code",
   "execution_count": 2,
   "id": "91aba896-1ca9-4574-9e4a-7cf5ace87521",
   "metadata": {},
   "outputs": [
    {
     "name": "stdout",
     "output_type": "stream",
     "text": [
      "True\n",
      "False\n"
     ]
    }
   ],
   "source": [
    "print(is_in_range(5, 3, 7))\n",
    "print(is_in_range(5, 3, 4))"
   ]
  },
  {
   "cell_type": "code",
   "execution_count": 3,
   "id": "b2afb5c0-92fd-48bf-981e-b7cc28b4f73f",
   "metadata": {},
   "outputs": [],
   "source": [
    "# non recursive\n",
    "def factorial(n):\n",
    "    if n<0:\n",
    "      return 0\n",
    "    elif n==0:\n",
    "      return 1\n",
    "    factorial = 1\n",
    "    while n>0:\n",
    "      factorial*=n\n",
    "      n -= 1\n",
    "    return factorial"
   ]
  },
  {
   "cell_type": "code",
   "execution_count": 4,
   "id": "e0031f39-bcf4-4242-a41a-8c5435d02411",
   "metadata": {},
   "outputs": [
    {
     "data": {
      "text/plain": [
       "120"
      ]
     },
     "execution_count": 4,
     "metadata": {},
     "output_type": "execute_result"
    }
   ],
   "source": [
    "factorial(5)"
   ]
  },
  {
   "cell_type": "code",
   "execution_count": 5,
   "id": "529506b1-dfdd-47e2-83ba-b02365e65fca",
   "metadata": {},
   "outputs": [],
   "source": [
    "# recursive\n",
    "def factorial(n):\n",
    "  if n<0:\n",
    "      return 0\n",
    "  elif n==0:\n",
    "    return 1\n",
    "  return n*factorial(n-1)"
   ]
  },
  {
   "cell_type": "code",
   "execution_count": 6,
   "id": "2919982c-ecbc-494c-ad5e-74c06b00c5b3",
   "metadata": {},
   "outputs": [
    {
     "data": {
      "text/plain": [
       "120"
      ]
     },
     "execution_count": 6,
     "metadata": {},
     "output_type": "execute_result"
    }
   ],
   "source": [
    "factorial(5)"
   ]
  },
  {
   "cell_type": "code",
   "execution_count": 7,
   "id": "3c10d58c-d5c6-441f-94b4-85e371c8ffe9",
   "metadata": {},
   "outputs": [],
   "source": [
    "# O(n)\n",
    "def is_prime(n):\n",
    "  for i in range(2,int(n/2)):\n",
    "    if (n%i) == 0:\n",
    "      return False\n",
    "  return True"
   ]
  },
  {
   "cell_type": "code",
   "execution_count": 8,
   "id": "7cdf2e25-200f-4de3-99f9-432ffab0056e",
   "metadata": {},
   "outputs": [
    {
     "data": {
      "text/plain": [
       "True"
      ]
     },
     "execution_count": 8,
     "metadata": {},
     "output_type": "execute_result"
    }
   ],
   "source": [
    "is_prime(2)"
   ]
  },
  {
   "cell_type": "code",
   "execution_count": 9,
   "id": "a130c1fc-7e59-4d87-b163-500897db4708",
   "metadata": {},
   "outputs": [],
   "source": [
    "# O(sqrt(n))\n",
    "import math\n",
    "def is_prime(n):\n",
    "  for i in range(2,int(math.sqrt(n))+1):\n",
    "    if (n%i) == 0:\n",
    "      return False\n",
    "  return True"
   ]
  },
  {
   "cell_type": "code",
   "execution_count": 10,
   "id": "4c14aaf8-e351-44bd-a5f4-c56785c749f5",
   "metadata": {},
   "outputs": [
    {
     "data": {
      "text/plain": [
       "True"
      ]
     },
     "execution_count": 10,
     "metadata": {},
     "output_type": "execute_result"
    }
   ],
   "source": [
    "is_prime(29)"
   ]
  },
  {
   "cell_type": "code",
   "execution_count": 11,
   "id": "945f6a68-b75e-45b3-86ae-4c031ba7aa81",
   "metadata": {},
   "outputs": [],
   "source": [
    "def letters_counter(s):\n",
    "    lower=0\n",
    "    upper=0\n",
    "    for i in s:\n",
    "        if i.islower():\n",
    "              lower+=1\n",
    "        elif i.isupper():\n",
    "              upper+=1\n",
    "    return lower,upper"
   ]
  },
  {
   "cell_type": "code",
   "execution_count": 12,
   "id": "e7195225-7f79-41f1-899d-b8f717120eea",
   "metadata": {},
   "outputs": [
    {
     "data": {
      "text/plain": [
       "(11, 3)"
      ]
     },
     "execution_count": 12,
     "metadata": {},
     "output_type": "execute_result"
    }
   ],
   "source": [
    "letters_counter(\"I am Mickey Mouse\")"
   ]
  },
  {
   "cell_type": "code",
   "execution_count": 13,
   "id": "e3cfc2db-680a-473e-a1cb-7e49d741aaeb",
   "metadata": {},
   "outputs": [],
   "source": [
    "def unique_list(l):\n",
    "    return list(set(l))"
   ]
  },
  {
   "cell_type": "code",
   "execution_count": 14,
   "id": "ba30a2a0-6d5d-4067-9422-fe92af18bb8d",
   "metadata": {},
   "outputs": [
    {
     "data": {
      "text/plain": [
       "[1, 2, 3, 4, 5]"
      ]
     },
     "execution_count": 14,
     "metadata": {},
     "output_type": "execute_result"
    }
   ],
   "source": [
    "unique_list([1,4,2,5,3,4,3,5])"
   ]
  },
  {
   "cell_type": "code",
   "execution_count": 15,
   "id": "12450fe5-518b-4037-8f03-0388070e10eb",
   "metadata": {},
   "outputs": [],
   "source": [
    "# without bonus\n",
    "def is_palindrome(s):\n",
    "    # s without spaces\n",
    "    s_no_space = s.replace(\" \", \"\")\n",
    "    return s_no_space == s_no_space[::-1]"
   ]
  },
  {
   "cell_type": "code",
   "execution_count": 16,
   "id": "beba4311-b42c-4bbc-bb77-f019f77fb1f4",
   "metadata": {},
   "outputs": [
    {
     "data": {
      "text/plain": [
       "True"
      ]
     },
     "execution_count": 16,
     "metadata": {},
     "output_type": "execute_result"
    }
   ],
   "source": [
    "is_palindrome(\"amo roma\")"
   ]
  },
  {
   "cell_type": "code",
   "execution_count": 17,
   "id": "184010ff-7857-44d7-af1d-229e3dc4cbe9",
   "metadata": {},
   "outputs": [],
   "source": [
    "# with bonus\n",
    "def is_palindrome(*args):\n",
    "    result = []\n",
    "    for s in args:\n",
    "        # s without spaces\n",
    "        s_no_space = s.replace(\" \", \"\")\n",
    "        result.append(s_no_space == s_no_space[::-1])\n",
    "    return result"
   ]
  },
  {
   "cell_type": "code",
   "execution_count": 18,
   "id": "5c67d1be-2fdf-43f9-afbd-10e3832910e9",
   "metadata": {},
   "outputs": [
    {
     "data": {
      "text/plain": [
       "[True, True]"
      ]
     },
     "execution_count": 18,
     "metadata": {},
     "output_type": "execute_result"
    }
   ],
   "source": [
    "is_palindrome(\"amo roma\", \"wont lovers revolt now\")"
   ]
  }
 ],
 "metadata": {
  "kernelspec": {
   "display_name": "Python 3 (ipykernel)",
   "language": "python",
   "name": "python3"
  },
  "language_info": {
   "codemirror_mode": {
    "name": "ipython",
    "version": 3
   },
   "file_extension": ".py",
   "mimetype": "text/x-python",
   "name": "python",
   "nbconvert_exporter": "python",
   "pygments_lexer": "ipython3",
   "version": "3.11.3"
  }
 },
 "nbformat": 4,
 "nbformat_minor": 5
}
