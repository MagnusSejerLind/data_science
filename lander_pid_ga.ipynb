{
 "cells": [
  {
   "cell_type": "code",
   "execution_count": 4,
   "id": "ce3aa5ae-527f-47c0-83fc-9a28f7f2b0f8",
   "metadata": {
    "tags": []
   },
   "outputs": [],
   "source": [
    "import gymnasium as gym\n",
    "import numpy as np\n",
    "import matplotlib.pyplot as plt\n",
    "from time import sleep\n",
    "from deap import base, creator, tools, algorithms\n",
    "import random"
   ]
  },
  {
   "cell_type": "code",
   "execution_count": 5,
   "id": "e788a42e-a46f-4732-9c65-2862d1f0312a",
   "metadata": {},
   "outputs": [],
   "source": [
    "def pid(state, params):\n",
    "    \"\"\" calculates settings based on pid control \"\"\"\n",
    "    # PID parameters\n",
    "    kp_alt = params[0]  # proportional altitude\n",
    "    kd_alt = params[1]  # derivative altitude\n",
    "    kp_ang = params[2]  # proportional angle\n",
    "    kd_ang = params[3]  # derivative angle\n",
    "    \n",
    "    # Calculate setpoints (target values)\n",
    "    alt_tgt = np.abs(state[0])\n",
    "    ang_tgt = (.25*np.pi)*(state[0]+state[2])\n",
    "\n",
    "    # Calculate error values\n",
    "    alt_error = (alt_tgt - state[1])\n",
    "    ang_error = (ang_tgt - state[4])\n",
    "    \n",
    "    # Use PID to get adjustments\n",
    "    alt_adj = kp_alt*alt_error + kd_alt*state[3]\n",
    "    ang_adj = kp_ang*ang_error + kd_ang*state[5]\n",
    "        \n",
    "    # Gym wants them as np array (-1,1)\n",
    "    a = np.array([alt_adj, ang_adj])\n",
    "    a = np.clip(a, -1, +1)\n",
    "    \n",
    "    # If the legs are on the ground we made it, kill engines\n",
    "    if(state[6] or state[7]):\n",
    "        a[:] = 0   \n",
    "    return a"
   ]
  },
  {
   "cell_type": "code",
   "execution_count": 39,
   "id": "5da168c9-d5bc-4a8d-9835-62d8341b4f29",
   "metadata": {},
   "outputs": [],
   "source": [
    "def run(params, env, verbose=False):\n",
    "    \"\"\" runs an episode given pid parameters \"\"\"\n",
    "    print(params)\n",
    "    state_list = []\n",
    "    done = False\n",
    "    state, _ = env.reset()\n",
    "    if verbose:\n",
    "        env.render()\n",
    "        sleep(.005)\n",
    "    state_list.append(state)\n",
    "    total = 0\n",
    "    while not done:\n",
    "        a = pid(state,params)\n",
    "        new_state,reward,done, _, _ = env.step(a)\n",
    "        total += reward\n",
    "        if verbose:\n",
    "            env.render()\n",
    "            sleep(.005)\n",
    "        state_list.append(new_state)\n",
    "    print(total)\n",
    "    return total, state_list"
   ]
  },
  {
   "cell_type": "code",
   "execution_count": 41,
   "id": "ccd01b3c-7e0a-4695-a17e-9582311d2315",
   "metadata": {},
   "outputs": [],
   "source": [
    "def evalParams(individual, env):\n",
    "    # test params over 5 trial avg\n",
    "    scores = []\n",
    "    for trial in range(5):\n",
    "        score, _ = run(individual,env)\n",
    "        scores.append(score)\n",
    "    print(scores)\n",
    "    mean_score = np.mean(scores)\n",
    "    return mean_score,\n",
    "\n",
    "def init_ga():\n",
    "    creator.create(\"FitnessMax\", base.Fitness, weights=(1.0,))\n",
    "    creator.create(\"Individual\", list, fitness=creator.FitnessMax)\n",
    "\n",
    "    toolbox = base.Toolbox()\n",
    "    toolbox.register(\"attr_float\", random.uniform, a=-10., b=10.)\n",
    "    toolbox.register(\"individual\", tools.initRepeat, creator.Individual,\n",
    "                     toolbox.attr_float, n=4)\n",
    "    toolbox.register(\"population\", tools.initRepeat, list, toolbox.individual)\n",
    "    toolbox.register(\"evaluate\", evalParams, env=env)\n",
    "    toolbox.register(\"mate\", tools.cxOnePoint)\n",
    "    toolbox.register(\"mutate\", tools.mutGaussian, mu=0., sigma=2., indpb=0.25)\n",
    "    toolbox.register(\"select\", tools.selBest)\n",
    "    return toolbox\n",
    "\n",
    "\n",
    "def optimize(NIND, NGEN, toolbox):\n",
    "    \"\"\"Optimize PID gains using GA. \"\"\"\n",
    "\n",
    "    pop = toolbox.population(n=NIND)\n",
    "    pop = [creator.Individual([11.61865094, -12.78856075, -9.62512774, 3.32275742])]\n",
    "    hof = tools.HallOfFame(1)\n",
    "    stats = tools.Statistics(lambda ind: ind.fitness.values)\n",
    "    stats.register(\"avg\", np.mean)\n",
    "    stats.register(\"std\", np.std)\n",
    "    stats.register(\"min\", np.min)\n",
    "    stats.register(\"max\", np.max)\n",
    "\n",
    "    pop, log = algorithms.eaMuPlusLambda(pop, toolbox, mu=NIND, lambda_=NIND, cxpb=0.7, mutpb=0.3,\n",
    "                                        ngen=NGEN, stats=stats, halloffame=hof, verbose=True)\n",
    "\n",
    "    params = tools.selBest(pop, 1)[0]\n",
    "    return params"
   ]
  },
  {
   "cell_type": "code",
   "execution_count": 42,
   "id": "581d49cc-c9f4-4e06-9c8a-e69d9526f854",
   "metadata": {
    "scrolled": true
   },
   "outputs": [
    {
     "name": "stdout",
     "output_type": "stream",
     "text": [
      "[11.61865094, -12.78856075, -9.62512774, 3.32275742]\n",
      "-591.696951767706\n",
      "[11.61865094, -12.78856075, -9.62512774, 3.32275742]\n",
      "-439.97913371717794\n",
      "[11.61865094, -12.78856075, -9.62512774, 3.32275742]\n",
      "-491.2191045084921\n",
      "[11.61865094, -12.78856075, -9.62512774, 3.32275742]\n",
      "-797.1057091148431\n",
      "[11.61865094, -12.78856075, -9.62512774, 3.32275742]\n",
      "-777.785522633006\n",
      "[-591.696951767706, -439.97913371717794, -491.2191045084921, -797.1057091148431, -777.785522633006]\n",
      "gen\tnevals\tavg     \tstd\tmin     \tmax     \n",
      "0  \t1     \t-619.557\t0  \t-619.557\t-619.557\n",
      "The best parameters are [11.61865094, -12.78856075, -9.62512774, 3.32275742]\n",
      "The best fitness is -619.557284348245\n"
     ]
    }
   ],
   "source": [
    "# Setup environment\n",
    "env = gym.make(\"LunarLanderContinuous-v2\")\n",
    "state, info = env.reset(seed=42)\n",
    "\n",
    "#RUN GA\n",
    "NIND = 1\n",
    "NGEN = 0\n",
    "toolbox = init_ga()\n",
    "params = optimize(NIND, NGEN, toolbox)\n",
    "print(f\"The best parameters are {params}\")\n",
    "print(f\"The best fitness is {params.fitness.values[0]}\")\n",
    "params = np.array(params)\n",
    "env.close()"
   ]
  },
  {
   "cell_type": "code",
   "execution_count": 22,
   "id": "e69bd144-8bfa-451f-b73d-60173c00410b",
   "metadata": {},
   "outputs": [
    {
     "name": "stdout",
     "output_type": "stream",
     "text": [
      "-591.696951767706\n",
      "-591.696951767706\n",
      "-439.97913371717794\n",
      "-439.97913371717794\n",
      "-491.2191045084921\n",
      "-491.2191045084921\n",
      "-797.1057091148431\n",
      "-797.1057091148431\n",
      "-777.785522633006\n",
      "-777.785522633006\n"
     ]
    }
   ],
   "source": [
    "#Final runs with tuned PID\n",
    "params = np.array([11.61865094, -12.78856075, -9.62512774, 3.32275742])\n",
    "env = gym.make(\"LunarLanderContinuous-v2\", render_mode = \"human\")\n",
    "state, info = env.reset(seed=42)\n",
    "for _ in range(5):\n",
    "    total, state_list = run(params, env, verbose=True)\n",
    "    print(total)\n",
    "env.close()"
   ]
  },
  {
   "cell_type": "code",
   "execution_count": null,
   "id": "d8c1729f-b4ab-4dc3-adc1-00222bd5ab10",
   "metadata": {
    "scrolled": true,
    "tags": []
   },
   "outputs": [],
   "source": [
    "def graph(states):\n",
    "        states_reshaped = np.array(states).reshape(len(states),-1)\n",
    "        plt.plot(states_reshaped[:,0],label='x')\n",
    "        plt.plot(states_reshaped[:,1],label='y')\n",
    "        plt.plot(states_reshaped[:,2],label='vx')\n",
    "        plt.plot(states_reshaped[:,3],label='vy')\n",
    "        plt.plot(states_reshaped[:,4],label='theta')\n",
    "        plt.plot(states_reshaped[:,5],label='vtheta')\n",
    "        plt.legend()\n",
    "        plt.grid()\n",
    "        plt.ylim(-1.1,1.1)\n",
    "        plt.title('PID Control')\n",
    "        plt.ylabel('Value')\n",
    "        plt.xlabel('Steps')\n",
    "        plt.show('pid.png')\n",
    "# Print average score and show/save plot (call data.graph)\n",
    "\n",
    "# env._max_episode_steps = 300\n",
    "\n",
    "# Seed RNGs\n",
    "# np.random.seed(0)\n",
    "# env.seed(0)\n",
    "\n",
    "# Get data for final run\n",
    "# scores = []\n",
    "# for trial in range(10):\n",
    "#   score, data = run(params, env, True)\n",
    "#    scores.append(score)\n",
    "#  print(\"Average Score:\",np.mean(scores))\n",
    "# data.graph()"
   ]
  }
 ],
 "metadata": {
  "kernelspec": {
   "display_name": "Python 3 (ipykernel)",
   "language": "python",
   "name": "python3"
  },
  "language_info": {
   "codemirror_mode": {
    "name": "ipython",
    "version": 3
   },
   "file_extension": ".py",
   "mimetype": "text/x-python",
   "name": "python",
   "nbconvert_exporter": "python",
   "pygments_lexer": "ipython3",
   "version": "3.11.3"
  }
 },
 "nbformat": 4,
 "nbformat_minor": 5
}
