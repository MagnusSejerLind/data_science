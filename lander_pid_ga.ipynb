{
 "cells": [
  {
   "cell_type": "markdown",
   "id": "60cb0b1b-21bf-4469-ba72-b766dbd41598",
   "metadata": {},
   "source": [
    "# Lunar Lander"
   ]
  },
  {
   "cell_type": "markdown",
   "id": "927a3637-438a-4f72-bfaf-7ad352101ed6",
   "metadata": {},
   "source": [
    "## Imports for this lesson"
   ]
  },
  {
   "cell_type": "code",
   "execution_count": 31,
   "id": "ce3aa5ae-527f-47c0-83fc-9a28f7f2b0f8",
   "metadata": {
    "tags": []
   },
   "outputs": [],
   "source": [
    "import gymnasium as gym\n",
    "import numpy as np\n",
    "import matplotlib.pyplot as plt\n",
    "from time import sleep\n",
    "from deap import base, creator, tools, algorithms\n",
    "import random"
   ]
  },
  {
   "cell_type": "markdown",
   "id": "526bb5dd-b1d0-4016-8727-576b67767e1b",
   "metadata": {},
   "source": [
    "## Description of the problem"
   ]
  },
  {
   "cell_type": "markdown",
   "id": "ed157ef3-6e5c-4112-b7fd-d53972f3a006",
   "metadata": {},
   "source": [
    "The goal is to land the shuttle safely in a safe zone."
   ]
  },
  {
   "cell_type": "markdown",
   "id": "804418f1-8316-4cad-9fac-e72000d67c5c",
   "metadata": {},
   "source": [
    "<img src=\"https://www.gymlibrary.dev/_images/lunar_lander.gif\" width=\"400\" align=\"center\">\r\n",
    "\n"
   ]
  },
  {
   "cell_type": "markdown",
   "id": "49f00a95-f88e-4181-b9a5-e247d98873af",
   "metadata": {},
   "source": [
    "### Observation space"
   ]
  },
  {
   "cell_type": "markdown",
   "id": "4c74ae71-7e6e-4165-aca0-61d81fece60f",
   "metadata": {},
   "source": [
    "At each timestep the lander has access to its current state, consisting of\n",
    "- the coordinates of the lander in $x$ and $y$;\n",
    "- the coordinates of its linear velocity in $x$ and $y$;\n",
    "- its angle;\n",
    "- its angular velocity;\n",
    "-  two booleans that represent whether each leg is in contact with the ground or not (touch sensors on each leg)."
   ]
  },
  {
   "cell_type": "markdown",
   "id": "9871c684-6680-4116-965f-e6cfeaca9d07",
   "metadata": {},
   "source": [
    "### PID controller"
   ]
  },
  {
   "cell_type": "markdown",
   "id": "7f046e4f-5146-4b73-9e40-f03d76ba084f",
   "metadata": {},
   "source": [
    "A Proportional Integrative Derivative (PID) Controller continously calculate an error value $e(t)$ as the difference between a desired setpoint (SP) and a measured process variable (PV). The controller attempts to minimize the error over time by adjustment of a control variable  $a(t)$ of the form\n",
    "$$a(t) := K_p e(t) + K_i \\int_0^t e(\\tau) d\\tau + K_d \\frac{\\textrm{d}e(t)}{\\textrm{d}t}.$$\n",
    "\n",
    "In our setting, PV are the altitude and the angle of the lander. The SP is composed by:\n",
    "- an altitude setpoint equal to $|x_{p}|$, where $x_p$ is the $x$-coordinate of the actual position of the lander. This coincides with the horizontal distance to the target.\n",
    "- an angle setpoint equal to $\\frac{\\pi}{4}(x_p + v_x)$, where $v_x$ is the $x$-coordinate of the velocity of the lander.\n",
    "\n",
    "In our case, the PID controller is actually a PD controller, since the I component is not needed<span style=\"color:red\"> WHY? </span> "
   ]
  },
  {
   "cell_type": "code",
   "execution_count": 42,
   "id": "e788a42e-a46f-4732-9c65-2862d1f0312a",
   "metadata": {},
   "outputs": [],
   "source": [
    "def pid(state, params):\n",
    "    \"\"\" Calculates settings based on PID control. \n",
    "\n",
    "    Args:\n",
    "        state (list): 8-element list of the current space, containing respectively the\n",
    "        x and y coordinates of the lander, x and y coordinates of its velocity, its\n",
    "        angle, its angular velocity and finally two booleans representing the touch\n",
    "        sensors on each leg.\n",
    "        params (list): 4-element list of the current PID parameters, respectively the\n",
    "        proportional and derivative altitude and the proportional and derivative\n",
    "        angle.\n",
    "    \n",
    "    Returns:\n",
    "        (np.array) the current action.\n",
    "    \"\"\"\n",
    "    #PID PARAMETERS\n",
    "    # proportional altitude\n",
    "    kp_y = params[0] \n",
    "    # derivative altitude\n",
    "    kd_y = params[1]\n",
    "    # proportional angle\n",
    "    kp_angle = params[2]  \n",
    "    # derivative angle\n",
    "    kd_angle = params[3] \n",
    "\n",
    "    # CURRENT SPACE PARAMETERS\n",
    "    # x-coordinate of the lander\n",
    "    x_p = state[0]\n",
    "    # y-coordinate of the lander\n",
    "    y_p = state[1]\n",
    "    # x-coordinate of the velocity\n",
    "    v_x = state[2]\n",
    "    # y-coordinate of the velocity\n",
    "    v_y = state[3]\n",
    "    # angle of the lander\n",
    "    angle = state[4]\n",
    "    # angular velocity\n",
    "    omega = state[5]\n",
    "    # touch sensors\n",
    "    touch_sensor_1 = state[6]\n",
    "    touch_sensor_2 = state[7]\n",
    "    \n",
    "    # calculate setpoints (target values)\n",
    "    y_target = np.abs(x_p)\n",
    "    angle_target = (np.pi/4)*(x_p + v_x)\n",
    "\n",
    "    # calculate error values\n",
    "    y_error = (y_target - y_p)\n",
    "    angle_error = (angle_target - angle)\n",
    "    \n",
    "    # compute a(t) = [a_y(t), a_angle(t)]\n",
    "    a_y = kp_y*y_error + kd_y*v_y\n",
    "    a_angle = kp_angle*angle_error + kd_angle*omega\n",
    "        \n",
    "    # gym wants them as a np.array in which each entry\n",
    "    # belongs to the interval [-1,1]\n",
    "    a = np.array([a_y, a_angle])\n",
    "    a = np.clip(a, -1, +1)\n",
    "    \n",
    "    # If the legs are on the ground we made it, kill engines\n",
    "    if(touch_sensor_1 or touch_sensor_2):\n",
    "        a[:] = 0   \n",
    "    return a"
   ]
  },
  {
   "cell_type": "markdown",
   "id": "0b03787c-2826-4f35-b29b-9ea9ff4f7786",
   "metadata": {},
   "source": [
    "## Optimize PID parameters via Genetic Algorithms"
   ]
  },
  {
   "cell_type": "code",
   "execution_count": 41,
   "id": "5da168c9-d5bc-4a8d-9835-62d8341b4f29",
   "metadata": {
    "scrolled": true
   },
   "outputs": [],
   "source": [
    "def run(params, env, verbose=False):\n",
    "    \"\"\" Runs an episode given PID parameters. \n",
    "\n",
    "    Args:\n",
    "        params (list): PID parameters.\n",
    "        env (gym.Env): gym environment.\n",
    "        verbose (bool): True if we want to see the rendering of the run.\n",
    "\n",
    "    Returns:\n",
    "        (float, list) the total reward and the list containing all the states\n",
    "        investigated.\n",
    "    \"\"\"\n",
    "    # initialize state list\n",
    "    state_list = []\n",
    "    terminated = False\n",
    "    truncated = False\n",
    "    # reset environment\n",
    "    state, _ = env.reset()\n",
    "    if verbose:\n",
    "        env.render()\n",
    "        sleep(.005)\n",
    "    state_list.append(state)\n",
    "    total_reward = 0\n",
    "\n",
    "    # main loop of the run\n",
    "    while not (terminated or truncated):\n",
    "        a = pid(state,params)\n",
    "        # run one step of the environment’s dynamics.\n",
    "        new_state,reward, terminated, truncated, _ = env.step(a)\n",
    "        # update total_reward\n",
    "        total_reward += reward\n",
    "        if verbose:\n",
    "            env.render()\n",
    "            sleep(.005)\n",
    "        state_list.append(new_state)\n",
    "        # update current state\n",
    "        state = new_state\n",
    "    return total_reward, state_list"
   ]
  },
  {
   "cell_type": "code",
   "execution_count": 38,
   "id": "ccd01b3c-7e0a-4695-a17e-9582311d2315",
   "metadata": {},
   "outputs": [],
   "source": [
    "def evalParams(individual, env):\n",
    "    # test params over 5 trial avg\n",
    "    scores = []\n",
    "    for trial in range(5):\n",
    "        score, _ = run(individual,env)\n",
    "        scores.append(score)\n",
    "    mean_score = np.mean(scores)\n",
    "    return mean_score,\n",
    "\n",
    "def init_ga():\n",
    "    creator.create(\"FitnessMax\", base.Fitness, weights=(1.0,))\n",
    "    creator.create(\"Individual\", list, fitness=creator.FitnessMax)\n",
    "\n",
    "    toolbox = base.Toolbox()\n",
    "    toolbox.register(\"attr_float\", random.uniform, a=-10., b=10.)\n",
    "    toolbox.register(\"individual\", tools.initRepeat, creator.Individual,\n",
    "                     toolbox.attr_float, n=4)\n",
    "    toolbox.register(\"population\", tools.initRepeat, list, toolbox.individual)\n",
    "    toolbox.register(\"evaluate\", evalParams, env=env)\n",
    "    toolbox.register(\"mate\", tools.cxOnePoint)\n",
    "    toolbox.register(\"mutate\", tools.mutGaussian, mu=0., sigma=1., indpb=0.25)\n",
    "    toolbox.register(\"select\", tools.selBest)\n",
    "    return toolbox\n",
    "\n",
    "\n",
    "def optimize(NIND, NGEN, toolbox):\n",
    "    \"\"\"Optimize PID gains using GA. \"\"\"\n",
    "\n",
    "    pop = toolbox.population(n=NIND)\n",
    "    hof = tools.HallOfFame(1)\n",
    "    stats = tools.Statistics(lambda ind: ind.fitness.values)\n",
    "    stats.register(\"avg\", np.mean)\n",
    "    stats.register(\"std\", np.std)\n",
    "    stats.register(\"min\", np.min)\n",
    "    stats.register(\"max\", np.max)\n",
    "\n",
    "    pop, log = algorithms.eaMuPlusLambda(pop, toolbox, mu=NIND, lambda_=NIND, cxpb=0.5, mutpb=0.2,\n",
    "                                         ngen=NGEN, stats=stats, halloffame=hof, verbose=True)\n",
    "\n",
    "    params = tools.selBest(pop, 1)[0]\n",
    "    return params"
   ]
  },
  {
   "cell_type": "code",
   "execution_count": 39,
   "id": "581d49cc-c9f4-4e06-9c8a-e69d9526f854",
   "metadata": {
    "scrolled": true
   },
   "outputs": [
    {
     "name": "stdout",
     "output_type": "stream",
     "text": [
      "gen\tnevals\tavg     \tstd    \tmin     \tmax   \n",
      "0  \t20    \t-2702.98\t6254.67\t-21536.7\t238.62\n",
      "1  \t15    \t-496.936\t298.965\t-752.183\t238.62\n",
      "2  \t13    \t-296.374\t277.033\t-614.164\t242.18\n",
      "3  \t14    \t-40.0981\t221.709\t-386.959\t271.859\n",
      "4  \t13    \t170.735 \t130.099\t-115.589\t271.859\n",
      "5  \t13    \t247.753 \t11.3996\t237.225 \t271.859\n",
      "6  \t18    \t256.828 \t10.0785\t242.18  \t276.676\n",
      "7  \t14    \t266.966 \t6.37797\t254.968 \t282.864\n",
      "8  \t11    \t272.126 \t5.2742 \t266.489 \t282.864\n",
      "9  \t16    \t274.973 \t4.40957\t269.601 \t282.864\n",
      "10 \t10    \t277.652 \t3.92035\t271.859 \t284.533\n",
      "11 \t16    \t279.012 \t2.874  \t275.126 \t284.533\n",
      "12 \t9     \t280.79  \t2.41907\t277.459 \t284.533\n",
      "13 \t18    \t282.208 \t2.00814\t278.923 \t285.881\n",
      "14 \t10    \t283.521 \t1.5138 \t282.654 \t289.008\n",
      "15 \t13    \t283.724 \t1.55792\t282.864 \t289.008\n",
      "16 \t14    \t283.828 \t1.5444 \t282.864 \t289.008\n",
      "17 \t13    \t285.057 \t3.72931\t282.864 \t299.214\n",
      "18 \t16    \t286.279 \t4.45793\t282.864 \t299.214\n",
      "19 \t13    \t288.422 \t5.24036\t283.901 \t299.214\n",
      "20 \t14    \t288.956 \t5.02507\t284.533 \t299.214\n",
      "The best parameters are [6.848978293899222, -5.832298073806208, -6.200515623207432, 6.175337066511272]\n",
      "The best fitness is 299.21412925133154\n"
     ]
    }
   ],
   "source": [
    "# Setup environment\n",
    "env = gym.make(\"LunarLanderContinuous-v2\")\n",
    "state, info = env.reset(seed=42)\n",
    "\n",
    "#RUN GA\n",
    "NIND = 20\n",
    "NGEN = 20\n",
    "toolbox = init_ga()\n",
    "params = optimize(NIND, NGEN, toolbox)\n",
    "print(f\"The best parameters are {params}\")\n",
    "print(f\"The best fitness is {params.fitness.values[0]}\")\n",
    "params = np.array(params)\n",
    "env.close()"
   ]
  },
  {
   "cell_type": "code",
   "execution_count": 40,
   "id": "e69bd144-8bfa-451f-b73d-60173c00410b",
   "metadata": {},
   "outputs": [],
   "source": [
    "#Final runs with tuned PID\n",
    "env = gym.make(\"LunarLanderContinuous-v2\", render_mode = \"human\")\n",
    "env._max_episode_steps = 300\n",
    "state, info = env.reset(seed=42)\n",
    "for _ in range(5):\n",
    "    total, state_list = run(params, env, verbose=True)\n",
    "env.close()"
   ]
  },
  {
   "cell_type": "code",
   "execution_count": null,
   "id": "d8c1729f-b4ab-4dc3-adc1-00222bd5ab10",
   "metadata": {
    "scrolled": true,
    "tags": []
   },
   "outputs": [],
   "source": [
    "def graph(states):\n",
    "        states_reshaped = np.array(states).reshape(len(states),-1)\n",
    "        plt.plot(states_reshaped[:,0],label='x')\n",
    "        plt.plot(states_reshaped[:,1],label='y')\n",
    "        plt.plot(states_reshaped[:,2],label='vx')\n",
    "        plt.plot(states_reshaped[:,3],label='vy')\n",
    "        plt.plot(states_reshaped[:,4],label='theta')\n",
    "        plt.plot(states_reshaped[:,5],label='vtheta')\n",
    "        plt.legend()\n",
    "        plt.grid()\n",
    "        plt.ylim(-1.1,1.1)\n",
    "        plt.title('PID Control')\n",
    "        plt.ylabel('Value')\n",
    "        plt.xlabel('Steps')\n",
    "        plt.show()\n",
    "\n",
    "graph(state_list)\n",
    "    \n"
   ]
  }
 ],
 "metadata": {
  "kernelspec": {
   "display_name": "Python 3 (ipykernel)",
   "language": "python",
   "name": "python3"
  },
  "language_info": {
   "codemirror_mode": {
    "name": "ipython",
    "version": 3
   },
   "file_extension": ".py",
   "mimetype": "text/x-python",
   "name": "python",
   "nbconvert_exporter": "python",
   "pygments_lexer": "ipython3",
   "version": "3.11.3"
  }
 },
 "nbformat": 4,
 "nbformat_minor": 5
}
