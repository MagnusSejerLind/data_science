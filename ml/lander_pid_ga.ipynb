{
 "cells": [
  {
   "cell_type": "markdown",
   "id": "60cb0b1b-21bf-4469-ba72-b766dbd41598",
   "metadata": {},
   "source": [
    "# Lunar Lander"
   ]
  },
  {
   "cell_type": "markdown",
   "id": "15ef75a6-67c6-41f3-935c-0685d3d72bd4",
   "metadata": {},
   "source": [
    "### References"
   ]
  },
  {
   "cell_type": "markdown",
   "id": "4faca46a-bdeb-4034-a4a2-14889ea5cdc2",
   "metadata": {},
   "source": [
    "- [Lunar Lander Gym](https://www.gymlibrary.dev/environments/box2d/lunar_lander/)\n",
    "- [DEAP documentation](https://deap.readthedocs.io/en/master/index.html)\n",
    "- [Inspirational repository](https://github.com/wfleshman/PID_Control)\r\n"
   ]
  },
  {
   "cell_type": "markdown",
   "id": "927a3637-438a-4f72-bfaf-7ad352101ed6",
   "metadata": {},
   "source": [
    "### Imports for this lesson"
   ]
  },
  {
   "cell_type": "code",
   "execution_count": 13,
   "id": "ce3aa5ae-527f-47c0-83fc-9a28f7f2b0f8",
   "metadata": {
    "tags": []
   },
   "outputs": [],
   "source": [
    "# for lunar lander\n",
    "import gymnasium as gym\n",
    "from time import sleep\n",
    "# array manipulation\n",
    "import numpy as np\n",
    "# for plots\n",
    "import matplotlib.pyplot as plt\n",
    "# for GA\n",
    "from deap import base, creator, tools, algorithms\n",
    "import random"
   ]
  },
  {
   "cell_type": "markdown",
   "id": "526bb5dd-b1d0-4016-8727-576b67767e1b",
   "metadata": {},
   "source": [
    "## Description of the problem"
   ]
  },
  {
   "cell_type": "markdown",
   "id": "ed157ef3-6e5c-4112-b7fd-d53972f3a006",
   "metadata": {},
   "source": [
    "The goal is to land the shuttle safely in a safe zone."
   ]
  },
  {
   "cell_type": "markdown",
   "id": "804418f1-8316-4cad-9fac-e72000d67c5c",
   "metadata": {},
   "source": [
    "<img src=\"https://www.gymlibrary.dev/_images/lunar_lander.gif\" width=\"400\" align=\"center\">\r\n",
    "\n"
   ]
  },
  {
   "cell_type": "markdown",
   "id": "49f00a95-f88e-4181-b9a5-e247d98873af",
   "metadata": {},
   "source": [
    "### Observation space"
   ]
  },
  {
   "cell_type": "markdown",
   "id": "4c74ae71-7e6e-4165-aca0-61d81fece60f",
   "metadata": {},
   "source": [
    "At each timestep the lander has access to its current state, consisting of\n",
    "- the coordinates of the lander in $x$ and $y$;\n",
    "- the coordinates of its linear velocity in $x$ and $y$;\n",
    "- its angle;\n",
    "- its angular velocity;\n",
    "-  two booleans that represent whether each leg is in contact with the ground or not (touch sensors on each leg)."
   ]
  },
  {
   "cell_type": "markdown",
   "id": "9871c684-6680-4116-965f-e6cfeaca9d07",
   "metadata": {},
   "source": [
    "### PID controller"
   ]
  },
  {
   "cell_type": "markdown",
   "id": "7f046e4f-5146-4b73-9e40-f03d76ba084f",
   "metadata": {},
   "source": [
    "A Proportional Integrative Derivative (PID) Controller continously calculate an error value $e(t)$ as the difference between a desired setpoint (SP) and a measured process variable (PV). The controller attempts to minimize the error over time by adjustment of a control variable  $a(t)$ of the form\n",
    "$$a(t) := K_p e(t) + K_i \\int_0^t e(\\tau) d\\tau + K_d \\frac{\\textrm{d}e(t)}{\\textrm{d}t}.$$\n",
    "\n",
    "In our setting, PV are the altitude and the angle of the lander. The SP is composed by:\n",
    "- an altitude setpoint equal to $|x_{p}|$, where $x_p$ is the $x$-coordinate of the actual position of the lander. This coincides with the horizontal distance to the target.\n",
    "- an angle setpoint equal to $\\frac{\\pi}{4}(x_p + v_x)$, where $v_x$ is the $x$-coordinate of the velocity of the lander.\n",
    "\n",
    "In our case, the PID controller is actually a PD controller, since the I component is not needed."
   ]
  },
  {
   "cell_type": "code",
   "execution_count": 5,
   "id": "e788a42e-a46f-4732-9c65-2862d1f0312a",
   "metadata": {},
   "outputs": [],
   "source": [
    "def pid(state, params):\n",
    "    \"\"\" Calculates settings based on PID control. \n",
    "\n",
    "    Args:\n",
    "        state (list): 8-element list of the current space, containing respectively the\n",
    "        x and y coordinates of the lander, x and y coordinates of its velocity, its\n",
    "        angle, its angular velocity and finally two booleans representing the touch\n",
    "        sensors on each leg.\n",
    "        params (list): 4-element list of the current PID parameters, respectively the\n",
    "        proportional and derivative altitude and the proportional and derivative\n",
    "        angle.\n",
    "    \n",
    "    Returns:\n",
    "        (np.array) the current action.\n",
    "    \"\"\"\n",
    "    #PID PARAMETERS\n",
    "    # proportional altitude\n",
    "    kp_y = params[0] \n",
    "    # derivative altitude\n",
    "    kd_y = params[1]\n",
    "    # proportional angle\n",
    "    kp_angle = params[2]  \n",
    "    # derivative angle\n",
    "    kd_angle = params[3] \n",
    "\n",
    "    # CURRENT SPACE PARAMETERS\n",
    "    # x-coordinate of the lander\n",
    "    x_p = state[0]\n",
    "    # y-coordinate of the lander\n",
    "    y_p = state[1]\n",
    "    # x-coordinate of the velocity\n",
    "    v_x = state[2]\n",
    "    # y-coordinate of the velocity\n",
    "    v_y = state[3]\n",
    "    # angle of the lander\n",
    "    angle = state[4]\n",
    "    # angular velocity\n",
    "    omega = state[5]\n",
    "    # touch sensors\n",
    "    touch_sensor_1 = state[6]\n",
    "    touch_sensor_2 = state[7]\n",
    "    \n",
    "    # calculate setpoints (target values)\n",
    "    y_target = np.abs(x_p)\n",
    "    angle_target = (np.pi/4)*(x_p + v_x)\n",
    "\n",
    "    # calculate error values\n",
    "    y_error = (y_target - y_p)\n",
    "    angle_error = (angle_target - angle)\n",
    "    \n",
    "    # compute a(t) = [a_y(t), a_angle(t)]\n",
    "    a_y = kp_y*y_error + kd_y*v_y\n",
    "    a_angle = kp_angle*angle_error + kd_angle*omega\n",
    "        \n",
    "    # gym wants them as a np.array in which each entry\n",
    "    # belongs to the interval [-1,1]\n",
    "    a = np.array([a_y, a_angle])\n",
    "    a = np.clip(a, -1, +1)\n",
    "    \n",
    "    # If the legs are on the ground we made it, kill engines\n",
    "    if(touch_sensor_1 or touch_sensor_2):\n",
    "        a[:] = 0   \n",
    "    return a"
   ]
  },
  {
   "cell_type": "markdown",
   "id": "0b03787c-2826-4f35-b29b-9ea9ff4f7786",
   "metadata": {},
   "source": [
    "## Optimize PID parameters via Genetic Algorithms"
   ]
  },
  {
   "cell_type": "markdown",
   "id": "ec3cf348-13d9-4381-a7fe-6074bdbe22b2",
   "metadata": {},
   "source": [
    "We have to optimize the four PID parameters, i.e. $$[k_p^y, k_p^{\\text{angle}}, k_d^y, k_d^{\\text{angle}}],$$\n",
    "in order to minimize the error $e(t)$. We use a famous genetic algorithm, called $\\mu + \\lambda$ or simply $(\\mu, \\lambda)$. We adopt the following choices.\n",
    "- Individuals are $4$-elements list: each individual is a candidate list of PID parameters.\n",
    "- The crossover operation is the standard one-point crossover.\n",
    "- The mutation operation is the gaussian mutation with mean $0$, variance $1$ and independent probability of $1/4$. The independent probability is the probability for each attribute (i.e. each element of a candidate list) to be mutated, hence if we decide to mutate a list we do it mutating each element with probability $1/4$.\n",
    "- We use a crossover probability of $1/2$, a mutation probability of $1/5$ and $\\mu = \\lambda = n_{\\text{ind}}$, where $n_{\\text{ind}}$ is the starting population size.\n",
    "- We put $n_{\\text{ind}} = 20$ and $n_{\\text{gen}} = 20$ and the starting population is composed of lists (individuals) in which every element is chosen uniformly in the interval $(-10,10)$."
   ]
  },
  {
   "cell_type": "markdown",
   "id": "556ec456-e92c-4178-8e40-54523d62354c",
   "metadata": {},
   "source": [
    "### Fitness"
   ]
  },
  {
   "cell_type": "markdown",
   "id": "90c995a3-9480-4441-b8f5-c053a45b7af4",
   "metadata": {},
   "source": [
    "The fitness is based on the maximization of the total *reward* computed on each episode.\n",
    "Precisely, we compute at each episode state the reward taking into account the following rules.\n",
    "- Reward for moving from the top of the screen to the landing pad and coming to rest is about 100-140 points.\n",
    "- If the lander moves away from the landing pad, it loses reward.\n",
    "- If the lander crashes, it loses $100$ points.\n",
    "- If it comes to rest, it receives an additional +100 points.\n",
    "- Each leg with ground contact is +10 points.\n",
    "- Firing the main engine is $-0.3$ points each frame.\n",
    "- Firing the side engine is $-0.03$ points each frame.\n",
    "- If it lands in the target zone, it receives $200$ points.\n",
    "\n",
    "To evaluate a candidate individual, we test it on $5$ random episodes and we evaluate the mean of the total rewards. This coincides with the fitness of the individual."
   ]
  },
  {
   "cell_type": "code",
   "execution_count": 6,
   "id": "66e7ecac-5421-42fd-83ac-ee1c4b21a574",
   "metadata": {},
   "outputs": [],
   "source": [
    "def run(params, env, verbose=False):\n",
    "    \"\"\" Runs an episode given PID parameters. \n",
    "\n",
    "    Args:\n",
    "        params (list): PID parameters.\n",
    "        env (gym.Env): gym environment.\n",
    "        verbose (bool): True if we want to see the rendering of the run.\n",
    "\n",
    "    Returns:\n",
    "        (float, list) the total reward and the list containing all the states\n",
    "        investigated.\n",
    "    \"\"\"\n",
    "    # initialize state list\n",
    "    state_list = []\n",
    "    terminated = False\n",
    "    truncated = False\n",
    "    # reset environment\n",
    "    state, _ = env.reset()\n",
    "    if verbose:\n",
    "        env.render()\n",
    "        sleep(.005)\n",
    "    state_list.append(state)\n",
    "    total_reward = 0\n",
    "\n",
    "    # main loop of the run\n",
    "    while not (terminated or truncated):\n",
    "        a = pid(state,params)\n",
    "        # run one step of the environment’s dynamics.\n",
    "        new_state,reward, terminated, truncated, _ = env.step(a)\n",
    "        # update total_reward\n",
    "        total_reward += reward\n",
    "        if verbose:\n",
    "            env.render()\n",
    "            sleep(.005)\n",
    "        state_list.append(new_state)\n",
    "        # update current state\n",
    "        state = new_state\n",
    "    return total_reward, state_list"
   ]
  },
  {
   "cell_type": "code",
   "execution_count": 7,
   "id": "8a62beea-b1d0-4f85-90db-8a51789b5f2c",
   "metadata": {},
   "outputs": [],
   "source": [
    "def evalParams(individual, env):\n",
    "    \"\"\" Compute the fitness of an individual.\n",
    "\n",
    "    Args:\n",
    "        individual (list): a candidate individual.\n",
    "        env (gym.Env): gym environment.\n",
    "    Returns:\n",
    "        (tuple): a 1-element tuple containing the fitness of the individual.\n",
    "    \"\"\"\n",
    "    total_rewards = []\n",
    "    # run 5 random episodes and save the total reward\n",
    "    for trial in range(5):\n",
    "        reward, _ = run(individual,env)\n",
    "        total_rewards.append(reward)\n",
    "    mean_reward = np.mean(total_rewards)\n",
    "    # NOTE: the output MUST be a tuple\n",
    "    return mean_reward,"
   ]
  },
  {
   "cell_type": "code",
   "execution_count": 21,
   "id": "40ae2d1f-0077-4eac-90cf-b904741b3991",
   "metadata": {},
   "outputs": [],
   "source": [
    "def init_ga():\n",
    "    \"\"\"Initialize genetic algorithm toolbox\"\"\"\n",
    "    creator.create(\"FitnessMax\", base.Fitness, weights=(1.0,))\n",
    "    # an individual is a list of parameters to maximize according to the fitness\n",
    "    creator.create(\"Individual\", list, fitness=creator.FitnessMax)\n",
    "\n",
    "    # the toolbox is a container of evolutionary operators\n",
    "    toolbox = base.Toolbox()\n",
    "    # each list parameter is a float generated uniformly in (-10,10)\n",
    "    toolbox.register(\"attr_float\", random.uniform, a=-10., b=10.)\n",
    "    toolbox.register(\"individual\", tools.initRepeat, creator.Individual,\n",
    "                     toolbox.attr_float, n=4)\n",
    "    toolbox.register(\"population\", tools.initRepeat, list, toolbox.individual)\n",
    "    # evaluate function (fitness)\n",
    "    toolbox.register(\"evaluate\", evalParams, env=env)\n",
    "    # crossover operation\n",
    "    toolbox.register(\"mate\", tools.cxOnePoint)\n",
    "    # mutation operation\n",
    "    toolbox.register(\"mutate\", tools.mutGaussian, mu=0., sigma=1., indpb=0.25)\n",
    "    # selection operation\n",
    "    toolbox.register(\"select\", tools.selBest)\n",
    "    return toolbox"
   ]
  },
  {
   "cell_type": "code",
   "execution_count": 22,
   "id": "ccd01b3c-7e0a-4695-a17e-9582311d2315",
   "metadata": {},
   "outputs": [],
   "source": [
    "def optimize(NIND, NGEN, toolbox):\n",
    "    \"\"\"Optimize PID gains using GA. \n",
    "\n",
    "    Args:\n",
    "        NIND (int): starting population size.\n",
    "        NGEN (int): number of generations.\n",
    "        toolbox (base.Toolbox): an initialized toolbox.\n",
    "\n",
    "    Returns:\n",
    "        (list): a list with the best PID parameters found.\n",
    "    \"\"\"\n",
    "    pop = toolbox.population(n=NIND)\n",
    "    hof = tools.HallOfFame(1)\n",
    "    # load statistics\n",
    "    stats = tools.Statistics(lambda ind: ind.fitness.values)\n",
    "    stats.register(\"avg\", np.mean)\n",
    "    stats.register(\"std\", np.std)\n",
    "    stats.register(\"min\", np.min)\n",
    "    stats.register(\"max\", np.max)\n",
    "\n",
    "    pop, log = algorithms.eaMuPlusLambda(pop, toolbox, mu=NIND, lambda_=NIND, cxpb=0.5, mutpb=0.2,\n",
    "                                         ngen=NGEN, stats=stats, halloffame=hof, verbose=True)\n",
    "    params = tools.selBest(pop, 1)[0]\n",
    "    return params"
   ]
  },
  {
   "cell_type": "code",
   "execution_count": 23,
   "id": "581d49cc-c9f4-4e06-9c8a-e69d9526f854",
   "metadata": {
    "scrolled": true
   },
   "outputs": [
    {
     "name": "stdout",
     "output_type": "stream",
     "text": [
      "gen\tnevals\tavg    \tstd    \tmin   \tmax    \n",
      "0  \t20    \t-5251.7\t8343.86\t-21630\t10.3089\n",
      "1  \t14    \t-395.236\t225.219\t-641.184\t131.52 \n",
      "2  \t15    \t-179.559\t196.095\t-450.68 \t170.836\n",
      "3  \t13    \t7.59218 \t138.248\t-184.532\t237.73 \n",
      "4  \t13    \t101.021 \t95.0365\t-40.7049\t245.264\n",
      "5  \t16    \t205.852 \t38.4205\t131.52  \t283.441\n",
      "6  \t11    \t232.855 \t24.9179\t192.613 \t283.441\n",
      "7  \t15    \t244.543 \t14.4179\t230.079 \t283.441\n",
      "8  \t14    \t259.718 \t17.8192\t242.166 \t289.293\n",
      "9  \t14    \t267.835 \t16.172 \t247.021 \t289.293\n",
      "10 \t15    \t278.601 \t11.0106\t255.049 \t290.228\n",
      "11 \t11    \t287.344 \t4.70336\t283.243 \t298.884\n",
      "12 \t12    \t291.46  \t4.31597\t285.762 \t298.884\n",
      "13 \t16    \t293.776 \t3.69629\t289.293 \t298.884\n",
      "14 \t13    \t295.015 \t3.0687 \t290.608 \t298.884\n",
      "15 \t11    \t296.632 \t2.16059\t292.564 \t298.884\n",
      "16 \t12    \t297.765 \t0.860616\t295.95  \t298.884\n",
      "17 \t9     \t298.408 \t0.204221\t298.312 \t298.884\n",
      "18 \t13    \t298.436 \t0.227488\t298.312 \t298.884\n",
      "19 \t16    \t298.498 \t0.256211\t298.312 \t298.884\n",
      "20 \t11    \t298.668 \t0.256034\t298.312 \t298.884\n",
      "The best parameters are [3.3857361263451615, -3.159839076211166, -7.684476437836672, 5.48067617890285]\n",
      "The best fitness is 298.8835490943063\n"
     ]
    }
   ],
   "source": [
    "# Setup environment\n",
    "env = gym.make(\"LunarLanderContinuous-v2\")\n",
    "state, info = env.reset(seed=42)\n",
    "\n",
    "#RUN GA\n",
    "NIND = 20\n",
    "NGEN = 20\n",
    "toolbox = init_ga()\n",
    "params = optimize(NIND, NGEN, toolbox)\n",
    "print(f\"The best parameters are {params}\")\n",
    "print(f\"The best fitness is {params.fitness.values[0]}\")\n",
    "params = np.array(params)\n",
    "env.close()"
   ]
  },
  {
   "cell_type": "code",
   "execution_count": 24,
   "id": "e69bd144-8bfa-451f-b73d-60173c00410b",
   "metadata": {},
   "outputs": [],
   "source": [
    "#perform 5 runs with tuned PID\n",
    "env = gym.make(\"LunarLanderContinuous-v2\", render_mode = \"human\")\n",
    "env._max_episode_steps = 300\n",
    "state, info = env.reset(seed=42)\n",
    "for _ in range(5):\n",
    "    total, state_list = run(params, env, verbose=True)\n",
    "env.close()"
   ]
  },
  {
   "cell_type": "code",
   "execution_count": 32,
   "id": "d8c1729f-b4ab-4dc3-adc1-00222bd5ab10",
   "metadata": {
    "scrolled": true,
    "tags": []
   },
   "outputs": [
    {
     "data": {
      "image/png": "[encoded data removed]",
      "text/plain": [
       "<Figure size 640x480 with 1 Axes>"
      ]
     },
     "metadata": {},
     "output_type": "display_data"
    }
   ],
   "source": [
    "# plot check of the final results\n",
    "def graph(states):\n",
    "    \"\"\" Plot the value of the observation space quantities.\n",
    "\n",
    "    Args:\n",
    "        states (list): list of 300 lists in which any list is\n",
    "        an 8-element list of the current space.\n",
    "    \"\"\"\n",
    "    states_reshaped = np.array(states).reshape(len(states),-1)\n",
    "    plt.plot(states_reshaped[:,0],label='$x$')\n",
    "    plt.plot(states_reshaped[:,1],label='$y$')\n",
    "    plt.plot(states_reshaped[:,2],label='$v_x$')\n",
    "    plt.plot(states_reshaped[:,3],label='$v_y$')\n",
    "    plt.plot(states_reshaped[:,4],label='angle')\n",
    "    plt.plot(states_reshaped[:,5],label='$\\omega$')\n",
    "    plt.legend()\n",
    "    plt.grid()\n",
    "    plt.ylim(-1.1,1.1)\n",
    "    plt.title('PID Control')\n",
    "    plt.ylabel('Value')\n",
    "    plt.xlabel('Steps')\n",
    "    plt.show()\n",
    "\n",
    "graph(state_list)\n",
    "    \n"
   ]
  }
 ],
 "metadata": {
  "kernelspec": {
   "display_name": "Python 3 (ipykernel)",
   "language": "python",
   "name": "python3"
  },
  "language_info": {
   "codemirror_mode": {
    "name": "ipython",
    "version": 3
   },
   "file_extension": ".py",
   "mimetype": "text/x-python",
   "name": "python",
   "nbconvert_exporter": "python",
   "pygments_lexer": "ipython3",
   "version": "3.11.3"
  }
 },
 "nbformat": 4,
 "nbformat_minor": 5
}
