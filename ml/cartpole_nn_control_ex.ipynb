{
 "cells": [
  {
   "cell_type": "markdown",
   "id": "e38c49db-2b43-4e1c-8fd6-7c58151486b1",
   "metadata": {},
   "source": [
    "# Exercise - controlling a cart-pole system with a neural network"
   ]
  },
  {
   "cell_type": "code",
   "execution_count": 1,
   "id": "180b9f7c-9f8f-4231-8ba8-d6d0d67454a1",
   "metadata": {},
   "outputs": [],
   "source": [
    "import gymnasium as gym\n",
    "import matplotlib.pyplot as plt\n",
    "from torch import nn, tensor\n",
    "import torch\n",
    "import numpy as np\n",
    "from skorch import NeuralNetBinaryClassifier\n",
    "from sklearn.pipeline import Pipeline\n",
    "from sklearn.preprocessing import StandardScaler"
   ]
  },
  {
   "cell_type": "markdown",
   "id": "640147a6-db23-46ef-bc80-196d456d68a4",
   "metadata": {},
   "source": [
    "1. Familiarize with the [CartPole](https://gymnasium.farama.org/environments/classic_control/cart_pole/) environment of the _Gym_ library. Write a function that plays a given number of games using a model - provided as a parameter to the function, along with the number of games - for the choice of actions. If the model is not provided, choose random actions. The function should return a list of the total scores obtained in each game."
   ]
  },
  {
   "cell_type": "code",
   "execution_count": 2,
   "id": "ab93376a-9ed6-454b-9550-4b7236df1e06",
   "metadata": {},
   "outputs": [
    {
     "ename": "IndentationError",
     "evalue": "expected an indented block after 'if' statement on line 14 (334733766.py, line 17)",
     "output_type": "error",
     "traceback": [
      "\u001b[0;36m  Cell \u001b[0;32mIn[2], line 17\u001b[0;36m\u001b[0m\n\u001b[0;31m    else:\u001b[0m\n\u001b[0m    ^\u001b[0m\n\u001b[0;31mIndentationError\u001b[0m\u001b[0;31m:\u001b[0m expected an indented block after 'if' statement on line 14\n"
     ]
    }
   ],
   "source": [
    "def play_games(num_games, model=None):\n",
    "    scores = []\n",
    "    env = gym.make('CartPole-v1')\n",
    "    for _ in range(num_games):\n",
    "        env.reset()\n",
    "        \n",
    "        # total score for the game\n",
    "        score = 0.\n",
    "        # previous observation: to be passed to the model for prediction of next action\n",
    "        prev_obs = []\n",
    "\n",
    "        # loop over maximum number of steps\n",
    "        for _ in range(500):\n",
    "            if len(prev_obs)== 0 or model is None:\n",
    "                # Take random action\n",
    "                # ...\n",
    "            else:\n",
    "                prev_obs = torch.tensor([prev_obs])\n",
    "                # Take action according to model prediction\n",
    "                # ...\n",
    "            \n",
    "            # Take a step, update score and update previous observation\n",
    "            # ...\n",
    "            \n",
    "            if terminated or truncated:\n",
    "                break\n",
    "\n",
    "        # Update scores\n",
    "        # ...\n",
    "    \n",
    "    env.close()\n",
    "    return scores"
   ]
  },
  {
   "cell_type": "markdown",
   "id": "153f3452-5865-4847-b571-75711df1cbc7",
   "metadata": {},
   "source": [
    "2. Write a function that generates the training data, _i.e._ a _list_ of pairs (observations, actions) for each sample (episode) for which the score is at least 60. The function should play a given number of games taking random actions in the range (0,1) using the environment `env`."
   ]
  },
  {
   "cell_type": "code",
   "execution_count": null,
   "id": "97f1fb55-a929-4028-a0bf-76d31abffa76",
   "metadata": {},
   "outputs": [],
   "source": [
    "def generate_training_data(num_games):\n",
    "    env = gym.make('CartPole-v1')\n",
    "    training_data = []\n",
    "\n",
    "    for _ in range(num_games):\n",
    "        score = 0.\n",
    "        env.reset()\n",
    "        \n",
    "        # list of the pairs (observation, action) for the current game\n",
    "        game_memory = []\n",
    "        previous_observation = []\n",
    "        \n",
    "        for _ in range(500):\n",
    "            # Play random game\n",
    "            # ...\n",
    "\n",
    "            # Add previous observation / current action to the memory\n",
    "            if len(previous_observation) > 0:\n",
    "                # ... \n",
    "\n",
    "            # Update previous observation and total score\n",
    "            # ...\n",
    "            # ...\n",
    "            \n",
    "            if terminated or truncated:\n",
    "                break\n",
    "\n",
    "        # If score >= 60, add the observations/actions of the current game to the training data.\n",
    "        # ...\n",
    "        # ...\n",
    "    \n",
    "    return training_data"
   ]
  },
  {
   "cell_type": "markdown",
   "id": "8dd67526-ab29-4f60-8863-63dad6c6c8cd",
   "metadata": {},
   "source": [
    "3. Generate the training using the above function and reshape into two PyTorch float32 _tensors_:\n",
    "- `X`: shape = (number of training states, 4)\n",
    "- `y`: shape = (number of training states,)\n",
    "\n",
    "_NOTE_: the number of games may be _large_... "
   ]
  },
  {
   "cell_type": "code",
   "execution_count": 3,
   "id": "cc401755-99cd-4308-8130-687f75eb0794",
   "metadata": {},
   "outputs": [],
   "source": [
    "# training_data = ...\n",
    "# X = tensor(..., dtype=torch.float32) ...\n",
    "# y = tensor(..., dtype=torch.float32)"
   ]
  },
  {
   "cell_type": "markdown",
   "id": "33a76e53-c399-4cfb-8513-e13879ed6f44",
   "metadata": {},
   "source": [
    "4. Create a `skorch` [`NeuralNetBinaryClassifier`](https://skorch.readthedocs.io/en/stable/classifier.html?highlight=classifier) object based on the `NN` class below, which takes the 4 components of the observation as an input and returns the _probability_ of pushing the cart to the right (action = 1). Start with one hidden layer with 128 ReLU units. Set the batch size equal to 64, the number of epochs equal to 200, the learning rate equal to 0.01, the criterion equal to the binary cross entropy loss, and the verbosity equal to 1."
   ]
  },
  {
   "cell_type": "code",
   "execution_count": 4,
   "id": "5df49131-2c2b-4f8f-9899-b86812b963b0",
   "metadata": {},
   "outputs": [],
   "source": [
    "class NN(nn.Module):\n",
    "    def __init__(self, num_units=128):\n",
    "        super().__init__()\n",
    "        # ... \n",
    "\n",
    "    def forward(self, x):\n",
    "        x = x.to(torch.float32)\n",
    "        # ...\n",
    "        return y"
   ]
  },
  {
   "cell_type": "code",
   "execution_count": 5,
   "id": "f5512dc8-f205-4c04-acd2-5ca5eb889e7c",
   "metadata": {},
   "outputs": [],
   "source": [
    "# model = NeuralNetBinaryClassifier(...)"
   ]
  },
  {
   "cell_type": "markdown",
   "id": "c20cfc43-769e-47d1-a7b4-6afc83694921",
   "metadata": {},
   "source": [
    "5. Create a _pipeline_ and fit the model. Plot the history of the training and the validation losses."
   ]
  },
  {
   "cell_type": "code",
   "execution_count": 6,
   "id": "65f7b525-b7e7-4a08-81be-723433bb74d0",
   "metadata": {},
   "outputs": [],
   "source": [
    "pipe = Pipeline([\n",
    "# ...\n",
    "])"
   ]
  },
  {
   "cell_type": "markdown",
   "id": "2d26930c-03ec-4cac-8e71-d54ece2223e9",
   "metadata": {},
   "source": [
    "6. Play 1000 games where the actions are chosen according to the trained network. Record the total score per game and then compute the average score. Compare the average score with that of a random controller."
   ]
  },
  {
   "cell_type": "code",
   "execution_count": null,
   "id": "a3f9134d-8b42-4204-aae2-d12f659431f6",
   "metadata": {},
   "outputs": [],
   "source": []
  }
 ],
 "metadata": {
  "kernelspec": {
   "display_name": "Python 3 (ipykernel)",
   "language": "python",
   "name": "python3"
  },
  "language_info": {
   "codemirror_mode": {
    "name": "ipython",
    "version": 3
   },
   "file_extension": ".py",
   "mimetype": "text/x-python",
   "name": "python",
   "nbconvert_exporter": "python",
   "pygments_lexer": "ipython3",
   "version": "3.11.6"
  }
 },
 "nbformat": 4,
 "nbformat_minor": 5
}
