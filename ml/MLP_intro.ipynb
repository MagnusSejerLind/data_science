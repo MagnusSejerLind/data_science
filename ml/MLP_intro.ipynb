{
 "cells": [
  {
   "cell_type": "markdown",
   "id": "02f83822-b831-4a2d-a338-5a7ccd7d4723",
   "metadata": {},
   "source": [
    "# Building a feedforward network: a classification problem"
   ]
  },
  {
   "cell_type": "code",
   "execution_count": 2,
   "id": "924685a0-150e-4eb8-b84e-c4deb8d8bbf0",
   "metadata": {},
   "outputs": [],
   "source": [
    "import os\n",
    "import torch\n",
    "import numpy as np\n",
    "from torch import nn\n",
    "from torch.utils.data import DataLoader, Dataset\n",
    "from torchvision import datasets, transforms\n",
    "from torchvision.transforms import ToTensor\n",
    "import matplotlib.pyplot as plt"
   ]
  },
  {
   "cell_type": "markdown",
   "id": "598cf969-965d-459d-a552-a04751e5ddbf",
   "metadata": {},
   "source": [
    "## Brief introduction to PyTorch: tensors"
   ]
  },
  {
   "cell_type": "markdown",
   "id": "c90647cb-bdfb-4bdb-94f4-8d8c9274c45f",
   "metadata": {},
   "source": [
    "[PyTorch documentation](https://pytorch.org/docs/stable/index.html)\n"
   ]
  },
  {
   "cell_type": "markdown",
   "id": "0ef0b8ea-7098-49f3-8110-279fd3b94e77",
   "metadata": {},
   "source": [
    "We can think of tensors as the PyTorch counterpart of NumPy arrays. Moreover, they offer a several advantages:\n",
    "- They can run on GPUs or other hardware accelerators.\n",
    "- They are optimized for automatic differentiation (backpropagation).\n",
    "- Tensors and NumPy arrays share the same underlying memory."
   ]
  },
  {
   "cell_type": "code",
   "execution_count": 3,
   "id": "9802289b-d1a3-49bb-87db-16a312c8308e",
   "metadata": {},
   "outputs": [
    {
     "data": {
      "text/plain": [
       "tensor([[1, 2],\n",
       "        [3, 4]])"
      ]
     },
     "execution_count": 3,
     "metadata": {},
     "output_type": "execute_result"
    }
   ],
   "source": [
    "# from list to tensor\n",
    "x = [[1, 2],[3, 4]]\n",
    "x_tensor = torch.tensor(x)\n",
    "x_tensor"
   ]
  },
  {
   "cell_type": "code",
   "execution_count": 4,
   "id": "aaf6431f-9193-4fc1-9c92-c9eba0ac7640",
   "metadata": {},
   "outputs": [
    {
     "data": {
      "text/plain": [
       "tensor([[1, 2],\n",
       "        [3, 4]])"
      ]
     },
     "execution_count": 4,
     "metadata": {},
     "output_type": "execute_result"
    }
   ],
   "source": [
    "# from numpy array to tensor\n",
    "x_array = np.array(x)\n",
    "x_tensor = torch.from_numpy(x_array)\n",
    "x_tensor"
   ]
  },
  {
   "cell_type": "code",
   "execution_count": 5,
   "id": "e42cc77c-d822-4f48-9ce2-06131e7c8285",
   "metadata": {},
   "outputs": [
    {
     "data": {
      "text/plain": [
       "tensor([[1, 1],\n",
       "        [1, 1]])"
      ]
     },
     "execution_count": 5,
     "metadata": {},
     "output_type": "execute_result"
    }
   ],
   "source": [
    "# tensor of ones with the same shape as x_tensor\n",
    "x_ones = torch.ones_like(x_tensor)\n",
    "x_ones"
   ]
  },
  {
   "cell_type": "code",
   "execution_count": 8,
   "id": "b4c5c5d7-dc10-4699-8ee7-3f5ac0f235c0",
   "metadata": {},
   "outputs": [
    {
     "data": {
      "text/plain": [
       "tensor([[0.6732, 0.5147],\n",
       "        [0.4879, 0.8367]])"
      ]
     },
     "execution_count": 8,
     "metadata": {},
     "output_type": "execute_result"
    }
   ],
   "source": [
    "# random tensor with the same shape of x_tensor\n",
    "x_rand = torch.rand_like(x_tensor, dtype=torch.float)\n",
    "x_rand"
   ]
  },
  {
   "cell_type": "code",
   "execution_count": 9,
   "id": "a135139f-f56f-49fe-960d-ea947c964dc2",
   "metadata": {},
   "outputs": [
    {
     "name": "stdout",
     "output_type": "stream",
     "text": [
      "Random Tensor: \n",
      " tensor([[0.1310, 0.2049, 0.3168],\n",
      "        [0.9918, 0.8931, 0.5128]]) \n",
      "\n",
      "Ones Tensor: \n",
      " tensor([[1., 1., 1.],\n",
      "        [1., 1., 1.]]) \n",
      "\n",
      "Zeros Tensor: \n",
      " tensor([[0., 0., 0.],\n",
      "        [0., 0., 0.]])\n"
     ]
    }
   ],
   "source": [
    "# build tensors of a given shape\n",
    "shape = (2,3)\n",
    "rand_tensor = torch.rand(shape)\n",
    "ones_tensor = torch.ones(shape)\n",
    "zeros_tensor = torch.zeros(shape)\n",
    "\n",
    "print(f\"Random Tensor: \\n {rand_tensor} \\n\")\n",
    "print(f\"Ones Tensor: \\n {ones_tensor} \\n\")\n",
    "print(f\"Zeros Tensor: \\n {zeros_tensor}\")"
   ]
  },
  {
   "cell_type": "code",
   "execution_count": 10,
   "id": "63e442c6-61b1-4c65-b382-cde3d028c139",
   "metadata": {},
   "outputs": [
    {
     "name": "stdout",
     "output_type": "stream",
     "text": [
      "Shape: torch.Size([3, 4])\n",
      "Datatype: torch.float32\n",
      "Device tensor is stored on: cpu\n"
     ]
    }
   ],
   "source": [
    "# tensor attributes\n",
    "tensor = torch.rand(3,4)\n",
    "\n",
    "print(f\"Shape: {tensor.shape}\")\n",
    "print(f\"Datatype: {tensor.dtype}\")\n",
    "print(f\"Device tensor is stored on: {tensor.device}\")"
   ]
  },
  {
   "cell_type": "code",
   "execution_count": 8,
   "id": "7f98e2c2-d542-4322-a511-31b79a06db50",
   "metadata": {},
   "outputs": [
    {
     "name": "stdout",
     "output_type": "stream",
     "text": [
      "Tensor: tensor([[ 0,  1,  2,  3],\n",
      "        [ 4,  5,  6,  7],\n",
      "        [ 8,  9, 10, 11]])\n",
      "First row: tensor([0, 1, 2, 3])\n",
      "First column: tensor([0, 4, 8])\n",
      "Last column: tensor([ 3,  7, 11])\n",
      "tensor([[ 0,  0,  2,  3],\n",
      "        [ 4,  0,  6,  7],\n",
      "        [ 8,  0, 10, 11]])\n"
     ]
    }
   ],
   "source": [
    "tensor = torch.arange(12).reshape((3,4))\n",
    "print(f\"Tensor: {tensor}\")\n",
    "print(f\"First row: {tensor[0]}\")\n",
    "print(f\"First column: {tensor[:, 0]}\")\n",
    "print(f\"Last column: {tensor[:, -1]}\")\n",
    "tensor[:,1] = 0\n",
    "print(tensor)"
   ]
  },
  {
   "cell_type": "code",
   "execution_count": 9,
   "id": "63baf99a-e4f9-4300-acde-6f2b10a807bd",
   "metadata": {},
   "outputs": [
    {
     "data": {
      "text/plain": [
       "tensor([[ 0,  0,  2,  3,  0,  0,  2,  3,  0,  0,  2,  3],\n",
       "        [ 4,  0,  6,  7,  4,  0,  6,  7,  4,  0,  6,  7],\n",
       "        [ 8,  0, 10, 11,  8,  0, 10, 11,  8,  0, 10, 11]])"
      ]
     },
     "execution_count": 9,
     "metadata": {},
     "output_type": "execute_result"
    }
   ],
   "source": [
    "# concatenate tensors\n",
    "conc_tensor = torch.cat([tensor, tensor, tensor], dim=1)\n",
    "conc_tensor"
   ]
  },
  {
   "cell_type": "code",
   "execution_count": 10,
   "id": "4f05e1b7-f793-4aa7-9494-89264971344b",
   "metadata": {},
   "outputs": [
    {
     "name": "stdout",
     "output_type": "stream",
     "text": [
      "tensor([[ 13,  33,  53],\n",
      "        [ 33, 101, 169],\n",
      "        [ 53, 169, 285]]) tensor([[ 13,  33,  53],\n",
      "        [ 33, 101, 169],\n",
      "        [ 53, 169, 285]])\n",
      "tensor([[  0,   0,   4,   9],\n",
      "        [ 16,   0,  36,  49],\n",
      "        [ 64,   0, 100, 121]]) tensor([[  0,   0,   4,   9],\n",
      "        [ 16,   0,  36,  49],\n",
      "        [ 64,   0, 100, 121]])\n"
     ]
    }
   ],
   "source": [
    "# tensor multiplication (syntactic sugar)\n",
    "t1 = tensor @ tensor.T\n",
    "# tensor multiplication (explicit formulation)\n",
    "t2 = tensor.matmul(tensor.T)\n",
    "print(t1,t2) \n",
    "\n",
    "# element-wise product (syntactic sugar)\n",
    "e1 = tensor * tensor\n",
    "# element-wise product (explicit formulation)\n",
    "e2 = tensor.mul(tensor)\n",
    "print(e1,e2)"
   ]
  },
  {
   "cell_type": "markdown",
   "id": "fdb94ad5-b63f-4c7f-86e2-be923e9e1370",
   "metadata": {},
   "source": [
    "### Interoperation with NumPy "
   ]
  },
  {
   "cell_type": "code",
   "execution_count": 11,
   "id": "f5e4b3e2-4710-4850-a4eb-adf4190bacf8",
   "metadata": {},
   "outputs": [
    {
     "name": "stdout",
     "output_type": "stream",
     "text": [
      "t: tensor([1., 1., 1., 1., 1.])\n",
      "n: [1. 1. 1. 1. 1.]\n"
     ]
    }
   ],
   "source": [
    "# from tensor to numpy\n",
    "t = torch.ones(5)\n",
    "print(f\"t: {t}\")\n",
    "n = t.numpy()\n",
    "print(f\"n: {n}\")"
   ]
  },
  {
   "cell_type": "code",
   "execution_count": 12,
   "id": "9a65f826-6dc1-4c4c-bd3a-2a5337e2c403",
   "metadata": {},
   "outputs": [
    {
     "name": "stdout",
     "output_type": "stream",
     "text": [
      "t: tensor([2., 2., 2., 2., 2.])\n",
      "n: [2. 2. 2. 2. 2.]\n"
     ]
    }
   ],
   "source": [
    "# changing the tensor will also change its numpy counterpart\n",
    "t.add_(1)\n",
    "print(f\"t: {t}\")\n",
    "print(f\"n: {n}\")"
   ]
  },
  {
   "cell_type": "markdown",
   "id": "594ee15e-6fcb-4c36-9a6f-98dd05910be7",
   "metadata": {},
   "source": [
    "## Loading the FashionMNIST dataset"
   ]
  },
  {
   "cell_type": "markdown",
   "id": "cf873f80-7f5d-41ed-99ac-3f31c52248f5",
   "metadata": {},
   "source": [
    "In this section, we are going to see how to train a classifier on a famous dataset, called Fashion-MNIST. It consists of Zalando’s article images, represented by $28 \\times 28$ grayscale images.\n",
    "\n",
    "The following parameters are important for the loading functions:\n",
    "- `root`: is a string explicitating the path where the data are stored.\n",
    "- `train`: is a boolean specifying if the dataset is for training or for test.\n",
    "- `download`: is a boolean specifying to download the data (or not).\n",
    "- `transform`: specify the feature transformations."
   ]
  },
  {
   "cell_type": "code",
   "execution_count": 13,
   "id": "f9bc1030-68df-41c6-bfbc-1c52aad28c60",
   "metadata": {},
   "outputs": [],
   "source": [
    "training_data = datasets.FashionMNIST(\n",
    "    root=\"data\",\n",
    "    train=True,\n",
    "    download=True,\n",
    "    transform=ToTensor()\n",
    ")\n",
    "\n",
    "test_data = datasets.FashionMNIST(\n",
    "    root=\"data\",\n",
    "    train=False,\n",
    "    download=True,\n",
    "    transform=ToTensor()\n",
    ")"
   ]
  },
  {
   "cell_type": "code",
   "execution_count": 14,
   "id": "b2015eac-7c8c-4429-a0cd-51b977ee01e2",
   "metadata": {},
   "outputs": [
    {
     "data": {
      "image/png": "[encoded data removed]",
      "text/plain": [
       "<Figure size 800x800 with 9 Axes>"
      ]
     },
     "metadata": {},
     "output_type": "display_data"
    }
   ],
   "source": [
    "# plot 9 random sample of the training set\n",
    "labels_map = {\n",
    "    0: \"T-Shirt\",\n",
    "    1: \"Trouser\",\n",
    "    2: \"Pullover\",\n",
    "    3: \"Dress\",\n",
    "    4: \"Coat\",\n",
    "    5: \"Sandal\",\n",
    "    6: \"Shirt\",\n",
    "    7: \"Sneaker\",\n",
    "    8: \"Bag\",\n",
    "    9: \"Ankle Boot\",\n",
    "}\n",
    "figure = plt.figure(figsize=(8, 8))\n",
    "cols, rows = 3, 3\n",
    "for i in range(1, cols * rows + 1):\n",
    "    sample_idx = torch.randint(len(training_data), size=(1,)).item()\n",
    "    img, label = training_data[sample_idx]\n",
    "    figure.add_subplot(rows, cols, i)\n",
    "    plt.title(labels_map[label])\n",
    "    plt.axis(\"off\")\n",
    "    plt.imshow(img.squeeze(), cmap=\"gray\")\n",
    "plt.show()"
   ]
  },
  {
   "cell_type": "markdown",
   "id": "4f077d49-674c-4436-8e1e-46d7c8d4376a",
   "metadata": {},
   "source": [
    "### Data Loaders"
   ]
  },
  {
   "cell_type": "markdown",
   "id": "dac09cca-239f-45f5-b6f7-26dfe09ad8ee",
   "metadata": {},
   "source": [
    "It is important to split the datasets into minibatches and to shuffle them at each epoch. `DataLoader` is a PyTorch iterable that abstracts this complexity in a simple API."
   ]
  },
  {
   "cell_type": "code",
   "execution_count": 15,
   "id": "5d05a49f-4d39-4b98-82c1-e80a4a0a18b6",
   "metadata": {},
   "outputs": [],
   "source": [
    "train_dataloader = DataLoader(training_data, batch_size=64, shuffle=True)\n",
    "test_dataloader = DataLoader(test_data, batch_size=64, shuffle=True)"
   ]
  },
  {
   "cell_type": "markdown",
   "id": "46a1c8cb-125a-41e1-b906-bdf7626097de",
   "metadata": {},
   "source": [
    "## Build a Neural Network"
   ]
  },
  {
   "cell_type": "code",
   "execution_count": 16,
   "id": "b67078ac-6225-4e9d-a97b-6d1e84b50efd",
   "metadata": {},
   "outputs": [],
   "source": [
    "class NeuralNetwork(nn.Module):\n",
    "    def __init__(self):\n",
    "        super().__init__()\n",
    "        self.flatten = nn.Flatten()\n",
    "        self.linear_relu_stack = nn.Sequential(\n",
    "            nn.Linear(28*28, 512),\n",
    "            nn.ReLU(),\n",
    "            nn.Linear(512, 512),\n",
    "            nn.ReLU(),\n",
    "            nn.Linear(512, 10),\n",
    "        )\n",
    "\n",
    "    def forward(self, x):\n",
    "        x = self.flatten(x)\n",
    "        logits = self.linear_relu_stack(x)\n",
    "        return logits"
   ]
  },
  {
   "cell_type": "code",
   "execution_count": 17,
   "id": "58c550bf-7005-4314-a698-8724274b3dd5",
   "metadata": {},
   "outputs": [
    {
     "name": "stdout",
     "output_type": "stream",
     "text": [
      "NeuralNetwork(\n",
      "  (flatten): Flatten(start_dim=1, end_dim=-1)\n",
      "  (linear_relu_stack): Sequential(\n",
      "    (0): Linear(in_features=784, out_features=512, bias=True)\n",
      "    (1): ReLU()\n",
      "    (2): Linear(in_features=512, out_features=512, bias=True)\n",
      "    (3): ReLU()\n",
      "    (4): Linear(in_features=512, out_features=10, bias=True)\n",
      "  )\n",
      ")\n"
     ]
    }
   ],
   "source": [
    "model = NeuralNetwork()\n",
    "print(model)"
   ]
  },
  {
   "cell_type": "code",
   "execution_count": 18,
   "id": "e788b018-2ac1-4404-b614-5f04f0c39a99",
   "metadata": {},
   "outputs": [
    {
     "name": "stdout",
     "output_type": "stream",
     "text": [
      "Predicted class: tensor([6])\n"
     ]
    }
   ],
   "source": [
    "X = torch.rand(1, 28, 28)\n",
    "logits = model(X)\n",
    "pred_probab = nn.Softmax(dim=1)(logits)\n",
    "y_pred = pred_probab.argmax(1)\n",
    "print(f\"Predicted class: {y_pred}\")"
   ]
  },
  {
   "cell_type": "markdown",
   "id": "6fd62f16-caf2-4a70-8b29-4e205940166b",
   "metadata": {},
   "source": [
    "### `nn.Flatten`"
   ]
  },
  {
   "cell_type": "markdown",
   "id": "7cdf7d20-25fa-4e0a-9eba-433a6b65a8f1",
   "metadata": {},
   "source": [
    "`nn.Flatten` converts each $28 \\times 28$ tensor into a contigous array of length $28^2 = 784$."
   ]
  },
  {
   "cell_type": "code",
   "execution_count": 19,
   "id": "31940580-948e-4e0a-9629-f7bfa5270070",
   "metadata": {},
   "outputs": [
    {
     "name": "stdout",
     "output_type": "stream",
     "text": [
      "torch.Size([3, 28, 28])\n",
      "torch.Size([3, 784])\n"
     ]
    }
   ],
   "source": [
    "input_image = torch.rand(3,28,28)\n",
    "print(input_image.size())\n",
    "\n",
    "flatten = nn.Flatten()\n",
    "flat_image = flatten(input_image)\n",
    "print(flat_image.size())"
   ]
  },
  {
   "cell_type": "markdown",
   "id": "7788b900-fc08-4bf4-a435-268a0d9c2355",
   "metadata": {},
   "source": [
    "### `nn.Linear`"
   ]
  },
  {
   "cell_type": "markdown",
   "id": "508cc895-b80e-49fe-88c7-ef54251c4eba",
   "metadata": {},
   "source": [
    "`nn.Linear` applies a linear transformation to the input using the stored weights and bias."
   ]
  },
  {
   "cell_type": "code",
   "execution_count": 20,
   "id": "f2717286-aa43-42b4-871e-7da2d7adb03b",
   "metadata": {},
   "outputs": [
    {
     "name": "stdout",
     "output_type": "stream",
     "text": [
      "torch.Size([3, 20])\n"
     ]
    }
   ],
   "source": [
    "layer1 = nn.Linear(in_features=28*28, out_features=20)\n",
    "hidden1 = layer1(flat_image)\n",
    "print(hidden1.size())"
   ]
  },
  {
   "cell_type": "markdown",
   "id": "c9ffca66-023f-4577-aa2f-fd0d67dead3f",
   "metadata": {},
   "source": [
    "### `nn.ReLU`"
   ]
  },
  {
   "cell_type": "markdown",
   "id": "1ed53909-aee0-4e3e-a2ee-51feff6cdd7a",
   "metadata": {},
   "source": [
    "`nn.ReLU` is the ReLU activation function."
   ]
  },
  {
   "cell_type": "code",
   "execution_count": 21,
   "id": "1fc3966a-b529-4120-8f84-a4bc55a783b1",
   "metadata": {},
   "outputs": [
    {
     "name": "stdout",
     "output_type": "stream",
     "text": [
      "Before ReLU: tensor([[ 0.2350, -0.0289,  0.1699,  0.4927, -0.3503,  0.5136,  0.4753, -0.2643,\n",
      "          0.1195,  0.2828, -0.3880,  0.0331, -0.9412,  0.6458,  0.2580,  0.4402,\n",
      "          0.0915, -0.1692, -0.1692,  0.4055],\n",
      "        [ 0.0579, -0.1365,  0.3722,  0.5767, -0.4901,  0.2911,  0.2982, -0.7449,\n",
      "         -0.2749, -0.0053, -0.2136, -0.1810, -0.9047,  0.3272,  0.0355,  0.0789,\n",
      "          0.2059, -0.0081, -0.1435,  0.3834],\n",
      "        [ 0.1904, -0.1059,  0.2962,  0.5991, -0.2065,  0.3181,  0.4250, -0.3816,\n",
      "         -0.0279, -0.0171, -0.0984, -0.2073, -0.6598,  0.6578,  0.1427,  0.2869,\n",
      "         -0.1859,  0.0947, -0.2936,  0.3301]], grad_fn=<AddmmBackward0>)\n",
      "\n",
      "\n",
      "After ReLU: tensor([[0.2350, 0.0000, 0.1699, 0.4927, 0.0000, 0.5136, 0.4753, 0.0000, 0.1195,\n",
      "         0.2828, 0.0000, 0.0331, 0.0000, 0.6458, 0.2580, 0.4402, 0.0915, 0.0000,\n",
      "         0.0000, 0.4055],\n",
      "        [0.0579, 0.0000, 0.3722, 0.5767, 0.0000, 0.2911, 0.2982, 0.0000, 0.0000,\n",
      "         0.0000, 0.0000, 0.0000, 0.0000, 0.3272, 0.0355, 0.0789, 0.2059, 0.0000,\n",
      "         0.0000, 0.3834],\n",
      "        [0.1904, 0.0000, 0.2962, 0.5991, 0.0000, 0.3181, 0.4250, 0.0000, 0.0000,\n",
      "         0.0000, 0.0000, 0.0000, 0.0000, 0.6578, 0.1427, 0.2869, 0.0000, 0.0947,\n",
      "         0.0000, 0.3301]], grad_fn=<ReluBackward0>)\n"
     ]
    }
   ],
   "source": [
    "print(f\"Before ReLU: {hidden1}\\n\\n\")\n",
    "hidden1 = nn.ReLU()(hidden1)\n",
    "print(f\"After ReLU: {hidden1}\")"
   ]
  },
  {
   "cell_type": "markdown",
   "id": "ec07c217-784b-4120-8607-4176cfbed10f",
   "metadata": {},
   "source": [
    "### `nn.Sequential`"
   ]
  },
  {
   "cell_type": "markdown",
   "id": "66d549d0-0d96-4358-9891-3a27aad3eb8d",
   "metadata": {},
   "source": [
    "`nn.Sequential` is a container of different modules such that the data flows from one module to the next."
   ]
  },
  {
   "cell_type": "markdown",
   "id": "5506b380-459a-474f-bb85-ea2d2f71220e",
   "metadata": {},
   "source": [
    "### `nn.Softmax`"
   ]
  },
  {
   "cell_type": "markdown",
   "id": "a15e9b05-bd1d-43e4-9a00-bcfa0903ffa0",
   "metadata": {},
   "source": [
    "Quoting PyTorch docs, \"applies the Softmax function to an $n$-dimensional input Tensor rescaling them so that the elements of the $n$-dimensional output Tensor lie in the range $[0,1]$ and sum to $1$.\""
   ]
  },
  {
   "cell_type": "code",
   "execution_count": 22,
   "id": "20797178-9cf5-468f-8ff7-838115bcef5a",
   "metadata": {},
   "outputs": [
    {
     "data": {
      "text/plain": [
       "tensor([6])"
      ]
     },
     "execution_count": 22,
     "metadata": {},
     "output_type": "execute_result"
    }
   ],
   "source": [
    "softmax = nn.Softmax(dim=1)\n",
    "pred_probab = softmax(logits)\n",
    "# predicted classes\n",
    "pred_probab.argmax(1)"
   ]
  },
  {
   "cell_type": "markdown",
   "id": "6fa444d5-fdc2-4f30-a485-f59512920738",
   "metadata": {},
   "source": [
    "The cross-entropy loss in PyTorch applies the Softmax function to the outputs of the network to get a tensor of probabilities befor computing the loss."
   ]
  },
  {
   "cell_type": "markdown",
   "id": "6fd486ae-3551-4594-addc-6f5aada93374",
   "metadata": {},
   "source": [
    "## Network training"
   ]
  },
  {
   "cell_type": "code",
   "execution_count": 23,
   "id": "95777041-7ce1-4275-9ccb-8aca1b09d623",
   "metadata": {},
   "outputs": [],
   "source": [
    "def train_loop(dataloader, model, loss_fn, optimizer):\n",
    "    size = len(dataloader.dataset)\n",
    "    # Set the model to training mode - important for batch normalization and dropout layers\n",
    "    # Unnecessary in this situation but added for best practices\n",
    "    model.train()\n",
    "    for batch, (X, y) in enumerate(dataloader):\n",
    "        # Compute prediction and loss\n",
    "        pred = model(X)\n",
    "        loss = loss_fn(pred, y)\n",
    "\n",
    "        # Backpropagation\n",
    "        loss.backward()\n",
    "        optimizer.step()\n",
    "        optimizer.zero_grad()\n",
    "\n",
    "        if batch % 100 == 0:\n",
    "            loss, current = loss.item(), (batch + 1) * len(X)\n",
    "            print(f\"loss: {loss:>7f}  [{current:>5d}/{size:>5d}]\")"
   ]
  },
  {
   "cell_type": "code",
   "execution_count": 24,
   "id": "7d662e96-9113-4056-97bf-d6d1e7726059",
   "metadata": {},
   "outputs": [],
   "source": [
    "def test_loop(dataloader, model, loss_fn):\n",
    "    # Set the model to evaluation mode - important for batch normalization and dropout layers\n",
    "    # Unnecessary in this situation but added for best practices\n",
    "    model.eval()\n",
    "    size = len(dataloader.dataset)\n",
    "    num_batches = len(dataloader)\n",
    "    test_loss, correct = 0, 0\n",
    "\n",
    "    # Evaluating the model with torch.no_grad() ensures that no gradients \n",
    "    # are computed during test mode and also serves to reduce unnecessary \n",
    "    # gradient computations and memory usage for tensors with requires_grad = True\n",
    "    with torch.no_grad():\n",
    "        for X, y in dataloader:\n",
    "            pred = model(X)\n",
    "            test_loss += loss_fn(pred, y).item()\n",
    "            correct += (pred.argmax(1) == y).type(torch.float).sum().item()\n",
    "\n",
    "    test_loss /= num_batches\n",
    "    correct /= size\n",
    "    print(f\"Test Error: \\n Accuracy: {(100*correct):>0.1f}%, Avg loss: {test_loss:>8f} \\n\")"
   ]
  },
  {
   "cell_type": "code",
   "execution_count": 25,
   "id": "5d776547-5cde-474f-a3da-4962c9103fbe",
   "metadata": {},
   "outputs": [
    {
     "name": "stdout",
     "output_type": "stream",
     "text": [
      "Epoch 1\n",
      "-------------------------------\n",
      "loss: 2.310445  [   64/60000]\n",
      "loss: 2.246499  [ 6464/60000]\n",
      "loss: 2.133125  [12864/60000]\n",
      "loss: 2.037019  [19264/60000]\n",
      "loss: 1.909208  [25664/60000]\n",
      "loss: 1.621199  [32064/60000]\n",
      "loss: 1.510276  [38464/60000]\n",
      "loss: 1.353230  [44864/60000]\n",
      "loss: 1.222976  [51264/60000]\n",
      "loss: 0.963214  [57664/60000]\n",
      "Test Error: \n",
      " Accuracy: 64.6%, Avg loss: 1.080397 \n",
      "\n",
      "Epoch 2\n",
      "-------------------------------\n",
      "loss: 0.991990  [   64/60000]\n",
      "loss: 0.991054  [ 6464/60000]\n",
      "loss: 1.052297  [12864/60000]\n",
      "loss: 0.881786  [19264/60000]\n",
      "loss: 0.827121  [25664/60000]\n",
      "loss: 1.051338  [32064/60000]\n",
      "loss: 0.920639  [38464/60000]\n",
      "loss: 0.756990  [44864/60000]\n",
      "loss: 0.847547  [51264/60000]\n",
      "loss: 0.740295  [57664/60000]\n",
      "Test Error: \n",
      " Accuracy: 70.5%, Avg loss: 0.790329 \n",
      "\n",
      "Epoch 3\n",
      "-------------------------------\n",
      "loss: 0.655202  [   64/60000]\n",
      "loss: 0.744672  [ 6464/60000]\n",
      "loss: 0.895342  [12864/60000]\n",
      "loss: 0.821736  [19264/60000]\n",
      "loss: 0.729607  [25664/60000]\n",
      "loss: 0.631113  [32064/60000]\n",
      "loss: 0.653569  [38464/60000]\n",
      "loss: 0.680930  [44864/60000]\n",
      "loss: 0.546646  [51264/60000]\n",
      "loss: 0.571459  [57664/60000]\n",
      "Test Error: \n",
      " Accuracy: 75.5%, Avg loss: 0.691542 \n",
      "\n",
      "Epoch 4\n",
      "-------------------------------\n",
      "loss: 0.781311  [   64/60000]\n",
      "loss: 0.765146  [ 6464/60000]\n",
      "loss: 0.548140  [12864/60000]\n",
      "loss: 0.592339  [19264/60000]\n",
      "loss: 0.722371  [25664/60000]\n",
      "loss: 0.624854  [32064/60000]\n",
      "loss: 0.597970  [38464/60000]\n",
      "loss: 0.542251  [44864/60000]\n",
      "loss: 0.659792  [51264/60000]\n",
      "loss: 0.516441  [57664/60000]\n",
      "Test Error: \n",
      " Accuracy: 78.2%, Avg loss: 0.621732 \n",
      "\n",
      "Epoch 5\n",
      "-------------------------------\n",
      "loss: 0.631711  [   64/60000]\n",
      "loss: 0.592542  [ 6464/60000]\n",
      "loss: 0.404681  [12864/60000]\n",
      "loss: 0.619326  [19264/60000]\n",
      "loss: 0.569124  [25664/60000]\n",
      "loss: 0.501837  [32064/60000]\n",
      "loss: 0.479364  [38464/60000]\n",
      "loss: 0.584113  [44864/60000]\n",
      "loss: 0.683552  [51264/60000]\n",
      "loss: 0.611805  [57664/60000]\n",
      "Test Error: \n",
      " Accuracy: 79.5%, Avg loss: 0.581246 \n",
      "\n",
      "Epoch 6\n",
      "-------------------------------\n",
      "loss: 0.668591  [   64/60000]\n",
      "loss: 0.520356  [ 6464/60000]\n",
      "loss: 0.553262  [12864/60000]\n",
      "loss: 0.525046  [19264/60000]\n",
      "loss: 0.637422  [25664/60000]\n",
      "loss: 0.410844  [32064/60000]\n",
      "loss: 0.499949  [38464/60000]\n",
      "loss: 0.519668  [44864/60000]\n",
      "loss: 0.680012  [51264/60000]\n",
      "loss: 0.663177  [57664/60000]\n",
      "Test Error: \n",
      " Accuracy: 80.8%, Avg loss: 0.554289 \n",
      "\n",
      "Epoch 7\n",
      "-------------------------------\n",
      "loss: 0.457310  [   64/60000]\n",
      "loss: 0.440627  [ 6464/60000]\n",
      "loss: 0.411941  [12864/60000]\n",
      "loss: 0.469505  [19264/60000]\n",
      "loss: 0.531829  [25664/60000]\n",
      "loss: 0.496398  [32064/60000]\n",
      "loss: 0.500805  [38464/60000]\n",
      "loss: 0.611445  [44864/60000]\n",
      "loss: 0.769046  [51264/60000]\n",
      "loss: 0.526513  [57664/60000]\n",
      "Test Error: \n",
      " Accuracy: 81.4%, Avg loss: 0.532126 \n",
      "\n",
      "Epoch 8\n",
      "-------------------------------\n",
      "loss: 0.400374  [   64/60000]\n",
      "loss: 0.500769  [ 6464/60000]\n",
      "loss: 0.312390  [12864/60000]\n",
      "loss: 0.528185  [19264/60000]\n",
      "loss: 0.414868  [25664/60000]\n",
      "loss: 0.399644  [32064/60000]\n",
      "loss: 0.446300  [38464/60000]\n",
      "loss: 0.499221  [44864/60000]\n",
      "loss: 0.371224  [51264/60000]\n",
      "loss: 0.541278  [57664/60000]\n",
      "Test Error: \n",
      " Accuracy: 81.8%, Avg loss: 0.522562 \n",
      "\n",
      "Epoch 9\n",
      "-------------------------------\n",
      "loss: 0.376618  [   64/60000]\n",
      "loss: 0.475547  [ 6464/60000]\n",
      "loss: 0.458570  [12864/60000]\n",
      "loss: 0.387779  [19264/60000]\n",
      "loss: 0.419256  [25664/60000]\n",
      "loss: 0.397454  [32064/60000]\n",
      "loss: 0.485433  [38464/60000]\n",
      "loss: 0.458768  [44864/60000]\n",
      "loss: 0.453121  [51264/60000]\n",
      "loss: 0.540094  [57664/60000]\n",
      "Test Error: \n",
      " Accuracy: 81.8%, Avg loss: 0.504232 \n",
      "\n",
      "Epoch 10\n",
      "-------------------------------\n",
      "loss: 0.424113  [   64/60000]\n",
      "loss: 0.282908  [ 6464/60000]\n",
      "loss: 0.430277  [12864/60000]\n",
      "loss: 0.457998  [19264/60000]\n",
      "loss: 0.384648  [25664/60000]\n",
      "loss: 0.516913  [32064/60000]\n",
      "loss: 0.463417  [38464/60000]\n",
      "loss: 0.405890  [44864/60000]\n",
      "loss: 0.437617  [51264/60000]\n",
      "loss: 0.427977  [57664/60000]\n",
      "Test Error: \n",
      " Accuracy: 82.3%, Avg loss: 0.496067 \n",
      "\n",
      "Epoch 11\n",
      "-------------------------------\n",
      "loss: 0.422895  [   64/60000]\n",
      "loss: 0.541143  [ 6464/60000]\n",
      "loss: 0.520355  [12864/60000]\n",
      "loss: 0.374616  [19264/60000]\n",
      "loss: 0.482119  [25664/60000]\n",
      "loss: 0.358356  [32064/60000]\n",
      "loss: 0.395746  [38464/60000]\n",
      "loss: 0.341063  [44864/60000]\n",
      "loss: 0.552227  [51264/60000]\n",
      "loss: 0.537507  [57664/60000]\n",
      "Test Error: \n",
      " Accuracy: 82.8%, Avg loss: 0.487235 \n",
      "\n",
      "Epoch 12\n",
      "-------------------------------\n",
      "loss: 0.413498  [   64/60000]\n",
      "loss: 0.636454  [ 6464/60000]\n",
      "loss: 0.499009  [12864/60000]\n",
      "loss: 0.329232  [19264/60000]\n",
      "loss: 0.294318  [25664/60000]\n",
      "loss: 0.461178  [32064/60000]\n",
      "loss: 0.358332  [38464/60000]\n",
      "loss: 0.548231  [44864/60000]\n",
      "loss: 0.323714  [51264/60000]\n",
      "loss: 0.456708  [57664/60000]\n",
      "Test Error: \n",
      " Accuracy: 83.0%, Avg loss: 0.484763 \n",
      "\n",
      "Epoch 13\n",
      "-------------------------------\n",
      "loss: 0.426549  [   64/60000]\n",
      "loss: 0.402029  [ 6464/60000]\n",
      "loss: 0.489513  [12864/60000]\n",
      "loss: 0.265225  [19264/60000]\n",
      "loss: 0.441471  [25664/60000]\n",
      "loss: 0.300179  [32064/60000]\n",
      "loss: 0.372981  [38464/60000]\n",
      "loss: 0.445763  [44864/60000]\n",
      "loss: 0.338210  [51264/60000]\n",
      "loss: 0.590316  [57664/60000]\n",
      "Test Error: \n",
      " Accuracy: 83.4%, Avg loss: 0.471171 \n",
      "\n",
      "Epoch 14\n",
      "-------------------------------\n",
      "loss: 0.508249  [   64/60000]\n",
      "loss: 0.468272  [ 6464/60000]\n",
      "loss: 0.380273  [12864/60000]\n",
      "loss: 0.403070  [19264/60000]\n",
      "loss: 0.460572  [25664/60000]\n",
      "loss: 0.508683  [32064/60000]\n",
      "loss: 0.497105  [38464/60000]\n",
      "loss: 0.346494  [44864/60000]\n",
      "loss: 0.446582  [51264/60000]\n",
      "loss: 0.334454  [57664/60000]\n",
      "Test Error: \n",
      " Accuracy: 83.6%, Avg loss: 0.470938 \n",
      "\n",
      "Epoch 15\n",
      "-------------------------------\n",
      "loss: 0.433862  [   64/60000]\n",
      "loss: 0.485312  [ 6464/60000]\n",
      "loss: 0.212616  [12864/60000]\n",
      "loss: 0.419189  [19264/60000]\n",
      "loss: 0.366108  [25664/60000]\n",
      "loss: 0.420802  [32064/60000]\n",
      "loss: 0.312332  [38464/60000]\n",
      "loss: 0.404629  [44864/60000]\n",
      "loss: 0.406530  [51264/60000]\n",
      "loss: 0.385488  [57664/60000]\n",
      "Test Error: \n",
      " Accuracy: 83.8%, Avg loss: 0.458722 \n",
      "\n",
      "Epoch 16\n",
      "-------------------------------\n",
      "loss: 0.463202  [   64/60000]\n",
      "loss: 0.432146  [ 6464/60000]\n",
      "loss: 0.491471  [12864/60000]\n",
      "loss: 0.290044  [19264/60000]\n",
      "loss: 0.628050  [25664/60000]\n",
      "loss: 0.506846  [32064/60000]\n",
      "loss: 0.481450  [38464/60000]\n",
      "loss: 0.388363  [44864/60000]\n",
      "loss: 0.336906  [51264/60000]\n",
      "loss: 0.359058  [57664/60000]\n",
      "Test Error: \n",
      " Accuracy: 83.7%, Avg loss: 0.459542 \n",
      "\n",
      "Epoch 17\n",
      "-------------------------------\n",
      "loss: 0.289069  [   64/60000]\n",
      "loss: 0.395338  [ 6464/60000]\n",
      "loss: 0.367929  [12864/60000]\n",
      "loss: 0.453749  [19264/60000]\n",
      "loss: 0.530838  [25664/60000]\n",
      "loss: 0.578627  [32064/60000]\n",
      "loss: 0.419143  [38464/60000]\n",
      "loss: 0.369824  [44864/60000]\n",
      "loss: 0.362414  [51264/60000]\n",
      "loss: 0.586792  [57664/60000]\n",
      "Test Error: \n",
      " Accuracy: 83.8%, Avg loss: 0.460098 \n",
      "\n",
      "Epoch 18\n",
      "-------------------------------\n",
      "loss: 0.383822  [   64/60000]\n",
      "loss: 0.322823  [ 6464/60000]\n",
      "loss: 0.535410  [12864/60000]\n",
      "loss: 0.358016  [19264/60000]\n",
      "loss: 0.505499  [25664/60000]\n",
      "loss: 0.593489  [32064/60000]\n",
      "loss: 0.421081  [38464/60000]\n",
      "loss: 0.324849  [44864/60000]\n",
      "loss: 0.412220  [51264/60000]\n",
      "loss: 0.483600  [57664/60000]\n",
      "Test Error: \n",
      " Accuracy: 83.9%, Avg loss: 0.456848 \n",
      "\n",
      "Epoch 19\n",
      "-------------------------------\n",
      "loss: 0.303040  [   64/60000]\n",
      "loss: 0.296805  [ 6464/60000]\n",
      "loss: 0.481008  [12864/60000]\n",
      "loss: 0.455819  [19264/60000]\n",
      "loss: 0.408460  [25664/60000]\n",
      "loss: 0.485666  [32064/60000]\n",
      "loss: 0.398268  [38464/60000]\n",
      "loss: 0.284577  [44864/60000]\n",
      "loss: 0.383485  [51264/60000]\n",
      "loss: 0.284328  [57664/60000]\n",
      "Test Error: \n",
      " Accuracy: 84.2%, Avg loss: 0.444936 \n",
      "\n",
      "Epoch 20\n",
      "-------------------------------\n",
      "loss: 0.374472  [   64/60000]\n",
      "loss: 0.337479  [ 6464/60000]\n",
      "loss: 0.374725  [12864/60000]\n",
      "loss: 0.287188  [19264/60000]\n",
      "loss: 0.306487  [25664/60000]\n",
      "loss: 0.551046  [32064/60000]\n",
      "loss: 0.354089  [38464/60000]\n",
      "loss: 0.416617  [44864/60000]\n",
      "loss: 0.352127  [51264/60000]\n",
      "loss: 0.341108  [57664/60000]\n",
      "Test Error: \n",
      " Accuracy: 84.4%, Avg loss: 0.440719 \n",
      "\n",
      "Done!\n"
     ]
    }
   ],
   "source": [
    "model = NeuralNetwork()\n",
    "learning_rate = 5e-3\n",
    "batch_size = 64\n",
    "\n",
    "loss_fn = nn.CrossEntropyLoss()\n",
    "optimizer = torch.optim.SGD(model.parameters(), lr=learning_rate)\n",
    "\n",
    "epochs = 20\n",
    "for t in range(epochs):\n",
    "    print(f\"Epoch {t+1}\\n-------------------------------\")\n",
    "    train_loop(train_dataloader, model, loss_fn, optimizer)\n",
    "    test_loop(test_dataloader, model, loss_fn)\n",
    "print(\"Done!\")"
   ]
  },
  {
   "cell_type": "markdown",
   "id": "92e2f3f4-8e38-44bc-88aa-7d7c3a2320d3",
   "metadata": {},
   "source": [
    "## Exercise:\n",
    "Solve the classification problem for the MNIST dataset. Use the `torchvision.datasets.MNIST` class to load the data. Plot the _average_ lossess on the training and the test sets vs epoch number. Check the predictions of the trained model on some samples of the test dataset."
   ]
  },
  {
   "cell_type": "code",
   "execution_count": null,
   "id": "a8c64a96-5269-4ddd-a839-9784020e92b5",
   "metadata": {},
   "outputs": [],
   "source": []
  }
 ],
 "metadata": {
  "kernelspec": {
   "display_name": "Python 3 (ipykernel)",
   "language": "python",
   "name": "python3"
  },
  "language_info": {
   "codemirror_mode": {
    "name": "ipython",
    "version": 3
   },
   "file_extension": ".py",
   "mimetype": "text/x-python",
   "name": "python",
   "nbconvert_exporter": "python",
   "pygments_lexer": "ipython3",
   "version": "3.11.6"
  }
 },
 "nbformat": 4,
 "nbformat_minor": 5
}
