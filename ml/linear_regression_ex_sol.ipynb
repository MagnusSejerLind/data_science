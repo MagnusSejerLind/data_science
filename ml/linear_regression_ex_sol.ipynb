{
 "cells": [
  {
   "cell_type": "markdown",
   "id": "52c16ec9-834d-4803-b680-af1e17ccdf97",
   "metadata": {},
   "source": [
    "# Exercises - Machine Learning for linear regression"
   ]
  },
  {
   "cell_type": "markdown",
   "id": "0be057ec-c629-4b0d-a2e6-b855daf4693b",
   "metadata": {},
   "source": [
    "In this exercise, you will implement linear regression with multiple variables to predict the _prices of houses_. \n",
    "The file ex1data2.txt contains a training set of housing prices in Portland, Oregon. The first column is the size of the house (in square feet), the second column is the number of bedrooms, and the third column is the price of the house."
   ]
  },
  {
   "cell_type": "markdown",
   "id": "8d9c61c7-1a73-4e3a-825f-53e91b83ae53",
   "metadata": {},
   "source": [
    "1. Import the relevant Python libraries and load the dataset"
   ]
  },
  {
   "cell_type": "code",
   "execution_count": 1,
   "id": "b93777a9-7384-4460-90b1-3dac8449bce8",
   "metadata": {},
   "outputs": [],
   "source": [
    "import numpy as np\n",
    "import matplotlib.pyplot as plt"
   ]
  },
  {
   "cell_type": "code",
   "execution_count": 157,
   "id": "43528c8a-5851-410a-8987-59e773fec58f",
   "metadata": {},
   "outputs": [
    {
     "name": "stdout",
     "output_type": "stream",
     "text": [
      "(47, 2)\n"
     ]
    }
   ],
   "source": [
    "dataset = np.loadtxt(\"data/linear_regression/ex1data2.txt\", delimiter=\",\")\n",
    "X = dataset[:,:2]\n",
    "# note: prices are stored in a column array\n",
    "y = dataset[:,2].reshape(-1,1)\n",
    "print(X.shape)"
   ]
  },
  {
   "cell_type": "markdown",
   "id": "36a903cc-b4a3-4200-a7a6-690448e70036",
   "metadata": {},
   "source": [
    "2. Standardize the dataset"
   ]
  },
  {
   "cell_type": "code",
   "execution_count": 161,
   "id": "c55ecbc6-9403-423a-9279-70c7b57676e2",
   "metadata": {},
   "outputs": [
    {
     "name": "stdout",
     "output_type": "stream",
     "text": [
      "[2000.68085106    3.17021277] [7.86202619e+02 7.52842809e-01]\n"
     ]
    }
   ],
   "source": [
    "# standardization of the dataset\n",
    "mean_features = np.mean(X, axis=0)\n",
    "std_features = np.std(X, axis=0)\n",
    "mean_targets = np.mean(y, axis=0)\n",
    "std_targets = np.std(y, axis=0)\n",
    "print(mean_features, std_features)\n",
    "X_norm = (X-mean_features)/std_features\n",
    "y_norm = (y-mean_targets)/std_targets\n",
    "# adding column of ones\n",
    "X_norm = np.hstack((np.ones((X_norm.shape[0],1)), X_norm))"
   ]
  },
  {
   "cell_type": "markdown",
   "id": "f3483115-7b23-4d9e-bcab-2c95e5bbd187",
   "metadata": {},
   "source": [
    "3. Implement the _LinearRegression_ class (must contain the methods _fit_, _MSE_ and _predict_, as in the example). Use Gradient Descent for minimization."
   ]
  },
  {
   "cell_type": "code",
   "execution_count": 98,
   "id": "30e605ac-496a-4e4c-aa58-85264962e541",
   "metadata": {},
   "outputs": [],
   "source": [
    "class LinearRegression:\n",
    "    def __init__(self):\n",
    "        b = -1.\n",
    "        a = 1.\n",
    "        self.w = (b - a) * np.random.random_sample((3,1)) + a\n",
    "\n",
    "    def fit(self, X, y, learning_rate, epochs):\n",
    "        self.error = []\n",
    "\n",
    "        N = X.shape[0]\n",
    "        \n",
    "        for i in range(epochs):\n",
    "            dMSEdw = (2/N)*X.T @ (X @ self.w-y)\n",
    "            self.w -= learning_rate*dMSEdw\n",
    "            training_prediction = self.predict(X)\n",
    "            error = self.MSE(training_prediction, y)\n",
    "            self.error.append(error)\n",
    "    \n",
    "    def MSE(self, prediction, y):\n",
    "        return np.linalg.norm(prediction - y)**2/prediction.shape[0]\n",
    "\n",
    "    def predict(self, X):\n",
    "        return X @ self.w"
   ]
  },
  {
   "cell_type": "markdown",
   "id": "168b3f08-d79d-4604-9645-55f2e42ca165",
   "metadata": {},
   "source": [
    "4. Solve the Linear Regression problem using Gradient Descent minimization and plot the MSE vs epoch number."
   ]
  },
  {
   "cell_type": "code",
   "execution_count": 101,
   "id": "c8a2fe6d-d43d-43e4-8071-4e62d821d331",
   "metadata": {},
   "outputs": [],
   "source": [
    "lr = LinearRegression()\n",
    "lr.fit(X_norm, y_norm, 0.1, 100)"
   ]
  },
  {
   "cell_type": "code",
   "execution_count": 102,
   "id": "46ef0f4d-5c12-43d7-84f4-5209e82a2379",
   "metadata": {},
   "outputs": [
    {
     "data": {
      "image/png": "[encoded data removed]",
      "text/plain": [
       "<Figure size 640x480 with 1 Axes>"
      ]
     },
     "metadata": {},
     "output_type": "display_data"
    }
   ],
   "source": [
    "# learning curve\n",
    "plt.plot(np.arange(1,len(lr.error)+1,1),lr.error)\n",
    "plt.show()"
   ]
  },
  {
   "cell_type": "markdown",
   "id": "1fd92b55-83bd-48ce-a823-1b9840a33cf5",
   "metadata": {},
   "source": [
    "5. Solve again the problem without standardization and plot again the MSE vs epoch number. Compare the value of the learning rate with that used in the case with standardization"
   ]
  },
  {
   "cell_type": "markdown",
   "id": "bbfdf472-c724-4f58-bbc1-83276158c48f",
   "metadata": {},
   "source": [
    "6. Evaluate the MSE on the dataset"
   ]
  },
  {
   "cell_type": "code",
   "execution_count": 103,
   "id": "69072872-a918-4026-abe7-e8575cbfcdac",
   "metadata": {},
   "outputs": [
    {
     "data": {
      "text/plain": [
       "2.604213808151509"
      ]
     },
     "execution_count": 103,
     "metadata": {},
     "output_type": "execute_result"
    }
   ],
   "source": [
    "# training set error\n",
    "train_pred = lr.predict(X_norm)\n",
    "lr.MSE(train_pred, X_norm)"
   ]
  },
  {
   "cell_type": "markdown",
   "id": "329905ee-b074-48e5-af7e-8865f8fc27ec",
   "metadata": {},
   "source": [
    "7. Use the fitted model to predict the price of a 1650 ft^2 house with 3 bedrooms."
   ]
  },
  {
   "cell_type": "code",
   "execution_count": 139,
   "id": "fc7b2bcb-e88e-4cfd-9e89-effc27594b59",
   "metadata": {},
   "outputs": [
    {
     "data": {
      "text/plain": [
       "293082.82491900667"
      ]
     },
     "execution_count": 139,
     "metadata": {},
     "output_type": "execute_result"
    }
   ],
   "source": [
    "x = [[1650.,3.]]\n",
    "x_norm = (x-mean_features)/std_features\n",
    "x_norm = np.hstack((np.ones((x_norm.shape[0],1)), x_norm))\n",
    "p = lr.predict(x_norm)\n",
    "(p*std_targets + mean_targets).item()"
   ]
  },
  {
   "cell_type": "markdown",
   "id": "d8fd98cf-3abe-447a-a214-ecdcd4715ee8",
   "metadata": {},
   "source": [
    "8. Find the optimal weights of the model by solving the Normal Equation and compare them with those found using Gradient Descent."
   ]
  },
  {
   "cell_type": "code",
   "execution_count": 104,
   "id": "ac6429a8-3a2a-4357-832f-6ac52859da43",
   "metadata": {},
   "outputs": [
    {
     "data": {
      "text/plain": [
       "array([[ 4.58863776e-12],\n",
       "       [ 8.84715982e-01],\n",
       "       [-5.31288137e-02]])"
      ]
     },
     "execution_count": 104,
     "metadata": {},
     "output_type": "execute_result"
    }
   ],
   "source": [
    "lr.w"
   ]
  },
  {
   "cell_type": "code",
   "execution_count": 159,
   "id": "7d8c6172-456b-42af-b7be-ad853920eca6",
   "metadata": {},
   "outputs": [
    {
     "data": {
      "text/plain": [
       "array([[-5.42776240e-17],\n",
       "       [ 8.84765988e-01],\n",
       "       [-5.31788197e-02]])"
      ]
     },
     "execution_count": 159,
     "metadata": {},
     "output_type": "execute_result"
    }
   ],
   "source": [
    "np.linalg.inv(X_norm.T @ X_norm) @ X_norm.T @ y_norm"
   ]
  },
  {
   "cell_type": "markdown",
   "id": "d58201e0-2641-4102-b346-3f3cb7d3c69d",
   "metadata": {},
   "source": [
    "9. (scikit-learn) Use the [SGDRegressor](https://scikit-learn.org/stable/modules/generated/sklearn.linear_model.SGDRegressor.html#sklearn.linear_model.SGDRegressor) class of scikit-learn to train a linear regression model on the house prices dataset. Normalize the dataset using a [StandardScaler](https://scikit-learn.org/stable/modules/generated/sklearn.preprocessing.StandardScaler.html#sklearn.preprocessing.StandardScaler) pipeline. Compare the prediction for a 1650 ft^2 / 3 bedroom house with that obtained above."
   ]
  },
  {
   "cell_type": "code",
   "execution_count": 142,
   "id": "987d17af-57c3-4414-a5e4-00d778dfcf68",
   "metadata": {},
   "outputs": [
    {
     "data": {
      "text/html": [
       "<style>#sk-container-id-11 {color: black;}#sk-container-id-11 pre{padding: 0;}#sk-container-id-11 div.sk-toggleable {background-color: white;}#sk-container-id-11 label.sk-toggleable__label {cursor: pointer;display: block;width: 100%;margin-bottom: 0;padding: 0.3em;box-sizing: border-box;text-align: center;}#sk-container-id-11 label.sk-toggleable__label-arrow:before {content: \"▸\";float: left;margin-right: 0.25em;color: #696969;}#sk-container-id-11 label.sk-toggleable__label-arrow:hover:before {color: black;}#sk-container-id-11 div.sk-estimator:hover label.sk-toggleable__label-arrow:before {color: black;}#sk-container-id-11 div.sk-toggleable__content {max-height: 0;max-width: 0;overflow: hidden;text-align: left;background-color: #f0f8ff;}#sk-container-id-11 div.sk-toggleable__content pre {margin: 0.2em;color: black;border-radius: 0.25em;background-color: #f0f8ff;}#sk-container-id-11 input.sk-toggleable__control:checked~div.sk-toggleable__content {max-height: 200px;max-width: 100%;overflow: auto;}#sk-container-id-11 input.sk-toggleable__control:checked~label.sk-toggleable__label-arrow:before {content: \"▾\";}#sk-container-id-11 div.sk-estimator input.sk-toggleable__control:checked~label.sk-toggleable__label {background-color: #d4ebff;}#sk-container-id-11 div.sk-label input.sk-toggleable__control:checked~label.sk-toggleable__label {background-color: #d4ebff;}#sk-container-id-11 input.sk-hidden--visually {border: 0;clip: rect(1px 1px 1px 1px);clip: rect(1px, 1px, 1px, 1px);height: 1px;margin: -1px;overflow: hidden;padding: 0;position: absolute;width: 1px;}#sk-container-id-11 div.sk-estimator {font-family: monospace;background-color: #f0f8ff;border: 1px dotted black;border-radius: 0.25em;box-sizing: border-box;margin-bottom: 0.5em;}#sk-container-id-11 div.sk-estimator:hover {background-color: #d4ebff;}#sk-container-id-11 div.sk-parallel-item::after {content: \"\";width: 100%;border-bottom: 1px solid gray;flex-grow: 1;}#sk-container-id-11 div.sk-label:hover label.sk-toggleable__label {background-color: #d4ebff;}#sk-container-id-11 div.sk-serial::before {content: \"\";position: absolute;border-left: 1px solid gray;box-sizing: border-box;top: 0;bottom: 0;left: 50%;z-index: 0;}#sk-container-id-11 div.sk-serial {display: flex;flex-direction: column;align-items: center;background-color: white;padding-right: 0.2em;padding-left: 0.2em;position: relative;}#sk-container-id-11 div.sk-item {position: relative;z-index: 1;}#sk-container-id-11 div.sk-parallel {display: flex;align-items: stretch;justify-content: center;background-color: white;position: relative;}#sk-container-id-11 div.sk-item::before, #sk-container-id-11 div.sk-parallel-item::before {content: \"\";position: absolute;border-left: 1px solid gray;box-sizing: border-box;top: 0;bottom: 0;left: 50%;z-index: -1;}#sk-container-id-11 div.sk-parallel-item {display: flex;flex-direction: column;z-index: 1;position: relative;background-color: white;}#sk-container-id-11 div.sk-parallel-item:first-child::after {align-self: flex-end;width: 50%;}#sk-container-id-11 div.sk-parallel-item:last-child::after {align-self: flex-start;width: 50%;}#sk-container-id-11 div.sk-parallel-item:only-child::after {width: 0;}#sk-container-id-11 div.sk-dashed-wrapped {border: 1px dashed gray;margin: 0 0.4em 0.5em 0.4em;box-sizing: border-box;padding-bottom: 0.4em;background-color: white;}#sk-container-id-11 div.sk-label label {font-family: monospace;font-weight: bold;display: inline-block;line-height: 1.2em;}#sk-container-id-11 div.sk-label-container {text-align: center;}#sk-container-id-11 div.sk-container {/* jupyter's `normalize.less` sets `[hidden] { display: none; }` but bootstrap.min.css set `[hidden] { display: none !important; }` so we also need the `!important` here to be able to override the default hidden behavior on the sphinx rendered scikit-learn.org. See: https://github.com/scikit-learn/scikit-learn/issues/21755 */display: inline-block !important;position: relative;}#sk-container-id-11 div.sk-text-repr-fallback {display: none;}</style><div id=\"sk-container-id-11\" class=\"sk-top-container\"><div class=\"sk-text-repr-fallback\"><pre>Pipeline(steps=[(&#x27;standardscaler&#x27;, StandardScaler()),\n",
       "                (&#x27;sgdregressor&#x27;, SGDRegressor())])</pre><b>In a Jupyter environment, please rerun this cell to show the HTML representation or trust the notebook. <br />On GitHub, the HTML representation is unable to render, please try loading this page with nbviewer.org.</b></div><div class=\"sk-container\" hidden><div class=\"sk-item sk-dashed-wrapped\"><div class=\"sk-label-container\"><div class=\"sk-label sk-toggleable\"><input class=\"sk-toggleable__control sk-hidden--visually\" id=\"sk-estimator-id-20\" type=\"checkbox\" ><label for=\"sk-estimator-id-20\" class=\"sk-toggleable__label sk-toggleable__label-arrow\">Pipeline</label><div class=\"sk-toggleable__content\"><pre>Pipeline(steps=[(&#x27;standardscaler&#x27;, StandardScaler()),\n",
       "                (&#x27;sgdregressor&#x27;, SGDRegressor())])</pre></div></div></div><div class=\"sk-serial\"><div class=\"sk-item\"><div class=\"sk-estimator sk-toggleable\"><input class=\"sk-toggleable__control sk-hidden--visually\" id=\"sk-estimator-id-21\" type=\"checkbox\" ><label for=\"sk-estimator-id-21\" class=\"sk-toggleable__label sk-toggleable__label-arrow\">StandardScaler</label><div class=\"sk-toggleable__content\"><pre>StandardScaler()</pre></div></div></div><div class=\"sk-item\"><div class=\"sk-estimator sk-toggleable\"><input class=\"sk-toggleable__control sk-hidden--visually\" id=\"sk-estimator-id-22\" type=\"checkbox\" ><label for=\"sk-estimator-id-22\" class=\"sk-toggleable__label sk-toggleable__label-arrow\">SGDRegressor</label><div class=\"sk-toggleable__content\"><pre>SGDRegressor()</pre></div></div></div></div></div></div></div>"
      ],
      "text/plain": [
       "Pipeline(steps=[('standardscaler', StandardScaler()),\n",
       "                ('sgdregressor', SGDRegressor())])"
      ]
     },
     "execution_count": 142,
     "metadata": {},
     "output_type": "execute_result"
    }
   ],
   "source": [
    "from sklearn.linear_model import SGDRegressor\n",
    "from sklearn.pipeline import make_pipeline\n",
    "from sklearn.preprocessing import StandardScaler\n",
    "reg = make_pipeline(StandardScaler(), SGDRegressor(max_iter=1000, tol=1e-3))\n",
    "reg.fit(X, y.ravel())"
   ]
  },
  {
   "cell_type": "code",
   "execution_count": 143,
   "id": "4346ae36-295c-462a-ace7-7f4929bc3b67",
   "metadata": {},
   "outputs": [
    {
     "data": {
      "text/plain": [
       "293200.19341263885"
      ]
     },
     "execution_count": 143,
     "metadata": {},
     "output_type": "execute_result"
    }
   ],
   "source": [
    "reg.predict([[1650.,3]]).item()"
   ]
  },
  {
   "cell_type": "markdown",
   "id": "cd4b7c05-08a3-4a77-8773-f1e7e46b871a",
   "metadata": {},
   "source": [
    "10. Compute the coefficient of determination ($R^2$) from the definition for the model fit at point 4. and compare it with the one of the scikit-learn model."
   ]
  },
  {
   "cell_type": "code",
   "execution_count": 145,
   "id": "ef905638-d308-42b0-b89e-f308d44807a3",
   "metadata": {},
   "outputs": [
    {
     "data": {
      "text/plain": [
       "0.7329227922497983"
      ]
     },
     "execution_count": 145,
     "metadata": {},
     "output_type": "execute_result"
    }
   ],
   "source": [
    "reg.score(X, y)"
   ]
  },
  {
   "cell_type": "code",
   "execution_count": 148,
   "id": "67a5cee0-03e7-415d-99af-413672911574",
   "metadata": {},
   "outputs": [],
   "source": [
    "error = train_pred - y_norm"
   ]
  },
  {
   "cell_type": "code",
   "execution_count": 158,
   "id": "bf599c56-57e5-422f-b971-0eacaafafac0",
   "metadata": {},
   "outputs": [
    {
     "name": "stdout",
     "output_type": "stream",
     "text": [
      "0.7329450158282267\n"
     ]
    }
   ],
   "source": [
    "std_error = np.std(error)\n",
    "Rsq = 1 - std_error**2/np.std(y_norm)**2\n",
    "print(Rsq)"
   ]
  }
 ],
 "metadata": {
  "kernelspec": {
   "display_name": "Python 3 (ipykernel)",
   "language": "python",
   "name": "python3"
  },
  "language_info": {
   "codemirror_mode": {
    "name": "ipython",
    "version": 3
   },
   "file_extension": ".py",
   "mimetype": "text/x-python",
   "name": "python",
   "nbconvert_exporter": "python",
   "pygments_lexer": "ipython3",
   "version": "3.11.4"
  }
 },
 "nbformat": 4,
 "nbformat_minor": 5
}
