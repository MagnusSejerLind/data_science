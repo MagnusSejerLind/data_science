{
 "cells": [
  {
   "cell_type": "markdown",
   "id": "52c16ec9-834d-4803-b680-af1e17ccdf97",
   "metadata": {},
   "source": [
    "# Exercises - Machine Learning for linear regression"
   ]
  },
  {
   "cell_type": "markdown",
   "id": "0be057ec-c629-4b0d-a2e6-b855daf4693b",
   "metadata": {},
   "source": [
    "In this exercise, you will implement linear regression with multiple variables to predict the _prices of houses_. \n",
    "The file ex1data2.txt contains a training set of housing prices in Portland, Oregon. The first column is the size of the house (in square feet), the second column is the number of bedrooms, and the third column is the price of the house."
   ]
  },
  {
   "cell_type": "markdown",
   "id": "8d9c61c7-1a73-4e3a-825f-53e91b83ae53",
   "metadata": {},
   "source": [
    "1. Import the relevant Python libraries and load the dataset"
   ]
  },
  {
   "cell_type": "code",
   "execution_count": 1,
   "id": "b93777a9-7384-4460-90b1-3dac8449bce8",
   "metadata": {},
   "outputs": [],
   "source": [
    "import numpy as np\n",
    "import matplotlib.pyplot as plt"
   ]
  },
  {
   "cell_type": "code",
   "execution_count": 2,
   "id": "43528c8a-5851-410a-8987-59e773fec58f",
   "metadata": {},
   "outputs": [
    {
     "name": "stdout",
     "output_type": "stream",
     "text": [
      "(47, 2)\n"
     ]
    }
   ],
   "source": [
    "dataset = np.loadtxt(\"data/linear_regression/ex1data2.txt\", delimiter=\",\")\n",
    "X = dataset[:,:2]\n",
    "# note: prices are stored in a column array\n",
    "y = dataset[:,2].reshape(-1,1)\n",
    "print(X.shape)"
   ]
  },
  {
   "cell_type": "markdown",
   "id": "36a903cc-b4a3-4200-a7a6-690448e70036",
   "metadata": {},
   "source": [
    "2. Standardize the dataset"
   ]
  },
  {
   "cell_type": "code",
   "execution_count": 3,
   "id": "c55ecbc6-9403-423a-9279-70c7b57676e2",
   "metadata": {},
   "outputs": [
    {
     "name": "stdout",
     "output_type": "stream",
     "text": [
      "[2000.68085106    3.17021277] [7.86202619e+02 7.52842809e-01]\n"
     ]
    }
   ],
   "source": [
    "# standardization of the dataset\n",
    "mean_features = np.mean(X, axis=0)\n",
    "std_features = np.std(X, axis=0)\n",
    "mean_targets = np.mean(y, axis=0)\n",
    "std_targets = np.std(y, axis=0)\n",
    "print(mean_features, std_features)\n",
    "X_norm = (X-mean_features)/std_features\n",
    "y_norm = (y-mean_targets)/std_targets\n",
    "# adding column of ones\n",
    "X_norm = np.hstack((np.ones((X_norm.shape[0],1)), X_norm))"
   ]
  },
  {
   "cell_type": "markdown",
   "id": "f3483115-7b23-4d9e-bcab-2c95e5bbd187",
   "metadata": {},
   "source": [
    "3. Implement the _LinearRegression_ class (must contain the methods _fit_, _MSE_ and _predict_, as in the example). Use Gradient Descent for minimization."
   ]
  },
  {
   "cell_type": "code",
   "execution_count": 4,
   "id": "30e605ac-496a-4e4c-aa58-85264962e541",
   "metadata": {},
   "outputs": [],
   "source": [
    "class LinearRegression:\n",
    "    def __init__(self):\n",
    "        b = -1.\n",
    "        a = 1.\n",
    "        self.w = (b - a) * np.random.random_sample((3,1)) + a\n",
    "\n",
    "    def fit(self, X, y, learning_rate, epochs):\n",
    "        self.error = []\n",
    "\n",
    "        N = X.shape[0]\n",
    "        \n",
    "        for i in range(epochs):\n",
    "            dMSEdw = (2/N)*X.T @ (X @ self.w-y)\n",
    "            self.w -= learning_rate*dMSEdw\n",
    "            training_prediction = self.predict(X)\n",
    "            error = self.MSE(training_prediction, y)\n",
    "            self.error.append(error)\n",
    "    \n",
    "    def MSE(self, prediction, y):\n",
    "        return np.linalg.norm(prediction - y)**2/prediction.shape[0]\n",
    "\n",
    "    def predict(self, X):\n",
    "        return X @ self.w"
   ]
  },
  {
   "cell_type": "markdown",
   "id": "168b3f08-d79d-4604-9645-55f2e42ca165",
   "metadata": {},
   "source": [
    "4. Solve the Linear Regression problem using Gradient Descent minimization and plot the MSE vs epoch number."
   ]
  },
  {
   "cell_type": "code",
   "execution_count": 5,
   "id": "c8a2fe6d-d43d-43e4-8071-4e62d821d331",
   "metadata": {},
   "outputs": [],
   "source": [
    "lr = LinearRegression()\n",
    "lr.fit(X_norm, y_norm, 0.1, 100)"
   ]
  },
  {
   "cell_type": "code",
   "execution_count": 6,
   "id": "46ef0f4d-5c12-43d7-84f4-5209e82a2379",
   "metadata": {},
   "outputs": [
    {
     "data": {
      "image/png": "[encoded data removed]",
      "text/plain": [
       "<Figure size 432x288 with 1 Axes>"
      ]
     },
     "metadata": {
      "needs_background": "light"
     },
     "output_type": "display_data"
    }
   ],
   "source": [
    "# learning curve\n",
    "plt.plot(np.arange(1,len(lr.error)+1,1),lr.error)\n",
    "plt.show()"
   ]
  },
  {
   "cell_type": "markdown",
   "id": "1fd92b55-83bd-48ce-a823-1b9840a33cf5",
   "metadata": {},
   "source": [
    "5. Solve again the problem without standardization and plot again the MSE vs epoch number. Compare the value of the learning rate with that used in the case with standardization"
   ]
  },
  {
   "cell_type": "markdown",
   "id": "bbfdf472-c724-4f58-bbc1-83276158c48f",
   "metadata": {},
   "source": [
    "6. Evaluate the MSE on the dataset"
   ]
  },
  {
   "cell_type": "code",
   "execution_count": 7,
   "id": "69072872-a918-4026-abe7-e8575cbfcdac",
   "metadata": {},
   "outputs": [
    {
     "data": {
      "text/plain": [
       "0.26705498946466394"
      ]
     },
     "execution_count": 7,
     "metadata": {},
     "output_type": "execute_result"
    }
   ],
   "source": [
    "# training set error\n",
    "train_pred = lr.predict(X_norm)\n",
    "lr.MSE(train_pred, y_norm)"
   ]
  },
  {
   "cell_type": "markdown",
   "id": "329905ee-b074-48e5-af7e-8865f8fc27ec",
   "metadata": {},
   "source": [
    "7. Use the fitted model to predict the price of a 1650 ft^2 house with 3 bedrooms."
   ]
  },
  {
   "cell_type": "code",
   "execution_count": 8,
   "id": "fc7b2bcb-e88e-4cfd-9e89-effc27594b59",
   "metadata": {},
   "outputs": [
    {
     "data": {
      "text/plain": [
       "293083.9750097479"
      ]
     },
     "execution_count": 8,
     "metadata": {},
     "output_type": "execute_result"
    }
   ],
   "source": [
    "x = [[1650.,3.]]\n",
    "x_norm = (x-mean_features)/std_features\n",
    "x_norm = np.hstack((np.ones((x_norm.shape[0],1)), x_norm))\n",
    "p = lr.predict(x_norm)\n",
    "(p*std_targets + mean_targets).item()"
   ]
  },
  {
   "cell_type": "markdown",
   "id": "d8fd98cf-3abe-447a-a214-ecdcd4715ee8",
   "metadata": {},
   "source": [
    "8. Find the optimal weights of the model by solving the Normal Equation and compare them with those found using Gradient Descent."
   ]
  },
  {
   "cell_type": "code",
   "execution_count": 9,
   "id": "ac6429a8-3a2a-4357-832f-6ac52859da43",
   "metadata": {},
   "outputs": [
    {
     "data": {
      "text/plain": [
       "array([[-8.00252636e-12],\n",
       "       [ 8.84673712e-01],\n",
       "       [-5.30865440e-02]])"
      ]
     },
     "execution_count": 9,
     "metadata": {},
     "output_type": "execute_result"
    }
   ],
   "source": [
    "lr.w"
   ]
  },
  {
   "cell_type": "code",
   "execution_count": 10,
   "id": "7d8c6172-456b-42af-b7be-ad853920eca6",
   "metadata": {},
   "outputs": [
    {
     "data": {
      "text/plain": [
       "array([[-4.85722573e-17],\n",
       "       [ 8.84765988e-01],\n",
       "       [-5.31788197e-02]])"
      ]
     },
     "execution_count": 10,
     "metadata": {},
     "output_type": "execute_result"
    }
   ],
   "source": [
    "np.linalg.inv(X_norm.T @ X_norm) @ X_norm.T @ y_norm"
   ]
  },
  {
   "cell_type": "markdown",
   "id": "d58201e0-2641-4102-b346-3f3cb7d3c69d",
   "metadata": {},
   "source": [
    "9. (scikit-learn) Use the [SGDRegressor](https://scikit-learn.org/stable/modules/generated/sklearn.linear_model.SGDRegressor.html#sklearn.linear_model.SGDRegressor) class of scikit-learn to train a linear regression model on the house prices dataset. Normalize the dataset using a [StandardScaler](https://scikit-learn.org/stable/modules/generated/sklearn.preprocessing.StandardScaler.html#sklearn.preprocessing.StandardScaler) pipeline. Compare the prediction for a 1650 ft^2 / 3 bedroom house with that obtained above."
   ]
  },
  {
   "cell_type": "code",
   "execution_count": 11,
   "id": "987d17af-57c3-4414-a5e4-00d778dfcf68",
   "metadata": {},
   "outputs": [
    {
     "name": "stderr",
     "output_type": "stream",
     "text": [
      "c:\\ProgramData\\Anaconda3\\lib\\site-packages\\scipy\\__init__.py:138: UserWarning: A NumPy version >=1.16.5 and <1.23.0 is required for this version of SciPy (detected version 1.24.4)\n",
      "  warnings.warn(f\"A NumPy version >={np_minversion} and <{np_maxversion} is required for this version of \"\n"
     ]
    },
    {
     "data": {
      "text/plain": [
       "Pipeline(steps=[('standardscaler', StandardScaler()),\n",
       "                ('sgdregressor', SGDRegressor())])"
      ]
     },
     "execution_count": 11,
     "metadata": {},
     "output_type": "execute_result"
    }
   ],
   "source": [
    "from sklearn.linear_model import SGDRegressor\n",
    "from sklearn.pipeline import make_pipeline\n",
    "from sklearn.preprocessing import StandardScaler\n",
    "reg = make_pipeline(StandardScaler(), SGDRegressor(max_iter=1000, tol=1e-3))\n",
    "reg.fit(X, y.ravel())"
   ]
  },
  {
   "cell_type": "code",
   "execution_count": 12,
   "id": "4346ae36-295c-462a-ace7-7f4929bc3b67",
   "metadata": {},
   "outputs": [
    {
     "data": {
      "text/plain": [
       "293165.63229600224"
      ]
     },
     "execution_count": 12,
     "metadata": {},
     "output_type": "execute_result"
    }
   ],
   "source": [
    "reg.predict([[1650.,3]]).item()"
   ]
  },
  {
   "cell_type": "markdown",
   "id": "cd4b7c05-08a3-4a77-8773-f1e7e46b871a",
   "metadata": {},
   "source": [
    "10. Compute the coefficient of determination ($R^2$) from the definition for the model fit at point 4. and compare it with the one of the scikit-learn model."
   ]
  },
  {
   "cell_type": "code",
   "execution_count": 13,
   "id": "ef905638-d308-42b0-b89e-f308d44807a3",
   "metadata": {},
   "outputs": [
    {
     "data": {
      "text/plain": [
       "0.7329237090642963"
      ]
     },
     "execution_count": 13,
     "metadata": {},
     "output_type": "execute_result"
    }
   ],
   "source": [
    "reg.score(X, y)"
   ]
  },
  {
   "cell_type": "code",
   "execution_count": 14,
   "id": "67a5cee0-03e7-415d-99af-413672911574",
   "metadata": {},
   "outputs": [],
   "source": [
    "error = train_pred - y_norm"
   ]
  },
  {
   "cell_type": "code",
   "execution_count": 15,
   "id": "bf599c56-57e5-422f-b971-0eacaafafac0",
   "metadata": {},
   "outputs": [
    {
     "name": "stdout",
     "output_type": "stream",
     "text": [
      "0.7329450105353361\n"
     ]
    }
   ],
   "source": [
    "std_error = np.std(error)\n",
    "Rsq = 1 - std_error**2/np.std(y_norm)**2\n",
    "print(Rsq)"
   ]
  },
  {
   "cell_type": "code",
   "execution_count": null,
   "id": "e477ff32-8189-4524-b702-3e20d0b0c0b1",
   "metadata": {},
   "outputs": [],
   "source": []
  }
 ],
 "metadata": {
  "kernelspec": {
   "display_name": "Python 3 (ipykernel)",
   "language": "python",
   "name": "python3"
  },
  "language_info": {
   "codemirror_mode": {
    "name": "ipython",
    "version": 3
   },
   "file_extension": ".py",
   "mimetype": "text/x-python",
   "name": "python",
   "nbconvert_exporter": "python",
   "pygments_lexer": "ipython3",
   "version": "3.8.8"
  }
 },
 "nbformat": 4,
 "nbformat_minor": 5
}
