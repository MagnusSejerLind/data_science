{
 "cells": [
  {
   "cell_type": "markdown",
   "id": "52c16ec9-834d-4803-b680-af1e17ccdf97",
   "metadata": {},
   "source": [
    "# Exercises - Machine Learning for logistic regression"
   ]
  },
  {
   "cell_type": "code",
   "execution_count": 4,
   "id": "0f2623dd-e9de-425e-990d-78f343d1a5e4",
   "metadata": {},
   "outputs": [],
   "source": [
    "import numpy as np\n",
    "import matplotlib.pyplot as plt"
   ]
  },
  {
   "cell_type": "markdown",
   "id": "15e8718a-4fdc-40a1-ad1a-b194f80f13cb",
   "metadata": {},
   "source": [
    "## Sonar dataset"
   ]
  },
  {
   "cell_type": "markdown",
   "id": "24025203-47c6-4562-a7aa-56b564f33329",
   "metadata": {},
   "source": [
    "In this exercise, you will solve a binary classification problem solved using logistic regression. The dataset consists of 60 features corresponding to sonar measurements, with a binary label that indicates whether the sample is a rock (0) or a mine (1)."
   ]
  },
  {
   "cell_type": "code",
   "execution_count": 5,
   "id": "4f1dc6b4-102d-47f3-ba7f-e3fe78d9e72a",
   "metadata": {},
   "outputs": [],
   "source": [
    "def sigmoid(x):\n",
    "    return 1/(1 + np.exp(-x))"
   ]
  },
  {
   "cell_type": "code",
   "execution_count": 6,
   "id": "0fe4b9e6-ede5-46c1-9804-8697bd2eb864",
   "metadata": {},
   "outputs": [],
   "source": [
    "data = np.loadtxt(\"data/logistic_regression/sonar.csv\", delimiter = \",\")\n",
    "X = data[:, :-1]\n",
    "y = data[:, -1]"
   ]
  },
  {
   "cell_type": "code",
   "execution_count": 7,
   "id": "5e4bb20e-ab2f-4542-9a2a-8e50619785a9",
   "metadata": {},
   "outputs": [],
   "source": [
    "# shuffling of the dataset\n",
    "np.random.shuffle(data)\n",
    "num_features = X.shape[1]\n",
    "X_shuffled = data[:,:num_features]\n",
    "y_shuffled = data[:,num_features]"
   ]
  },
  {
   "cell_type": "markdown",
   "id": "8f992de6-8f21-4200-bbcb-6fac7a24704a",
   "metadata": {},
   "source": [
    "1. Standardize the shuffled dataset according to the mean and the standard deviation over the samples. Split the dataset into training (80%) and test (20%) sets."
   ]
  },
  {
   "cell_type": "code",
   "execution_count": null,
   "id": "11589a2e-75a0-4dfc-94f9-035f10d3797a",
   "metadata": {},
   "outputs": [],
   "source": []
  },
  {
   "cell_type": "markdown",
   "id": "f8bf1ae9-56cc-4cde-a021-a9d2d3551e77",
   "metadata": {},
   "source": [
    "2. Use the _LogisticRegression_ class from the example (toy dataset) to build and train a model. Adjust the number of epochs and learning rate. Plot the cost vs epochs."
   ]
  },
  {
   "cell_type": "code",
   "execution_count": null,
   "id": "d7fec7be-785c-4740-a9d0-a3e67488d085",
   "metadata": {},
   "outputs": [],
   "source": []
  },
  {
   "cell_type": "markdown",
   "id": "c48d1f32-75eb-4732-95b4-b21dcf6f2849",
   "metadata": {},
   "source": [
    "3. Evaluate the misclassifications (number of wrong classifications) over the training and the test sets. Compute the accuracy (number of correct classifications/number of samples) over the training and the test sets."
   ]
  },
  {
   "cell_type": "code",
   "execution_count": null,
   "id": "96cbb362-c53a-4c4b-9616-caadd0d896b3",
   "metadata": {},
   "outputs": [],
   "source": []
  },
  {
   "cell_type": "markdown",
   "id": "c82f4ff6-d080-47a1-9d35-e37ff271e8d9",
   "metadata": {},
   "source": [
    "## Microchips dataset"
   ]
  },
  {
   "cell_type": "markdown",
   "id": "01ffbfc2-cdcd-4461-8584-9b069fdc38f6",
   "metadata": {},
   "source": [
    "In this exercise, you will implement regularized logistic regression to predict whether microchips from a fabrication plant passes quality assurance. Suppose that you have the test results for some microchips on two tests. From these two tests, you would like to determine whether the microchips should be accepted or rejected. To help you make the decision, you have a dataset of test results on past microchips, from which you can build a logistic regression model."
   ]
  },
  {
   "cell_type": "code",
   "execution_count": 8,
   "id": "3f1c6527-59f7-452e-8c96-069545dc5234",
   "metadata": {},
   "outputs": [],
   "source": [
    "# Load the dataset\n",
    "data = np.loadtxt(\"data/logistic_regression/microchip.txt\", delimiter = \",\")\n",
    "X = data[:, :-1]\n",
    "y = data[:, -1]"
   ]
  },
  {
   "cell_type": "code",
   "execution_count": 9,
   "id": "016a9ec0-c4a3-422b-ac97-2a7f42a45563",
   "metadata": {},
   "outputs": [],
   "source": [
    "# Auxiliary functions\n",
    "def sigmoid(x):\n",
    "    return 1/(1 + np.exp(-x))\n",
    "\n",
    "def mapFeature(X1, X2):\n",
    "    degree = 6\n",
    "    out = np.ones((len(X1),1))\n",
    "    for i in range(1,degree+1):\n",
    "        for j in range(0,i+1):\n",
    "            prod = (X1**(i-j))*(X2**j)\n",
    "            out = np.append(out, prod.reshape(-1,1), axis=1)\n",
    "    return out\n",
    "\n",
    "def plotDecisionBoundary(model):\n",
    "    x1s = np.linspace(-1.,1.,50)\n",
    "    x2s = np.linspace(-1.,1.,50)\n",
    "    xs, ys = np.meshgrid(x1s, x2s, indexing='ij')\n",
    "    zs = np.zeros((len(x1s),len(x2s)))\n",
    "    Xs_ = np.zeros((len(x1s), len(x2s), 28))\n",
    "    for i in range(len(xs)):\n",
    "        Xs_[i,:,:] = mapFeature(xs[i,:], ys[i,:])\n",
    "        zs[i,:] = (Xs_[i,:,:] @ model.weights).ravel()\n",
    "\n",
    "    plt.contour(xs, ys, zs, [0.])\n",
    "    plt.scatter(X[:,0], X[:,1], c=y)\n",
    "    plt.show()"
   ]
  },
  {
   "cell_type": "code",
   "execution_count": 10,
   "id": "89011b11-bf76-46f1-85a6-67f7c1dde183",
   "metadata": {},
   "outputs": [],
   "source": [
    "# Extend the features of the dataset up to sixth powers\n",
    "X_ = mapFeature(X[:,0], X[:,1])\n",
    "num_features = X_.shape[1]\n",
    "\n",
    "# Split the dataset (0.8-0.1-0.1)\n",
    "X_train = X_[:94,:]\n",
    "y_train = y[:94]\n",
    "X_val = X_[94:106,:]\n",
    "y_val = y[94:106]\n",
    "X_test = X_[106:,:]\n",
    "y_test = y[106:]\n",
    "\n",
    "y_train = y_train.reshape(-1,1)\n",
    "y_val = y_val.reshape(-1,1)\n",
    "y_test = y_test.reshape(-1,1)"
   ]
  },
  {
   "cell_type": "markdown",
   "id": "34abdcaf-edb3-4999-9e07-f561c360d5e9",
   "metadata": {},
   "source": [
    "1. Plot the dataset."
   ]
  },
  {
   "cell_type": "code",
   "execution_count": null,
   "id": "2059f7f8-2ae0-4e8c-9167-e11512c63fd4",
   "metadata": {},
   "outputs": [],
   "source": []
  },
  {
   "cell_type": "markdown",
   "id": "499e11ff-4b96-4d57-a7de-22dab294794a",
   "metadata": {},
   "source": [
    "2. Implement the _LogisticRegression_ class with Tikhonov regularization. Add a method called `accuracy` that computes the prediction accuracy on a given dataset."
   ]
  },
  {
   "cell_type": "code",
   "execution_count": null,
   "id": "01cf1852-c001-4d09-997a-65beab338d1b",
   "metadata": {},
   "outputs": [],
   "source": []
  },
  {
   "cell_type": "markdown",
   "id": "e1a9d980-3666-4232-ac83-606992793f0e",
   "metadata": {},
   "source": [
    "3. Train a Logistic Regression model on the training set for 10000 epochs with `reg_param = 0.` and `learning_rate = 10.` and evaluate its accuracy on the training, validation and test sets."
   ]
  },
  {
   "cell_type": "code",
   "execution_count": null,
   "id": "b56a007d-b186-4046-9571-a1776f840387",
   "metadata": {},
   "outputs": [],
   "source": []
  },
  {
   "cell_type": "markdown",
   "id": "33de4b28-3a4f-4d57-bef3-da43b19d60a4",
   "metadata": {},
   "source": [
    "4. Plot the cost (training) vs epochs and the decision boundary (use the auxiliary function defined above)."
   ]
  },
  {
   "cell_type": "code",
   "execution_count": null,
   "id": "fabf623e-c709-4a2a-8d39-568be6f4db71",
   "metadata": {},
   "outputs": [],
   "source": []
  },
  {
   "cell_type": "markdown",
   "id": "2f67944b-95c6-40d5-bba4-0c52bd1a9143",
   "metadata": {},
   "source": [
    "5. Perform a grid search to find the \"best\" regularization parameter in the interval (0.,2.), while keeping fixed the learning rate and the number of epochs. Re-train the model using the best value and the training+validation set."
   ]
  },
  {
   "cell_type": "code",
   "execution_count": null,
   "id": "9f344d24-d235-40b1-ac46-5523bab64caa",
   "metadata": {},
   "outputs": [],
   "source": []
  },
  {
   "cell_type": "markdown",
   "id": "48953603-f011-4872-9300-e9de615d1aeb",
   "metadata": {},
   "source": [
    "6. Plot the decision boundary of the fitted model and evaluate the accuracy on the test set."
   ]
  },
  {
   "cell_type": "code",
   "execution_count": null,
   "id": "40bf24c9-5cb2-4aef-84f6-2ab325604d89",
   "metadata": {},
   "outputs": [],
   "source": []
  }
 ],
 "metadata": {
  "kernelspec": {
   "display_name": "Python 3 (ipykernel)",
   "language": "python",
   "name": "python3"
  },
  "language_info": {
   "codemirror_mode": {
    "name": "ipython",
    "version": 3
   },
   "file_extension": ".py",
   "mimetype": "text/x-python",
   "name": "python",
   "nbconvert_exporter": "python",
   "pygments_lexer": "ipython3",
   "version": "3.11.4"
  }
 },
 "nbformat": 4,
 "nbformat_minor": 5
}
